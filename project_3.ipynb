{
 "cells": [
  {
   "cell_type": "markdown",
   "metadata": {},
   "source": [
    "# Project 3"
   ]
  },
  {
   "cell_type": "markdown",
   "metadata": {},
   "source": [
    "- **Dataset(s) to be used:** [[Electric Vehicle Data in Washington State](https://data.wa.gov/demographics/Washington-State-Cities-and-Counties/g2kf-7usg/about_data)]\n",
    "[[Presidential Election Results in Washington State](https://results.vote.wa.gov/results/20241105/export.html)]\n",
    "[[Population by County in Washington State](https://ofm.wa.gov/washington-data-research/population-demographics/population-estimates/april-1-official-population-estimates)]\n",
    "\n",
    "- **Analysis question:** [Do Washington State counties that voted for Kamala Harris in the 2024 election have more EVs per capita?]\n",
    "- **Columns that will (likely) be used:**\n",
    "  - [County]\n",
    "  - [Jurisdiction]\n",
    "  - [Candidate]\n",
    "  - [PercentageOfTotalVotes]\n",
    "  - [2024 Population Estimate]\n",
    "- (If you're using multiple datasets) **Columns to be used to merge/join them:**\n",
    "  - [Dataset 1] [County]\n",
    "  - [Dataset 2] [County]\n",
    "  - [Dataset 3] [County]\n",
    "- **Hypothesis**: [Percentage of voters in Washington State counties who voted for Kamala Harris in the 2024 presidential election is associated with a higher count of EVs per capita.]\n",
    "- **Site URL:** [URL from Publish section]"
   ]
  },
  {
   "cell_type": "markdown",
   "metadata": {},
   "source": [
    "### Import Packages:"
   ]
  },
  {
   "cell_type": "code",
   "execution_count": 147,
   "metadata": {},
   "outputs": [],
   "source": [
    "import plotly.io as pio\n",
    "\n",
    "pio.renderers.default = \"vscode+jupyterlab+notebook_connected\""
   ]
  },
  {
   "cell_type": "code",
   "execution_count": 148,
   "metadata": {},
   "outputs": [],
   "source": [
    "import pandas as pd\n",
    "import plotly.express as px"
   ]
  },
  {
   "cell_type": "markdown",
   "metadata": {},
   "source": [
    "### Read in EV Data:"
   ]
  },
  {
   "cell_type": "code",
   "execution_count": 149,
   "metadata": {},
   "outputs": [
    {
     "data": {
      "text/html": [
       "<div>\n",
       "<style scoped>\n",
       "    .dataframe tbody tr th:only-of-type {\n",
       "        vertical-align: middle;\n",
       "    }\n",
       "\n",
       "    .dataframe tbody tr th {\n",
       "        vertical-align: top;\n",
       "    }\n",
       "\n",
       "    .dataframe thead th {\n",
       "        text-align: right;\n",
       "    }\n",
       "</style>\n",
       "<table border=\"1\" class=\"dataframe\">\n",
       "  <thead>\n",
       "    <tr style=\"text-align: right;\">\n",
       "      <th></th>\n",
       "      <th>VIN (1-10)</th>\n",
       "      <th>County</th>\n",
       "      <th>City</th>\n",
       "      <th>State</th>\n",
       "      <th>Postal Code</th>\n",
       "      <th>Model Year</th>\n",
       "      <th>Make</th>\n",
       "      <th>Model</th>\n",
       "      <th>Electric Vehicle Type</th>\n",
       "      <th>Clean Alternative Fuel Vehicle (CAFV) Eligibility</th>\n",
       "      <th>Electric Range</th>\n",
       "      <th>Base MSRP</th>\n",
       "      <th>Legislative District</th>\n",
       "      <th>DOL Vehicle ID</th>\n",
       "      <th>Vehicle Location</th>\n",
       "      <th>Electric Utility</th>\n",
       "      <th>2020 Census Tract</th>\n",
       "    </tr>\n",
       "  </thead>\n",
       "  <tbody>\n",
       "    <tr>\n",
       "      <th>0</th>\n",
       "      <td>1N4AZ0CP8D</td>\n",
       "      <td>King</td>\n",
       "      <td>Shoreline</td>\n",
       "      <td>WA</td>\n",
       "      <td>98177.0</td>\n",
       "      <td>2013</td>\n",
       "      <td>NISSAN</td>\n",
       "      <td>LEAF</td>\n",
       "      <td>Battery Electric Vehicle (BEV)</td>\n",
       "      <td>Clean Alternative Fuel Vehicle Eligible</td>\n",
       "      <td>75.0</td>\n",
       "      <td>0.0</td>\n",
       "      <td>32.0</td>\n",
       "      <td>125450447</td>\n",
       "      <td>POINT (-122.36498 47.72238)</td>\n",
       "      <td>CITY OF SEATTLE - (WA)|CITY OF TACOMA - (WA)</td>\n",
       "      <td>5.303302e+10</td>\n",
       "    </tr>\n",
       "    <tr>\n",
       "      <th>1</th>\n",
       "      <td>5YJSA1E45K</td>\n",
       "      <td>King</td>\n",
       "      <td>Seattle</td>\n",
       "      <td>WA</td>\n",
       "      <td>98112.0</td>\n",
       "      <td>2019</td>\n",
       "      <td>TESLA</td>\n",
       "      <td>MODEL S</td>\n",
       "      <td>Battery Electric Vehicle (BEV)</td>\n",
       "      <td>Clean Alternative Fuel Vehicle Eligible</td>\n",
       "      <td>270.0</td>\n",
       "      <td>0.0</td>\n",
       "      <td>43.0</td>\n",
       "      <td>101662900</td>\n",
       "      <td>POINT (-122.30207 47.64085)</td>\n",
       "      <td>CITY OF SEATTLE - (WA)|CITY OF TACOMA - (WA)</td>\n",
       "      <td>5.303301e+10</td>\n",
       "    </tr>\n",
       "    <tr>\n",
       "      <th>2</th>\n",
       "      <td>WVGUNPE28M</td>\n",
       "      <td>Kitsap</td>\n",
       "      <td>Olalla</td>\n",
       "      <td>WA</td>\n",
       "      <td>98359.0</td>\n",
       "      <td>2021</td>\n",
       "      <td>VOLKSWAGEN</td>\n",
       "      <td>ID.4</td>\n",
       "      <td>Battery Electric Vehicle (BEV)</td>\n",
       "      <td>Eligibility unknown as battery range has not b...</td>\n",
       "      <td>0.0</td>\n",
       "      <td>0.0</td>\n",
       "      <td>26.0</td>\n",
       "      <td>272118717</td>\n",
       "      <td>POINT (-122.54729 47.42602)</td>\n",
       "      <td>PUGET SOUND ENERGY INC</td>\n",
       "      <td>5.303509e+10</td>\n",
       "    </tr>\n",
       "    <tr>\n",
       "      <th>3</th>\n",
       "      <td>JTDKARFP6H</td>\n",
       "      <td>Thurston</td>\n",
       "      <td>Olympia</td>\n",
       "      <td>WA</td>\n",
       "      <td>98501.0</td>\n",
       "      <td>2017</td>\n",
       "      <td>TOYOTA</td>\n",
       "      <td>PRIUS PRIME</td>\n",
       "      <td>Plug-in Hybrid Electric Vehicle (PHEV)</td>\n",
       "      <td>Not eligible due to low battery range</td>\n",
       "      <td>25.0</td>\n",
       "      <td>0.0</td>\n",
       "      <td>22.0</td>\n",
       "      <td>349372929</td>\n",
       "      <td>POINT (-122.89166 47.03956)</td>\n",
       "      <td>PUGET SOUND ENERGY INC</td>\n",
       "      <td>5.306701e+10</td>\n",
       "    </tr>\n",
       "    <tr>\n",
       "      <th>4</th>\n",
       "      <td>1FADP5CU9G</td>\n",
       "      <td>Thurston</td>\n",
       "      <td>Olympia</td>\n",
       "      <td>WA</td>\n",
       "      <td>98506.0</td>\n",
       "      <td>2016</td>\n",
       "      <td>FORD</td>\n",
       "      <td>C-MAX</td>\n",
       "      <td>Plug-in Hybrid Electric Vehicle (PHEV)</td>\n",
       "      <td>Not eligible due to low battery range</td>\n",
       "      <td>19.0</td>\n",
       "      <td>0.0</td>\n",
       "      <td>22.0</td>\n",
       "      <td>171625653</td>\n",
       "      <td>POINT (-122.87741 47.05997)</td>\n",
       "      <td>PUGET SOUND ENERGY INC</td>\n",
       "      <td>5.306701e+10</td>\n",
       "    </tr>\n",
       "    <tr>\n",
       "      <th>...</th>\n",
       "      <td>...</td>\n",
       "      <td>...</td>\n",
       "      <td>...</td>\n",
       "      <td>...</td>\n",
       "      <td>...</td>\n",
       "      <td>...</td>\n",
       "      <td>...</td>\n",
       "      <td>...</td>\n",
       "      <td>...</td>\n",
       "      <td>...</td>\n",
       "      <td>...</td>\n",
       "      <td>...</td>\n",
       "      <td>...</td>\n",
       "      <td>...</td>\n",
       "      <td>...</td>\n",
       "      <td>...</td>\n",
       "      <td>...</td>\n",
       "    </tr>\n",
       "    <tr>\n",
       "      <th>216767</th>\n",
       "      <td>1G1RB6E44D</td>\n",
       "      <td>Douglas</td>\n",
       "      <td>East Wenatchee</td>\n",
       "      <td>WA</td>\n",
       "      <td>98802.0</td>\n",
       "      <td>2013</td>\n",
       "      <td>CHEVROLET</td>\n",
       "      <td>VOLT</td>\n",
       "      <td>Plug-in Hybrid Electric Vehicle (PHEV)</td>\n",
       "      <td>Clean Alternative Fuel Vehicle Eligible</td>\n",
       "      <td>38.0</td>\n",
       "      <td>0.0</td>\n",
       "      <td>12.0</td>\n",
       "      <td>122822822</td>\n",
       "      <td>POINT (-120.29473 47.41515)</td>\n",
       "      <td>PUD NO 1 OF DOUGLAS COUNTY</td>\n",
       "      <td>5.301795e+10</td>\n",
       "    </tr>\n",
       "    <tr>\n",
       "      <th>216768</th>\n",
       "      <td>KNDCS3LF9R</td>\n",
       "      <td>Whatcom</td>\n",
       "      <td>Bellingham</td>\n",
       "      <td>WA</td>\n",
       "      <td>98229.0</td>\n",
       "      <td>2024</td>\n",
       "      <td>KIA</td>\n",
       "      <td>NIRO</td>\n",
       "      <td>Plug-in Hybrid Electric Vehicle (PHEV)</td>\n",
       "      <td>Clean Alternative Fuel Vehicle Eligible</td>\n",
       "      <td>33.0</td>\n",
       "      <td>0.0</td>\n",
       "      <td>40.0</td>\n",
       "      <td>267143887</td>\n",
       "      <td>POINT (-122.45486 48.7449)</td>\n",
       "      <td>PUGET SOUND ENERGY INC||PUD NO 1 OF WHATCOM CO...</td>\n",
       "      <td>5.307300e+10</td>\n",
       "    </tr>\n",
       "    <tr>\n",
       "      <th>216769</th>\n",
       "      <td>7SAYGAEE9R</td>\n",
       "      <td>King</td>\n",
       "      <td>Redmond</td>\n",
       "      <td>WA</td>\n",
       "      <td>98052.0</td>\n",
       "      <td>2024</td>\n",
       "      <td>TESLA</td>\n",
       "      <td>MODEL Y</td>\n",
       "      <td>Battery Electric Vehicle (BEV)</td>\n",
       "      <td>Eligibility unknown as battery range has not b...</td>\n",
       "      <td>0.0</td>\n",
       "      <td>0.0</td>\n",
       "      <td>48.0</td>\n",
       "      <td>274988388</td>\n",
       "      <td>POINT (-122.13158 47.67858)</td>\n",
       "      <td>PUGET SOUND ENERGY INC||CITY OF TACOMA - (WA)</td>\n",
       "      <td>5.303303e+10</td>\n",
       "    </tr>\n",
       "    <tr>\n",
       "      <th>216770</th>\n",
       "      <td>1G1RB6E49D</td>\n",
       "      <td>Pierce</td>\n",
       "      <td>Gig Harbor</td>\n",
       "      <td>WA</td>\n",
       "      <td>98329.0</td>\n",
       "      <td>2013</td>\n",
       "      <td>CHEVROLET</td>\n",
       "      <td>VOLT</td>\n",
       "      <td>Plug-in Hybrid Electric Vehicle (PHEV)</td>\n",
       "      <td>Clean Alternative Fuel Vehicle Eligible</td>\n",
       "      <td>38.0</td>\n",
       "      <td>0.0</td>\n",
       "      <td>26.0</td>\n",
       "      <td>117353064</td>\n",
       "      <td>POINT (-122.6658 47.38336)</td>\n",
       "      <td>BONNEVILLE POWER ADMINISTRATION||CITY OF TACOM...</td>\n",
       "      <td>5.305307e+10</td>\n",
       "    </tr>\n",
       "    <tr>\n",
       "      <th>216771</th>\n",
       "      <td>5YJ3E1EA1P</td>\n",
       "      <td>Pierce</td>\n",
       "      <td>Bonney Lake</td>\n",
       "      <td>WA</td>\n",
       "      <td>98391.0</td>\n",
       "      <td>2023</td>\n",
       "      <td>TESLA</td>\n",
       "      <td>MODEL 3</td>\n",
       "      <td>Battery Electric Vehicle (BEV)</td>\n",
       "      <td>Eligibility unknown as battery range has not b...</td>\n",
       "      <td>0.0</td>\n",
       "      <td>0.0</td>\n",
       "      <td>31.0</td>\n",
       "      <td>240754006</td>\n",
       "      <td>POINT (-122.17144 47.19175)</td>\n",
       "      <td>PUGET SOUND ENERGY INC||CITY OF TACOMA - (WA)</td>\n",
       "      <td>5.305307e+10</td>\n",
       "    </tr>\n",
       "  </tbody>\n",
       "</table>\n",
       "<p>216772 rows × 17 columns</p>\n",
       "</div>"
      ],
      "text/plain": [
       "        VIN (1-10)    County            City State  Postal Code  Model Year  \\\n",
       "0       1N4AZ0CP8D      King       Shoreline    WA      98177.0        2013   \n",
       "1       5YJSA1E45K      King         Seattle    WA      98112.0        2019   \n",
       "2       WVGUNPE28M    Kitsap          Olalla    WA      98359.0        2021   \n",
       "3       JTDKARFP6H  Thurston         Olympia    WA      98501.0        2017   \n",
       "4       1FADP5CU9G  Thurston         Olympia    WA      98506.0        2016   \n",
       "...            ...       ...             ...   ...          ...         ...   \n",
       "216767  1G1RB6E44D   Douglas  East Wenatchee    WA      98802.0        2013   \n",
       "216768  KNDCS3LF9R   Whatcom      Bellingham    WA      98229.0        2024   \n",
       "216769  7SAYGAEE9R      King         Redmond    WA      98052.0        2024   \n",
       "216770  1G1RB6E49D    Pierce      Gig Harbor    WA      98329.0        2013   \n",
       "216771  5YJ3E1EA1P    Pierce     Bonney Lake    WA      98391.0        2023   \n",
       "\n",
       "              Make        Model                   Electric Vehicle Type  \\\n",
       "0           NISSAN         LEAF          Battery Electric Vehicle (BEV)   \n",
       "1            TESLA      MODEL S          Battery Electric Vehicle (BEV)   \n",
       "2       VOLKSWAGEN         ID.4          Battery Electric Vehicle (BEV)   \n",
       "3           TOYOTA  PRIUS PRIME  Plug-in Hybrid Electric Vehicle (PHEV)   \n",
       "4             FORD        C-MAX  Plug-in Hybrid Electric Vehicle (PHEV)   \n",
       "...            ...          ...                                     ...   \n",
       "216767   CHEVROLET         VOLT  Plug-in Hybrid Electric Vehicle (PHEV)   \n",
       "216768         KIA         NIRO  Plug-in Hybrid Electric Vehicle (PHEV)   \n",
       "216769       TESLA      MODEL Y          Battery Electric Vehicle (BEV)   \n",
       "216770   CHEVROLET         VOLT  Plug-in Hybrid Electric Vehicle (PHEV)   \n",
       "216771       TESLA      MODEL 3          Battery Electric Vehicle (BEV)   \n",
       "\n",
       "        Clean Alternative Fuel Vehicle (CAFV) Eligibility  Electric Range  \\\n",
       "0                 Clean Alternative Fuel Vehicle Eligible            75.0   \n",
       "1                 Clean Alternative Fuel Vehicle Eligible           270.0   \n",
       "2       Eligibility unknown as battery range has not b...             0.0   \n",
       "3                   Not eligible due to low battery range            25.0   \n",
       "4                   Not eligible due to low battery range            19.0   \n",
       "...                                                   ...             ...   \n",
       "216767            Clean Alternative Fuel Vehicle Eligible            38.0   \n",
       "216768            Clean Alternative Fuel Vehicle Eligible            33.0   \n",
       "216769  Eligibility unknown as battery range has not b...             0.0   \n",
       "216770            Clean Alternative Fuel Vehicle Eligible            38.0   \n",
       "216771  Eligibility unknown as battery range has not b...             0.0   \n",
       "\n",
       "        Base MSRP  Legislative District  DOL Vehicle ID  \\\n",
       "0             0.0                  32.0       125450447   \n",
       "1             0.0                  43.0       101662900   \n",
       "2             0.0                  26.0       272118717   \n",
       "3             0.0                  22.0       349372929   \n",
       "4             0.0                  22.0       171625653   \n",
       "...           ...                   ...             ...   \n",
       "216767        0.0                  12.0       122822822   \n",
       "216768        0.0                  40.0       267143887   \n",
       "216769        0.0                  48.0       274988388   \n",
       "216770        0.0                  26.0       117353064   \n",
       "216771        0.0                  31.0       240754006   \n",
       "\n",
       "                   Vehicle Location  \\\n",
       "0       POINT (-122.36498 47.72238)   \n",
       "1       POINT (-122.30207 47.64085)   \n",
       "2       POINT (-122.54729 47.42602)   \n",
       "3       POINT (-122.89166 47.03956)   \n",
       "4       POINT (-122.87741 47.05997)   \n",
       "...                             ...   \n",
       "216767  POINT (-120.29473 47.41515)   \n",
       "216768   POINT (-122.45486 48.7449)   \n",
       "216769  POINT (-122.13158 47.67858)   \n",
       "216770   POINT (-122.6658 47.38336)   \n",
       "216771  POINT (-122.17144 47.19175)   \n",
       "\n",
       "                                         Electric Utility  2020 Census Tract  \n",
       "0            CITY OF SEATTLE - (WA)|CITY OF TACOMA - (WA)       5.303302e+10  \n",
       "1            CITY OF SEATTLE - (WA)|CITY OF TACOMA - (WA)       5.303301e+10  \n",
       "2                                  PUGET SOUND ENERGY INC       5.303509e+10  \n",
       "3                                  PUGET SOUND ENERGY INC       5.306701e+10  \n",
       "4                                  PUGET SOUND ENERGY INC       5.306701e+10  \n",
       "...                                                   ...                ...  \n",
       "216767                         PUD NO 1 OF DOUGLAS COUNTY       5.301795e+10  \n",
       "216768  PUGET SOUND ENERGY INC||PUD NO 1 OF WHATCOM CO...       5.307300e+10  \n",
       "216769      PUGET SOUND ENERGY INC||CITY OF TACOMA - (WA)       5.303303e+10  \n",
       "216770  BONNEVILLE POWER ADMINISTRATION||CITY OF TACOM...       5.305307e+10  \n",
       "216771      PUGET SOUND ENERGY INC||CITY OF TACOMA - (WA)       5.305307e+10  \n",
       "\n",
       "[216772 rows x 17 columns]"
      ]
     },
     "execution_count": 149,
     "metadata": {},
     "output_type": "execute_result"
    }
   ],
   "source": [
    "ev_data = pd.read_csv(\"Electric_Vehicle_Population_Data_20241205 (2).csv\")\n",
    "ev_data"
   ]
  },
  {
   "cell_type": "markdown",
   "metadata": {},
   "source": [
    "We want the count of registered EVs per county, so we will use groupby:"
   ]
  },
  {
   "cell_type": "code",
   "execution_count": 150,
   "metadata": {},
   "outputs": [
    {
     "data": {
      "text/html": [
       "<div>\n",
       "<style scoped>\n",
       "    .dataframe tbody tr th:only-of-type {\n",
       "        vertical-align: middle;\n",
       "    }\n",
       "\n",
       "    .dataframe tbody tr th {\n",
       "        vertical-align: top;\n",
       "    }\n",
       "\n",
       "    .dataframe thead th {\n",
       "        text-align: right;\n",
       "    }\n",
       "</style>\n",
       "<table border=\"1\" class=\"dataframe\">\n",
       "  <thead>\n",
       "    <tr style=\"text-align: right;\">\n",
       "      <th></th>\n",
       "      <th>County</th>\n",
       "      <th>Registered EVs</th>\n",
       "    </tr>\n",
       "  </thead>\n",
       "  <tbody>\n",
       "    <tr>\n",
       "      <th>0</th>\n",
       "      <td>Ada</td>\n",
       "      <td>2</td>\n",
       "    </tr>\n",
       "    <tr>\n",
       "      <th>1</th>\n",
       "      <td>Adams</td>\n",
       "      <td>72</td>\n",
       "    </tr>\n",
       "    <tr>\n",
       "      <th>2</th>\n",
       "      <td>Alameda</td>\n",
       "      <td>5</td>\n",
       "    </tr>\n",
       "    <tr>\n",
       "      <th>3</th>\n",
       "      <td>Albemarle</td>\n",
       "      <td>2</td>\n",
       "    </tr>\n",
       "    <tr>\n",
       "      <th>4</th>\n",
       "      <td>Alexandria</td>\n",
       "      <td>3</td>\n",
       "    </tr>\n",
       "    <tr>\n",
       "      <th>...</th>\n",
       "      <td>...</td>\n",
       "      <td>...</td>\n",
       "    </tr>\n",
       "    <tr>\n",
       "      <th>200</th>\n",
       "      <td>Williamson</td>\n",
       "      <td>1</td>\n",
       "    </tr>\n",
       "    <tr>\n",
       "      <th>201</th>\n",
       "      <td>Yakima</td>\n",
       "      <td>1340</td>\n",
       "    </tr>\n",
       "    <tr>\n",
       "      <th>202</th>\n",
       "      <td>Yolo</td>\n",
       "      <td>2</td>\n",
       "    </tr>\n",
       "    <tr>\n",
       "      <th>203</th>\n",
       "      <td>York</td>\n",
       "      <td>1</td>\n",
       "    </tr>\n",
       "    <tr>\n",
       "      <th>204</th>\n",
       "      <td>Yuba</td>\n",
       "      <td>1</td>\n",
       "    </tr>\n",
       "  </tbody>\n",
       "</table>\n",
       "<p>205 rows × 2 columns</p>\n",
       "</div>"
      ],
      "text/plain": [
       "         County  Registered EVs\n",
       "0           Ada               2\n",
       "1         Adams              72\n",
       "2       Alameda               5\n",
       "3     Albemarle               2\n",
       "4    Alexandria               3\n",
       "..          ...             ...\n",
       "200  Williamson               1\n",
       "201      Yakima            1340\n",
       "202        Yolo               2\n",
       "203        York               1\n",
       "204        Yuba               1\n",
       "\n",
       "[205 rows x 2 columns]"
      ]
     },
     "execution_count": 150,
     "metadata": {},
     "output_type": "execute_result"
    }
   ],
   "source": [
    "ev_by_county = ev_data.groupby(\"County\").size().reset_index(name = \"Registered EVs\")\n",
    "ev_by_county"
   ]
  },
  {
   "cell_type": "markdown",
   "metadata": {},
   "source": [
    "Oh no, it looks like this data is incorrect. It says all of the counties are in Washington state, but some of these counties are outside Washington State. We know this because Washington State only has 39 counties. We will have to filter the counties down to just Washington counties. For this, we can use the population data, so lets read it in"
   ]
  },
  {
   "cell_type": "markdown",
   "metadata": {},
   "source": [
    "### Read in Population Data:"
   ]
  },
  {
   "cell_type": "code",
   "execution_count": 151,
   "metadata": {},
   "outputs": [
    {
     "data": {
      "text/html": [
       "<div>\n",
       "<style scoped>\n",
       "    .dataframe tbody tr th:only-of-type {\n",
       "        vertical-align: middle;\n",
       "    }\n",
       "\n",
       "    .dataframe tbody tr th {\n",
       "        vertical-align: top;\n",
       "    }\n",
       "\n",
       "    .dataframe thead th {\n",
       "        text-align: right;\n",
       "    }\n",
       "</style>\n",
       "<table border=\"1\" class=\"dataframe\">\n",
       "  <thead>\n",
       "    <tr style=\"text-align: right;\">\n",
       "      <th></th>\n",
       "      <th>Line</th>\n",
       "      <th>Filter</th>\n",
       "      <th>County</th>\n",
       "      <th>Jurisdiction</th>\n",
       "      <th>2020 Population Census</th>\n",
       "      <th>2021 Population Estimate¹</th>\n",
       "      <th>2022 Population Estimate</th>\n",
       "      <th>2023 Population Estimate</th>\n",
       "      <th>2024 Population Estimate</th>\n",
       "    </tr>\n",
       "  </thead>\n",
       "  <tbody>\n",
       "    <tr>\n",
       "      <th>0</th>\n",
       "      <td>1</td>\n",
       "      <td>1</td>\n",
       "      <td>Adams</td>\n",
       "      <td>Adams County</td>\n",
       "      <td>20,613</td>\n",
       "      <td>20,900</td>\n",
       "      <td>21,100</td>\n",
       "      <td>21,200</td>\n",
       "      <td>21,475</td>\n",
       "    </tr>\n",
       "    <tr>\n",
       "      <th>1</th>\n",
       "      <td>2</td>\n",
       "      <td>2</td>\n",
       "      <td>Adams</td>\n",
       "      <td>Unincorporated Adams County</td>\n",
       "      <td>9,472</td>\n",
       "      <td>9,575</td>\n",
       "      <td>9,575</td>\n",
       "      <td>9,585</td>\n",
       "      <td>9,628</td>\n",
       "    </tr>\n",
       "    <tr>\n",
       "      <th>2</th>\n",
       "      <td>3</td>\n",
       "      <td>3</td>\n",
       "      <td>Adams</td>\n",
       "      <td>Incorporated Adams County</td>\n",
       "      <td>11,141</td>\n",
       "      <td>11,325</td>\n",
       "      <td>11,525</td>\n",
       "      <td>11,615</td>\n",
       "      <td>11,847</td>\n",
       "    </tr>\n",
       "    <tr>\n",
       "      <th>3</th>\n",
       "      <td>4</td>\n",
       "      <td>4</td>\n",
       "      <td>Adams</td>\n",
       "      <td>Hatton</td>\n",
       "      <td>79</td>\n",
       "      <td>80</td>\n",
       "      <td>80</td>\n",
       "      <td>80</td>\n",
       "      <td>167</td>\n",
       "    </tr>\n",
       "    <tr>\n",
       "      <th>4</th>\n",
       "      <td>5</td>\n",
       "      <td>4</td>\n",
       "      <td>Adams</td>\n",
       "      <td>Lind</td>\n",
       "      <td>535</td>\n",
       "      <td>535</td>\n",
       "      <td>535</td>\n",
       "      <td>535</td>\n",
       "      <td>535</td>\n",
       "    </tr>\n",
       "    <tr>\n",
       "      <th>5</th>\n",
       "      <td>6</td>\n",
       "      <td>4</td>\n",
       "      <td>Adams</td>\n",
       "      <td>Othello</td>\n",
       "      <td>8,549</td>\n",
       "      <td>8,725</td>\n",
       "      <td>8,920</td>\n",
       "      <td>9,005</td>\n",
       "      <td>9,145</td>\n",
       "    </tr>\n",
       "    <tr>\n",
       "      <th>6</th>\n",
       "      <td>7</td>\n",
       "      <td>4</td>\n",
       "      <td>Adams</td>\n",
       "      <td>Ritzville</td>\n",
       "      <td>1,767</td>\n",
       "      <td>1,775</td>\n",
       "      <td>1,780</td>\n",
       "      <td>1,785</td>\n",
       "      <td>1,790</td>\n",
       "    </tr>\n",
       "    <tr>\n",
       "      <th>7</th>\n",
       "      <td>8</td>\n",
       "      <td>4</td>\n",
       "      <td>Adams</td>\n",
       "      <td>Washtucna</td>\n",
       "      <td>211</td>\n",
       "      <td>210</td>\n",
       "      <td>210</td>\n",
       "      <td>210</td>\n",
       "      <td>210</td>\n",
       "    </tr>\n",
       "    <tr>\n",
       "      <th>8</th>\n",
       "      <td>9</td>\n",
       "      <td>.</td>\n",
       "      <td>.</td>\n",
       "      <td>.</td>\n",
       "      <td>.</td>\n",
       "      <td>.</td>\n",
       "      <td>.</td>\n",
       "      <td>.</td>\n",
       "      <td>.</td>\n",
       "    </tr>\n",
       "    <tr>\n",
       "      <th>9</th>\n",
       "      <td>10</td>\n",
       "      <td>1</td>\n",
       "      <td>Asotin</td>\n",
       "      <td>Asotin County</td>\n",
       "      <td>22,285</td>\n",
       "      <td>22,500</td>\n",
       "      <td>22,600</td>\n",
       "      <td>22,650</td>\n",
       "      <td>22,725</td>\n",
       "    </tr>\n",
       "    <tr>\n",
       "      <th>10</th>\n",
       "      <td>11</td>\n",
       "      <td>2</td>\n",
       "      <td>Asotin</td>\n",
       "      <td>Unincorporated Asotin County</td>\n",
       "      <td>13,920</td>\n",
       "      <td>14,070</td>\n",
       "      <td>14,165</td>\n",
       "      <td>14,205</td>\n",
       "      <td>14,260</td>\n",
       "    </tr>\n",
       "    <tr>\n",
       "      <th>11</th>\n",
       "      <td>12</td>\n",
       "      <td>3</td>\n",
       "      <td>Asotin</td>\n",
       "      <td>Incorporated Asotin County</td>\n",
       "      <td>8,365</td>\n",
       "      <td>8,430</td>\n",
       "      <td>8,435</td>\n",
       "      <td>8,445</td>\n",
       "      <td>8,465</td>\n",
       "    </tr>\n",
       "    <tr>\n",
       "      <th>12</th>\n",
       "      <td>13</td>\n",
       "      <td>4</td>\n",
       "      <td>Asotin</td>\n",
       "      <td>Asotin</td>\n",
       "      <td>1,204</td>\n",
       "      <td>1,215</td>\n",
       "      <td>1,220</td>\n",
       "      <td>1,225</td>\n",
       "      <td>1,225</td>\n",
       "    </tr>\n",
       "    <tr>\n",
       "      <th>13</th>\n",
       "      <td>14</td>\n",
       "      <td>4</td>\n",
       "      <td>Asotin</td>\n",
       "      <td>Clarkston</td>\n",
       "      <td>7,161</td>\n",
       "      <td>7,215</td>\n",
       "      <td>7,215</td>\n",
       "      <td>7,220</td>\n",
       "      <td>7,240</td>\n",
       "    </tr>\n",
       "    <tr>\n",
       "      <th>14</th>\n",
       "      <td>15</td>\n",
       "      <td>.</td>\n",
       "      <td>.</td>\n",
       "      <td>.</td>\n",
       "      <td>.</td>\n",
       "      <td>.</td>\n",
       "      <td>.</td>\n",
       "      <td>.</td>\n",
       "      <td>.</td>\n",
       "    </tr>\n",
       "    <tr>\n",
       "      <th>15</th>\n",
       "      <td>16</td>\n",
       "      <td>1</td>\n",
       "      <td>Benton</td>\n",
       "      <td>Benton County</td>\n",
       "      <td>206,873</td>\n",
       "      <td>209,400</td>\n",
       "      <td>212,300</td>\n",
       "      <td>215,500</td>\n",
       "      <td>217,850</td>\n",
       "    </tr>\n",
       "    <tr>\n",
       "      <th>16</th>\n",
       "      <td>17</td>\n",
       "      <td>2</td>\n",
       "      <td>Benton</td>\n",
       "      <td>Unincorporated Benton County</td>\n",
       "      <td>36,556</td>\n",
       "      <td>36,760</td>\n",
       "      <td>37,445</td>\n",
       "      <td>37,615</td>\n",
       "      <td>37,805</td>\n",
       "    </tr>\n",
       "    <tr>\n",
       "      <th>17</th>\n",
       "      <td>18</td>\n",
       "      <td>3</td>\n",
       "      <td>Benton</td>\n",
       "      <td>Incorporated Benton County</td>\n",
       "      <td>170,317</td>\n",
       "      <td>172,640</td>\n",
       "      <td>174,855</td>\n",
       "      <td>177,885</td>\n",
       "      <td>180,045</td>\n",
       "    </tr>\n",
       "    <tr>\n",
       "      <th>18</th>\n",
       "      <td>19</td>\n",
       "      <td>4</td>\n",
       "      <td>Benton</td>\n",
       "      <td>Benton City</td>\n",
       "      <td>3,479</td>\n",
       "      <td>3,500</td>\n",
       "      <td>3,710</td>\n",
       "      <td>3,810</td>\n",
       "      <td>3,845</td>\n",
       "    </tr>\n",
       "    <tr>\n",
       "      <th>19</th>\n",
       "      <td>20</td>\n",
       "      <td>4</td>\n",
       "      <td>Benton</td>\n",
       "      <td>Kennewick</td>\n",
       "      <td>83,921</td>\n",
       "      <td>84,620</td>\n",
       "      <td>85,320</td>\n",
       "      <td>86,470</td>\n",
       "      <td>87,120</td>\n",
       "    </tr>\n",
       "  </tbody>\n",
       "</table>\n",
       "</div>"
      ],
      "text/plain": [
       "   Line Filter  County                  Jurisdiction 2020 Population Census  \\\n",
       "0     1      1   Adams                  Adams County                 20,613   \n",
       "1     2      2   Adams   Unincorporated Adams County                  9,472   \n",
       "2     3      3   Adams     Incorporated Adams County                 11,141   \n",
       "3     4      4   Adams                        Hatton                     79   \n",
       "4     5      4   Adams                          Lind                    535   \n",
       "5     6      4   Adams                       Othello                  8,549   \n",
       "6     7      4   Adams                     Ritzville                  1,767   \n",
       "7     8      4   Adams                     Washtucna                    211   \n",
       "8     9      .       .                             .                      .   \n",
       "9    10      1  Asotin                 Asotin County                 22,285   \n",
       "10   11      2  Asotin  Unincorporated Asotin County                 13,920   \n",
       "11   12      3  Asotin    Incorporated Asotin County                  8,365   \n",
       "12   13      4  Asotin                        Asotin                  1,204   \n",
       "13   14      4  Asotin                     Clarkston                  7,161   \n",
       "14   15      .       .                             .                      .   \n",
       "15   16      1  Benton                 Benton County                206,873   \n",
       "16   17      2  Benton  Unincorporated Benton County                 36,556   \n",
       "17   18      3  Benton    Incorporated Benton County                170,317   \n",
       "18   19      4  Benton                   Benton City                  3,479   \n",
       "19   20      4  Benton                     Kennewick                 83,921   \n",
       "\n",
       "   2021 Population Estimate¹ 2022 Population Estimate  \\\n",
       "0                     20,900                   21,100   \n",
       "1                      9,575                    9,575   \n",
       "2                     11,325                   11,525   \n",
       "3                         80                       80   \n",
       "4                        535                      535   \n",
       "5                      8,725                    8,920   \n",
       "6                      1,775                    1,780   \n",
       "7                        210                      210   \n",
       "8                          .                        .   \n",
       "9                     22,500                   22,600   \n",
       "10                    14,070                   14,165   \n",
       "11                     8,430                    8,435   \n",
       "12                     1,215                    1,220   \n",
       "13                     7,215                    7,215   \n",
       "14                         .                        .   \n",
       "15                   209,400                  212,300   \n",
       "16                    36,760                   37,445   \n",
       "17                   172,640                  174,855   \n",
       "18                     3,500                    3,710   \n",
       "19                    84,620                   85,320   \n",
       "\n",
       "   2023 Population Estimate 2024 Population Estimate  \n",
       "0                    21,200                   21,475  \n",
       "1                     9,585                    9,628  \n",
       "2                    11,615                   11,847  \n",
       "3                        80                      167  \n",
       "4                       535                      535  \n",
       "5                     9,005                    9,145  \n",
       "6                     1,785                    1,790  \n",
       "7                       210                      210  \n",
       "8                         .                        .  \n",
       "9                    22,650                   22,725  \n",
       "10                   14,205                   14,260  \n",
       "11                    8,445                    8,465  \n",
       "12                    1,225                    1,225  \n",
       "13                    7,220                    7,240  \n",
       "14                        .                        .  \n",
       "15                  215,500                  217,850  \n",
       "16                   37,615                   37,805  \n",
       "17                  177,885                  180,045  \n",
       "18                    3,810                    3,845  \n",
       "19                   86,470                   87,120  "
      ]
     },
     "execution_count": 151,
     "metadata": {},
     "output_type": "execute_result"
    }
   ],
   "source": [
    "population_data = pd.read_csv(\"ofm_april1_population_final.csv\")\n",
    "population_data.head(20)"
   ]
  },
  {
   "cell_type": "markdown",
   "metadata": {},
   "source": [
    "Let's filter out the rows we don't need"
   ]
  },
  {
   "cell_type": "code",
   "execution_count": 152,
   "metadata": {},
   "outputs": [
    {
     "data": {
      "text/html": [
       "<div>\n",
       "<style scoped>\n",
       "    .dataframe tbody tr th:only-of-type {\n",
       "        vertical-align: middle;\n",
       "    }\n",
       "\n",
       "    .dataframe tbody tr th {\n",
       "        vertical-align: top;\n",
       "    }\n",
       "\n",
       "    .dataframe thead th {\n",
       "        text-align: right;\n",
       "    }\n",
       "</style>\n",
       "<table border=\"1\" class=\"dataframe\">\n",
       "  <thead>\n",
       "    <tr style=\"text-align: right;\">\n",
       "      <th></th>\n",
       "      <th>Line</th>\n",
       "      <th>Filter</th>\n",
       "      <th>County</th>\n",
       "      <th>Jurisdiction</th>\n",
       "      <th>2020 Population Census</th>\n",
       "      <th>2021 Population Estimate¹</th>\n",
       "      <th>2022 Population Estimate</th>\n",
       "      <th>2023 Population Estimate</th>\n",
       "      <th>2024 Population Estimate</th>\n",
       "    </tr>\n",
       "  </thead>\n",
       "  <tbody>\n",
       "    <tr>\n",
       "      <th>0</th>\n",
       "      <td>1</td>\n",
       "      <td>1</td>\n",
       "      <td>Adams</td>\n",
       "      <td>Adams County</td>\n",
       "      <td>20,613</td>\n",
       "      <td>20,900</td>\n",
       "      <td>21,100</td>\n",
       "      <td>21,200</td>\n",
       "      <td>21,475</td>\n",
       "    </tr>\n",
       "    <tr>\n",
       "      <th>1</th>\n",
       "      <td>2</td>\n",
       "      <td>2</td>\n",
       "      <td>Adams</td>\n",
       "      <td>Unincorporated Adams County</td>\n",
       "      <td>9,472</td>\n",
       "      <td>9,575</td>\n",
       "      <td>9,575</td>\n",
       "      <td>9,585</td>\n",
       "      <td>9,628</td>\n",
       "    </tr>\n",
       "    <tr>\n",
       "      <th>2</th>\n",
       "      <td>3</td>\n",
       "      <td>3</td>\n",
       "      <td>Adams</td>\n",
       "      <td>Incorporated Adams County</td>\n",
       "      <td>11,141</td>\n",
       "      <td>11,325</td>\n",
       "      <td>11,525</td>\n",
       "      <td>11,615</td>\n",
       "      <td>11,847</td>\n",
       "    </tr>\n",
       "    <tr>\n",
       "      <th>9</th>\n",
       "      <td>10</td>\n",
       "      <td>1</td>\n",
       "      <td>Asotin</td>\n",
       "      <td>Asotin County</td>\n",
       "      <td>22,285</td>\n",
       "      <td>22,500</td>\n",
       "      <td>22,600</td>\n",
       "      <td>22,650</td>\n",
       "      <td>22,725</td>\n",
       "    </tr>\n",
       "    <tr>\n",
       "      <th>10</th>\n",
       "      <td>11</td>\n",
       "      <td>2</td>\n",
       "      <td>Asotin</td>\n",
       "      <td>Unincorporated Asotin County</td>\n",
       "      <td>13,920</td>\n",
       "      <td>14,070</td>\n",
       "      <td>14,165</td>\n",
       "      <td>14,205</td>\n",
       "      <td>14,260</td>\n",
       "    </tr>\n",
       "    <tr>\n",
       "      <th>11</th>\n",
       "      <td>12</td>\n",
       "      <td>3</td>\n",
       "      <td>Asotin</td>\n",
       "      <td>Incorporated Asotin County</td>\n",
       "      <td>8,365</td>\n",
       "      <td>8,430</td>\n",
       "      <td>8,435</td>\n",
       "      <td>8,445</td>\n",
       "      <td>8,465</td>\n",
       "    </tr>\n",
       "    <tr>\n",
       "      <th>15</th>\n",
       "      <td>16</td>\n",
       "      <td>1</td>\n",
       "      <td>Benton</td>\n",
       "      <td>Benton County</td>\n",
       "      <td>206,873</td>\n",
       "      <td>209,400</td>\n",
       "      <td>212,300</td>\n",
       "      <td>215,500</td>\n",
       "      <td>217,850</td>\n",
       "    </tr>\n",
       "    <tr>\n",
       "      <th>16</th>\n",
       "      <td>17</td>\n",
       "      <td>2</td>\n",
       "      <td>Benton</td>\n",
       "      <td>Unincorporated Benton County</td>\n",
       "      <td>36,556</td>\n",
       "      <td>36,760</td>\n",
       "      <td>37,445</td>\n",
       "      <td>37,615</td>\n",
       "      <td>37,805</td>\n",
       "    </tr>\n",
       "    <tr>\n",
       "      <th>17</th>\n",
       "      <td>18</td>\n",
       "      <td>3</td>\n",
       "      <td>Benton</td>\n",
       "      <td>Incorporated Benton County</td>\n",
       "      <td>170,317</td>\n",
       "      <td>172,640</td>\n",
       "      <td>174,855</td>\n",
       "      <td>177,885</td>\n",
       "      <td>180,045</td>\n",
       "    </tr>\n",
       "    <tr>\n",
       "      <th>24</th>\n",
       "      <td>25</td>\n",
       "      <td>1</td>\n",
       "      <td>Chelan</td>\n",
       "      <td>Chelan County</td>\n",
       "      <td>79,141</td>\n",
       "      <td>80,000</td>\n",
       "      <td>80,650</td>\n",
       "      <td>81,500</td>\n",
       "      <td>82,300</td>\n",
       "    </tr>\n",
       "    <tr>\n",
       "      <th>25</th>\n",
       "      <td>26</td>\n",
       "      <td>2</td>\n",
       "      <td>Chelan</td>\n",
       "      <td>Unincorporated Chelan County</td>\n",
       "      <td>32,507</td>\n",
       "      <td>33,140</td>\n",
       "      <td>33,460</td>\n",
       "      <td>33,875</td>\n",
       "      <td>34,320</td>\n",
       "    </tr>\n",
       "    <tr>\n",
       "      <th>26</th>\n",
       "      <td>27</td>\n",
       "      <td>3</td>\n",
       "      <td>Chelan</td>\n",
       "      <td>Incorporated Chelan County</td>\n",
       "      <td>46,634</td>\n",
       "      <td>46,860</td>\n",
       "      <td>47,190</td>\n",
       "      <td>47,625</td>\n",
       "      <td>47,980</td>\n",
       "    </tr>\n",
       "    <tr>\n",
       "      <th>33</th>\n",
       "      <td>34</td>\n",
       "      <td>1</td>\n",
       "      <td>Clallam</td>\n",
       "      <td>Clallam County</td>\n",
       "      <td>77,155</td>\n",
       "      <td>77,750</td>\n",
       "      <td>77,625</td>\n",
       "      <td>78,075</td>\n",
       "      <td>78,550</td>\n",
       "    </tr>\n",
       "    <tr>\n",
       "      <th>34</th>\n",
       "      <td>35</td>\n",
       "      <td>2</td>\n",
       "      <td>Clallam</td>\n",
       "      <td>Unincorporated Clallam County</td>\n",
       "      <td>45,836</td>\n",
       "      <td>46,170</td>\n",
       "      <td>45,850</td>\n",
       "      <td>46,090</td>\n",
       "      <td>46,320</td>\n",
       "    </tr>\n",
       "    <tr>\n",
       "      <th>35</th>\n",
       "      <td>36</td>\n",
       "      <td>3</td>\n",
       "      <td>Clallam</td>\n",
       "      <td>Incorporated Clallam County</td>\n",
       "      <td>31,319</td>\n",
       "      <td>31,580</td>\n",
       "      <td>31,775</td>\n",
       "      <td>31,985</td>\n",
       "      <td>32,230</td>\n",
       "    </tr>\n",
       "    <tr>\n",
       "      <th>40</th>\n",
       "      <td>41</td>\n",
       "      <td>1</td>\n",
       "      <td>Clark</td>\n",
       "      <td>Clark County</td>\n",
       "      <td>503,311</td>\n",
       "      <td>513,100</td>\n",
       "      <td>520,900</td>\n",
       "      <td>527,400</td>\n",
       "      <td>536,300</td>\n",
       "    </tr>\n",
       "    <tr>\n",
       "      <th>41</th>\n",
       "      <td>42</td>\n",
       "      <td>2</td>\n",
       "      <td>Clark</td>\n",
       "      <td>Unincorporated Clark County</td>\n",
       "      <td>233,048</td>\n",
       "      <td>236,200</td>\n",
       "      <td>237,650</td>\n",
       "      <td>240,155</td>\n",
       "      <td>243,830</td>\n",
       "    </tr>\n",
       "    <tr>\n",
       "      <th>42</th>\n",
       "      <td>43</td>\n",
       "      <td>3</td>\n",
       "      <td>Clark</td>\n",
       "      <td>Incorporated Clark County</td>\n",
       "      <td>270,263</td>\n",
       "      <td>276,900</td>\n",
       "      <td>283,250</td>\n",
       "      <td>287,245</td>\n",
       "      <td>292,470</td>\n",
       "    </tr>\n",
       "    <tr>\n",
       "      <th>52</th>\n",
       "      <td>53</td>\n",
       "      <td>1</td>\n",
       "      <td>Columbia</td>\n",
       "      <td>Columbia County</td>\n",
       "      <td>3,952</td>\n",
       "      <td>3,950</td>\n",
       "      <td>3,950</td>\n",
       "      <td>3,950</td>\n",
       "      <td>3,975</td>\n",
       "    </tr>\n",
       "    <tr>\n",
       "      <th>53</th>\n",
       "      <td>54</td>\n",
       "      <td>2</td>\n",
       "      <td>Columbia</td>\n",
       "      <td>Unincorporated Columbia County</td>\n",
       "      <td>1,385</td>\n",
       "      <td>1,380</td>\n",
       "      <td>1,385</td>\n",
       "      <td>1,385</td>\n",
       "      <td>1,410</td>\n",
       "    </tr>\n",
       "  </tbody>\n",
       "</table>\n",
       "</div>"
      ],
      "text/plain": [
       "   Line Filter    County                    Jurisdiction  \\\n",
       "0     1      1     Adams                    Adams County   \n",
       "1     2      2     Adams     Unincorporated Adams County   \n",
       "2     3      3     Adams       Incorporated Adams County   \n",
       "9    10      1    Asotin                   Asotin County   \n",
       "10   11      2    Asotin    Unincorporated Asotin County   \n",
       "11   12      3    Asotin      Incorporated Asotin County   \n",
       "15   16      1    Benton                   Benton County   \n",
       "16   17      2    Benton    Unincorporated Benton County   \n",
       "17   18      3    Benton      Incorporated Benton County   \n",
       "24   25      1    Chelan                   Chelan County   \n",
       "25   26      2    Chelan    Unincorporated Chelan County   \n",
       "26   27      3    Chelan      Incorporated Chelan County   \n",
       "33   34      1   Clallam                  Clallam County   \n",
       "34   35      2   Clallam   Unincorporated Clallam County   \n",
       "35   36      3   Clallam     Incorporated Clallam County   \n",
       "40   41      1     Clark                    Clark County   \n",
       "41   42      2     Clark     Unincorporated Clark County   \n",
       "42   43      3     Clark       Incorporated Clark County   \n",
       "52   53      1  Columbia                 Columbia County   \n",
       "53   54      2  Columbia  Unincorporated Columbia County   \n",
       "\n",
       "   2020 Population Census 2021 Population Estimate¹ 2022 Population Estimate  \\\n",
       "0                  20,613                    20,900                   21,100   \n",
       "1                   9,472                     9,575                    9,575   \n",
       "2                  11,141                    11,325                   11,525   \n",
       "9                  22,285                    22,500                   22,600   \n",
       "10                 13,920                    14,070                   14,165   \n",
       "11                  8,365                     8,430                    8,435   \n",
       "15                206,873                   209,400                  212,300   \n",
       "16                 36,556                    36,760                   37,445   \n",
       "17                170,317                   172,640                  174,855   \n",
       "24                 79,141                    80,000                   80,650   \n",
       "25                 32,507                    33,140                   33,460   \n",
       "26                 46,634                    46,860                   47,190   \n",
       "33                 77,155                    77,750                   77,625   \n",
       "34                 45,836                    46,170                   45,850   \n",
       "35                 31,319                    31,580                   31,775   \n",
       "40                503,311                   513,100                  520,900   \n",
       "41                233,048                   236,200                  237,650   \n",
       "42                270,263                   276,900                  283,250   \n",
       "52                  3,952                     3,950                    3,950   \n",
       "53                  1,385                     1,380                    1,385   \n",
       "\n",
       "   2023 Population Estimate 2024 Population Estimate  \n",
       "0                    21,200                   21,475  \n",
       "1                     9,585                    9,628  \n",
       "2                    11,615                   11,847  \n",
       "9                    22,650                   22,725  \n",
       "10                   14,205                   14,260  \n",
       "11                    8,445                    8,465  \n",
       "15                  215,500                  217,850  \n",
       "16                   37,615                   37,805  \n",
       "17                  177,885                  180,045  \n",
       "24                   81,500                   82,300  \n",
       "25                   33,875                   34,320  \n",
       "26                   47,625                   47,980  \n",
       "33                   78,075                   78,550  \n",
       "34                   46,090                   46,320  \n",
       "35                   31,985                   32,230  \n",
       "40                  527,400                  536,300  \n",
       "41                  240,155                  243,830  \n",
       "42                  287,245                  292,470  \n",
       "52                    3,950                    3,975  \n",
       "53                    1,385                    1,410  "
      ]
     },
     "execution_count": 152,
     "metadata": {},
     "output_type": "execute_result"
    }
   ],
   "source": [
    "filtered_population_data = population_data[population_data[\"Jurisdiction\"].str.contains(\"County\", case=False, na=False)]\n",
    "filtered_population_data.head(20)"
   ]
  },
  {
   "cell_type": "code",
   "execution_count": 153,
   "metadata": {},
   "outputs": [
    {
     "data": {
      "text/html": [
       "<div>\n",
       "<style scoped>\n",
       "    .dataframe tbody tr th:only-of-type {\n",
       "        vertical-align: middle;\n",
       "    }\n",
       "\n",
       "    .dataframe tbody tr th {\n",
       "        vertical-align: top;\n",
       "    }\n",
       "\n",
       "    .dataframe thead th {\n",
       "        text-align: right;\n",
       "    }\n",
       "</style>\n",
       "<table border=\"1\" class=\"dataframe\">\n",
       "  <thead>\n",
       "    <tr style=\"text-align: right;\">\n",
       "      <th></th>\n",
       "      <th>index</th>\n",
       "      <th>Line</th>\n",
       "      <th>Filter</th>\n",
       "      <th>County</th>\n",
       "      <th>Jurisdiction</th>\n",
       "      <th>2020 Population Census</th>\n",
       "      <th>2021 Population Estimate¹</th>\n",
       "      <th>2022 Population Estimate</th>\n",
       "      <th>2023 Population Estimate</th>\n",
       "      <th>2024 Population Estimate</th>\n",
       "    </tr>\n",
       "  </thead>\n",
       "  <tbody>\n",
       "    <tr>\n",
       "      <th>0</th>\n",
       "      <td>0</td>\n",
       "      <td>1</td>\n",
       "      <td>1</td>\n",
       "      <td>Adams</td>\n",
       "      <td>Adams County</td>\n",
       "      <td>20,613</td>\n",
       "      <td>20,900</td>\n",
       "      <td>21,100</td>\n",
       "      <td>21,200</td>\n",
       "      <td>21,475</td>\n",
       "    </tr>\n",
       "    <tr>\n",
       "      <th>1</th>\n",
       "      <td>9</td>\n",
       "      <td>10</td>\n",
       "      <td>1</td>\n",
       "      <td>Asotin</td>\n",
       "      <td>Asotin County</td>\n",
       "      <td>22,285</td>\n",
       "      <td>22,500</td>\n",
       "      <td>22,600</td>\n",
       "      <td>22,650</td>\n",
       "      <td>22,725</td>\n",
       "    </tr>\n",
       "    <tr>\n",
       "      <th>2</th>\n",
       "      <td>15</td>\n",
       "      <td>16</td>\n",
       "      <td>1</td>\n",
       "      <td>Benton</td>\n",
       "      <td>Benton County</td>\n",
       "      <td>206,873</td>\n",
       "      <td>209,400</td>\n",
       "      <td>212,300</td>\n",
       "      <td>215,500</td>\n",
       "      <td>217,850</td>\n",
       "    </tr>\n",
       "    <tr>\n",
       "      <th>3</th>\n",
       "      <td>24</td>\n",
       "      <td>25</td>\n",
       "      <td>1</td>\n",
       "      <td>Chelan</td>\n",
       "      <td>Chelan County</td>\n",
       "      <td>79,141</td>\n",
       "      <td>80,000</td>\n",
       "      <td>80,650</td>\n",
       "      <td>81,500</td>\n",
       "      <td>82,300</td>\n",
       "    </tr>\n",
       "    <tr>\n",
       "      <th>4</th>\n",
       "      <td>33</td>\n",
       "      <td>34</td>\n",
       "      <td>1</td>\n",
       "      <td>Clallam</td>\n",
       "      <td>Clallam County</td>\n",
       "      <td>77,155</td>\n",
       "      <td>77,750</td>\n",
       "      <td>77,625</td>\n",
       "      <td>78,075</td>\n",
       "      <td>78,550</td>\n",
       "    </tr>\n",
       "    <tr>\n",
       "      <th>5</th>\n",
       "      <td>40</td>\n",
       "      <td>41</td>\n",
       "      <td>1</td>\n",
       "      <td>Clark</td>\n",
       "      <td>Clark County</td>\n",
       "      <td>503,311</td>\n",
       "      <td>513,100</td>\n",
       "      <td>520,900</td>\n",
       "      <td>527,400</td>\n",
       "      <td>536,300</td>\n",
       "    </tr>\n",
       "    <tr>\n",
       "      <th>6</th>\n",
       "      <td>52</td>\n",
       "      <td>53</td>\n",
       "      <td>1</td>\n",
       "      <td>Columbia</td>\n",
       "      <td>Columbia County</td>\n",
       "      <td>3,952</td>\n",
       "      <td>3,950</td>\n",
       "      <td>3,950</td>\n",
       "      <td>3,950</td>\n",
       "      <td>3,975</td>\n",
       "    </tr>\n",
       "    <tr>\n",
       "      <th>7</th>\n",
       "      <td>58</td>\n",
       "      <td>59</td>\n",
       "      <td>1</td>\n",
       "      <td>Cowlitz</td>\n",
       "      <td>Cowlitz County</td>\n",
       "      <td>110,730</td>\n",
       "      <td>111,500</td>\n",
       "      <td>112,350</td>\n",
       "      <td>113,000</td>\n",
       "      <td>113,900</td>\n",
       "    </tr>\n",
       "    <tr>\n",
       "      <th>8</th>\n",
       "      <td>67</td>\n",
       "      <td>68</td>\n",
       "      <td>1</td>\n",
       "      <td>Douglas</td>\n",
       "      <td>Douglas County</td>\n",
       "      <td>42,938</td>\n",
       "      <td>43,550</td>\n",
       "      <td>44,000</td>\n",
       "      <td>44,500</td>\n",
       "      <td>45,150</td>\n",
       "    </tr>\n",
       "    <tr>\n",
       "      <th>9</th>\n",
       "      <td>77</td>\n",
       "      <td>78</td>\n",
       "      <td>1</td>\n",
       "      <td>Ferry</td>\n",
       "      <td>Ferry County</td>\n",
       "      <td>7,178</td>\n",
       "      <td>7,250</td>\n",
       "      <td>7,300</td>\n",
       "      <td>7,300</td>\n",
       "      <td>7,350</td>\n",
       "    </tr>\n",
       "    <tr>\n",
       "      <th>10</th>\n",
       "      <td>82</td>\n",
       "      <td>83</td>\n",
       "      <td>1</td>\n",
       "      <td>Franklin</td>\n",
       "      <td>Franklin County</td>\n",
       "      <td>96,749</td>\n",
       "      <td>98,350</td>\n",
       "      <td>99,750</td>\n",
       "      <td>101,100</td>\n",
       "      <td>102,300</td>\n",
       "    </tr>\n",
       "    <tr>\n",
       "      <th>11</th>\n",
       "      <td>90</td>\n",
       "      <td>91</td>\n",
       "      <td>1</td>\n",
       "      <td>Garfield</td>\n",
       "      <td>Garfield County</td>\n",
       "      <td>2,286</td>\n",
       "      <td>2,300</td>\n",
       "      <td>2,300</td>\n",
       "      <td>2,300</td>\n",
       "      <td>2,325</td>\n",
       "    </tr>\n",
       "    <tr>\n",
       "      <th>12</th>\n",
       "      <td>95</td>\n",
       "      <td>96</td>\n",
       "      <td>1</td>\n",
       "      <td>Grant</td>\n",
       "      <td>Grant County</td>\n",
       "      <td>99,123</td>\n",
       "      <td>100,800</td>\n",
       "      <td>101,800</td>\n",
       "      <td>103,300</td>\n",
       "      <td>105,300</td>\n",
       "    </tr>\n",
       "    <tr>\n",
       "      <th>13</th>\n",
       "      <td>114</td>\n",
       "      <td>115</td>\n",
       "      <td>1</td>\n",
       "      <td>Grays Harbor</td>\n",
       "      <td>Grays Harbor County</td>\n",
       "      <td>75,636</td>\n",
       "      <td>76,050</td>\n",
       "      <td>76,400</td>\n",
       "      <td>77,000</td>\n",
       "      <td>77,400</td>\n",
       "    </tr>\n",
       "    <tr>\n",
       "      <th>14</th>\n",
       "      <td>127</td>\n",
       "      <td>128</td>\n",
       "      <td>1</td>\n",
       "      <td>Island</td>\n",
       "      <td>Island County</td>\n",
       "      <td>86,857</td>\n",
       "      <td>87,100</td>\n",
       "      <td>87,700</td>\n",
       "      <td>88,150</td>\n",
       "      <td>88,650</td>\n",
       "    </tr>\n",
       "    <tr>\n",
       "      <th>15</th>\n",
       "      <td>134</td>\n",
       "      <td>135</td>\n",
       "      <td>1</td>\n",
       "      <td>Jefferson</td>\n",
       "      <td>Jefferson County</td>\n",
       "      <td>32,977</td>\n",
       "      <td>33,100</td>\n",
       "      <td>33,350</td>\n",
       "      <td>33,425</td>\n",
       "      <td>33,700</td>\n",
       "    </tr>\n",
       "    <tr>\n",
       "      <th>16</th>\n",
       "      <td>139</td>\n",
       "      <td>140</td>\n",
       "      <td>1</td>\n",
       "      <td>King</td>\n",
       "      <td>King County</td>\n",
       "      <td>2,269,675</td>\n",
       "      <td>2,287,050</td>\n",
       "      <td>2,317,700</td>\n",
       "      <td>2,347,800</td>\n",
       "      <td>2,378,100</td>\n",
       "    </tr>\n",
       "    <tr>\n",
       "      <th>17</th>\n",
       "      <td>182</td>\n",
       "      <td>183</td>\n",
       "      <td>1</td>\n",
       "      <td>Kitsap</td>\n",
       "      <td>Kitsap County</td>\n",
       "      <td>275,611</td>\n",
       "      <td>277,700</td>\n",
       "      <td>280,900</td>\n",
       "      <td>283,200</td>\n",
       "      <td>286,100</td>\n",
       "    </tr>\n",
       "    <tr>\n",
       "      <th>18</th>\n",
       "      <td>190</td>\n",
       "      <td>191</td>\n",
       "      <td>1</td>\n",
       "      <td>Kittitas</td>\n",
       "      <td>Kittitas County</td>\n",
       "      <td>46,468</td>\n",
       "      <td>45,225</td>\n",
       "      <td>47,200</td>\n",
       "      <td>47,300</td>\n",
       "      <td>48,600</td>\n",
       "    </tr>\n",
       "    <tr>\n",
       "      <th>19</th>\n",
       "      <td>199</td>\n",
       "      <td>200</td>\n",
       "      <td>1</td>\n",
       "      <td>Klickitat</td>\n",
       "      <td>Klickitat County</td>\n",
       "      <td>22,735</td>\n",
       "      <td>23,000</td>\n",
       "      <td>23,150</td>\n",
       "      <td>23,250</td>\n",
       "      <td>23,450</td>\n",
       "    </tr>\n",
       "    <tr>\n",
       "      <th>20</th>\n",
       "      <td>206</td>\n",
       "      <td>207</td>\n",
       "      <td>1</td>\n",
       "      <td>Lewis</td>\n",
       "      <td>Lewis County</td>\n",
       "      <td>82,149</td>\n",
       "      <td>82,700</td>\n",
       "      <td>83,400</td>\n",
       "      <td>84,075</td>\n",
       "      <td>84,950</td>\n",
       "    </tr>\n",
       "    <tr>\n",
       "      <th>21</th>\n",
       "      <td>219</td>\n",
       "      <td>220</td>\n",
       "      <td>1</td>\n",
       "      <td>Lincoln</td>\n",
       "      <td>Lincoln County</td>\n",
       "      <td>10,876</td>\n",
       "      <td>10,900</td>\n",
       "      <td>11,050</td>\n",
       "      <td>11,125</td>\n",
       "      <td>11,300</td>\n",
       "    </tr>\n",
       "    <tr>\n",
       "      <th>22</th>\n",
       "      <td>231</td>\n",
       "      <td>232</td>\n",
       "      <td>1</td>\n",
       "      <td>Mason</td>\n",
       "      <td>Mason County</td>\n",
       "      <td>65,726</td>\n",
       "      <td>65,750</td>\n",
       "      <td>66,200</td>\n",
       "      <td>67,000</td>\n",
       "      <td>67,475</td>\n",
       "    </tr>\n",
       "    <tr>\n",
       "      <th>23</th>\n",
       "      <td>236</td>\n",
       "      <td>237</td>\n",
       "      <td>1</td>\n",
       "      <td>Okanogan</td>\n",
       "      <td>Okanogan County</td>\n",
       "      <td>42,104</td>\n",
       "      <td>42,350</td>\n",
       "      <td>42,700</td>\n",
       "      <td>43,000</td>\n",
       "      <td>43,200</td>\n",
       "    </tr>\n",
       "    <tr>\n",
       "      <th>24</th>\n",
       "      <td>253</td>\n",
       "      <td>254</td>\n",
       "      <td>1</td>\n",
       "      <td>Pacific</td>\n",
       "      <td>Pacific County</td>\n",
       "      <td>23,365</td>\n",
       "      <td>23,425</td>\n",
       "      <td>23,600</td>\n",
       "      <td>23,775</td>\n",
       "      <td>23,950</td>\n",
       "    </tr>\n",
       "    <tr>\n",
       "      <th>25</th>\n",
       "      <td>261</td>\n",
       "      <td>262</td>\n",
       "      <td>1</td>\n",
       "      <td>Pend Oreille</td>\n",
       "      <td>Pend Oreille County</td>\n",
       "      <td>13,401</td>\n",
       "      <td>13,475</td>\n",
       "      <td>13,625</td>\n",
       "      <td>13,725</td>\n",
       "      <td>13,850</td>\n",
       "    </tr>\n",
       "    <tr>\n",
       "      <th>26</th>\n",
       "      <td>270</td>\n",
       "      <td>271</td>\n",
       "      <td>1</td>\n",
       "      <td>Pierce</td>\n",
       "      <td>Pierce County</td>\n",
       "      <td>920,393</td>\n",
       "      <td>928,200</td>\n",
       "      <td>937,400</td>\n",
       "      <td>946,300</td>\n",
       "      <td>952,600</td>\n",
       "    </tr>\n",
       "    <tr>\n",
       "      <th>27</th>\n",
       "      <td>298</td>\n",
       "      <td>299</td>\n",
       "      <td>1</td>\n",
       "      <td>San Juan</td>\n",
       "      <td>San Juan County</td>\n",
       "      <td>17,788</td>\n",
       "      <td>17,850</td>\n",
       "      <td>18,150</td>\n",
       "      <td>18,350</td>\n",
       "      <td>18,475</td>\n",
       "    </tr>\n",
       "    <tr>\n",
       "      <th>28</th>\n",
       "      <td>303</td>\n",
       "      <td>304</td>\n",
       "      <td>1</td>\n",
       "      <td>Skagit</td>\n",
       "      <td>Skagit County</td>\n",
       "      <td>129,523</td>\n",
       "      <td>130,000</td>\n",
       "      <td>131,250</td>\n",
       "      <td>132,000</td>\n",
       "      <td>133,300</td>\n",
       "    </tr>\n",
       "    <tr>\n",
       "      <th>29</th>\n",
       "      <td>315</td>\n",
       "      <td>316</td>\n",
       "      <td>1</td>\n",
       "      <td>Skamania</td>\n",
       "      <td>Skamania County</td>\n",
       "      <td>11,604</td>\n",
       "      <td>11,750</td>\n",
       "      <td>11,900</td>\n",
       "      <td>12,000</td>\n",
       "      <td>12,075</td>\n",
       "    </tr>\n",
       "    <tr>\n",
       "      <th>30</th>\n",
       "      <td>321</td>\n",
       "      <td>322</td>\n",
       "      <td>1</td>\n",
       "      <td>Snohomish</td>\n",
       "      <td>Snohomish County</td>\n",
       "      <td>827,957</td>\n",
       "      <td>837,800</td>\n",
       "      <td>847,300</td>\n",
       "      <td>859,800</td>\n",
       "      <td>867,100</td>\n",
       "    </tr>\n",
       "    <tr>\n",
       "      <th>31</th>\n",
       "      <td>345</td>\n",
       "      <td>346</td>\n",
       "      <td>1</td>\n",
       "      <td>Spokane</td>\n",
       "      <td>Spokane County</td>\n",
       "      <td>539,339</td>\n",
       "      <td>542,100</td>\n",
       "      <td>550,700</td>\n",
       "      <td>554,600</td>\n",
       "      <td>559,400</td>\n",
       "    </tr>\n",
       "    <tr>\n",
       "      <th>32</th>\n",
       "      <td>362</td>\n",
       "      <td>363</td>\n",
       "      <td>1</td>\n",
       "      <td>Stevens</td>\n",
       "      <td>Stevens County</td>\n",
       "      <td>46,445</td>\n",
       "      <td>46,725</td>\n",
       "      <td>47,050</td>\n",
       "      <td>47,350</td>\n",
       "      <td>47,650</td>\n",
       "    </tr>\n",
       "    <tr>\n",
       "      <th>33</th>\n",
       "      <td>372</td>\n",
       "      <td>373</td>\n",
       "      <td>1</td>\n",
       "      <td>Thurston</td>\n",
       "      <td>Thurston County</td>\n",
       "      <td>294,793</td>\n",
       "      <td>297,800</td>\n",
       "      <td>300,500</td>\n",
       "      <td>303,400</td>\n",
       "      <td>307,000</td>\n",
       "    </tr>\n",
       "    <tr>\n",
       "      <th>34</th>\n",
       "      <td>383</td>\n",
       "      <td>384</td>\n",
       "      <td>1</td>\n",
       "      <td>Wahkiakum</td>\n",
       "      <td>Wahkiakum County</td>\n",
       "      <td>4,422</td>\n",
       "      <td>4,475</td>\n",
       "      <td>4,525</td>\n",
       "      <td>4,550</td>\n",
       "      <td>4,550</td>\n",
       "    </tr>\n",
       "    <tr>\n",
       "      <th>35</th>\n",
       "      <td>388</td>\n",
       "      <td>389</td>\n",
       "      <td>1</td>\n",
       "      <td>Walla Walla</td>\n",
       "      <td>Walla Walla County</td>\n",
       "      <td>62,584</td>\n",
       "      <td>62,100</td>\n",
       "      <td>62,625</td>\n",
       "      <td>63,100</td>\n",
       "      <td>63,375</td>\n",
       "    </tr>\n",
       "    <tr>\n",
       "      <th>36</th>\n",
       "      <td>396</td>\n",
       "      <td>397</td>\n",
       "      <td>1</td>\n",
       "      <td>Whatcom</td>\n",
       "      <td>Whatcom County</td>\n",
       "      <td>226,847</td>\n",
       "      <td>226,300</td>\n",
       "      <td>231,650</td>\n",
       "      <td>235,800</td>\n",
       "      <td>238,000</td>\n",
       "    </tr>\n",
       "    <tr>\n",
       "      <th>37</th>\n",
       "      <td>407</td>\n",
       "      <td>408</td>\n",
       "      <td>1</td>\n",
       "      <td>Whitman</td>\n",
       "      <td>Whitman County</td>\n",
       "      <td>47,973</td>\n",
       "      <td>44,600</td>\n",
       "      <td>47,800</td>\n",
       "      <td>48,100</td>\n",
       "      <td>48,750</td>\n",
       "    </tr>\n",
       "    <tr>\n",
       "      <th>38</th>\n",
       "      <td>427</td>\n",
       "      <td>428</td>\n",
       "      <td>1</td>\n",
       "      <td>Yakima</td>\n",
       "      <td>Yakima County</td>\n",
       "      <td>256,728</td>\n",
       "      <td>258,100</td>\n",
       "      <td>259,950</td>\n",
       "      <td>261,200</td>\n",
       "      <td>263,200</td>\n",
       "    </tr>\n",
       "  </tbody>\n",
       "</table>\n",
       "</div>"
      ],
      "text/plain": [
       "    index Line Filter        County         Jurisdiction  \\\n",
       "0       0    1      1         Adams         Adams County   \n",
       "1       9   10      1        Asotin        Asotin County   \n",
       "2      15   16      1        Benton        Benton County   \n",
       "3      24   25      1        Chelan        Chelan County   \n",
       "4      33   34      1       Clallam       Clallam County   \n",
       "5      40   41      1         Clark         Clark County   \n",
       "6      52   53      1      Columbia      Columbia County   \n",
       "7      58   59      1       Cowlitz       Cowlitz County   \n",
       "8      67   68      1       Douglas       Douglas County   \n",
       "9      77   78      1         Ferry         Ferry County   \n",
       "10     82   83      1      Franklin      Franklin County   \n",
       "11     90   91      1      Garfield      Garfield County   \n",
       "12     95   96      1         Grant         Grant County   \n",
       "13    114  115      1  Grays Harbor  Grays Harbor County   \n",
       "14    127  128      1        Island        Island County   \n",
       "15    134  135      1     Jefferson     Jefferson County   \n",
       "16    139  140      1          King          King County   \n",
       "17    182  183      1        Kitsap        Kitsap County   \n",
       "18    190  191      1      Kittitas      Kittitas County   \n",
       "19    199  200      1     Klickitat     Klickitat County   \n",
       "20    206  207      1         Lewis         Lewis County   \n",
       "21    219  220      1       Lincoln       Lincoln County   \n",
       "22    231  232      1         Mason         Mason County   \n",
       "23    236  237      1      Okanogan      Okanogan County   \n",
       "24    253  254      1       Pacific       Pacific County   \n",
       "25    261  262      1  Pend Oreille  Pend Oreille County   \n",
       "26    270  271      1        Pierce        Pierce County   \n",
       "27    298  299      1      San Juan      San Juan County   \n",
       "28    303  304      1        Skagit        Skagit County   \n",
       "29    315  316      1      Skamania      Skamania County   \n",
       "30    321  322      1     Snohomish     Snohomish County   \n",
       "31    345  346      1       Spokane       Spokane County   \n",
       "32    362  363      1       Stevens       Stevens County   \n",
       "33    372  373      1      Thurston      Thurston County   \n",
       "34    383  384      1     Wahkiakum     Wahkiakum County   \n",
       "35    388  389      1   Walla Walla   Walla Walla County   \n",
       "36    396  397      1       Whatcom       Whatcom County   \n",
       "37    407  408      1       Whitman       Whitman County   \n",
       "38    427  428      1        Yakima        Yakima County   \n",
       "\n",
       "   2020 Population Census 2021 Population Estimate¹ 2022 Population Estimate  \\\n",
       "0                  20,613                    20,900                   21,100   \n",
       "1                  22,285                    22,500                   22,600   \n",
       "2                 206,873                   209,400                  212,300   \n",
       "3                  79,141                    80,000                   80,650   \n",
       "4                  77,155                    77,750                   77,625   \n",
       "5                 503,311                   513,100                  520,900   \n",
       "6                   3,952                     3,950                    3,950   \n",
       "7                 110,730                   111,500                  112,350   \n",
       "8                  42,938                    43,550                   44,000   \n",
       "9                   7,178                     7,250                    7,300   \n",
       "10                 96,749                    98,350                   99,750   \n",
       "11                  2,286                     2,300                    2,300   \n",
       "12                 99,123                   100,800                  101,800   \n",
       "13                 75,636                    76,050                   76,400   \n",
       "14                 86,857                    87,100                   87,700   \n",
       "15                 32,977                    33,100                   33,350   \n",
       "16              2,269,675                 2,287,050                2,317,700   \n",
       "17                275,611                   277,700                  280,900   \n",
       "18                 46,468                    45,225                   47,200   \n",
       "19                 22,735                    23,000                   23,150   \n",
       "20                 82,149                    82,700                   83,400   \n",
       "21                 10,876                    10,900                   11,050   \n",
       "22                 65,726                    65,750                   66,200   \n",
       "23                 42,104                    42,350                   42,700   \n",
       "24                 23,365                    23,425                   23,600   \n",
       "25                 13,401                    13,475                   13,625   \n",
       "26                920,393                   928,200                  937,400   \n",
       "27                 17,788                    17,850                   18,150   \n",
       "28                129,523                   130,000                  131,250   \n",
       "29                 11,604                    11,750                   11,900   \n",
       "30                827,957                   837,800                  847,300   \n",
       "31                539,339                   542,100                  550,700   \n",
       "32                 46,445                    46,725                   47,050   \n",
       "33                294,793                   297,800                  300,500   \n",
       "34                  4,422                     4,475                    4,525   \n",
       "35                 62,584                    62,100                   62,625   \n",
       "36                226,847                   226,300                  231,650   \n",
       "37                 47,973                    44,600                   47,800   \n",
       "38                256,728                   258,100                  259,950   \n",
       "\n",
       "   2023 Population Estimate 2024 Population Estimate  \n",
       "0                    21,200                   21,475  \n",
       "1                    22,650                   22,725  \n",
       "2                   215,500                  217,850  \n",
       "3                    81,500                   82,300  \n",
       "4                    78,075                   78,550  \n",
       "5                   527,400                  536,300  \n",
       "6                     3,950                    3,975  \n",
       "7                   113,000                  113,900  \n",
       "8                    44,500                   45,150  \n",
       "9                     7,300                    7,350  \n",
       "10                  101,100                  102,300  \n",
       "11                    2,300                    2,325  \n",
       "12                  103,300                  105,300  \n",
       "13                   77,000                   77,400  \n",
       "14                   88,150                   88,650  \n",
       "15                   33,425                   33,700  \n",
       "16                2,347,800                2,378,100  \n",
       "17                  283,200                  286,100  \n",
       "18                   47,300                   48,600  \n",
       "19                   23,250                   23,450  \n",
       "20                   84,075                   84,950  \n",
       "21                   11,125                   11,300  \n",
       "22                   67,000                   67,475  \n",
       "23                   43,000                   43,200  \n",
       "24                   23,775                   23,950  \n",
       "25                   13,725                   13,850  \n",
       "26                  946,300                  952,600  \n",
       "27                   18,350                   18,475  \n",
       "28                  132,000                  133,300  \n",
       "29                   12,000                   12,075  \n",
       "30                  859,800                  867,100  \n",
       "31                  554,600                  559,400  \n",
       "32                   47,350                   47,650  \n",
       "33                  303,400                  307,000  \n",
       "34                    4,550                    4,550  \n",
       "35                   63,100                   63,375  \n",
       "36                  235,800                  238,000  \n",
       "37                   48,100                   48,750  \n",
       "38                  261,200                  263,200  "
      ]
     },
     "execution_count": 153,
     "metadata": {},
     "output_type": "execute_result"
    }
   ],
   "source": [
    "filtered_population_data = filtered_population_data[~filtered_population_data[\"Jurisdiction\"].str.contains(\"incorporated\", case=False, na=False)].reset_index()\n",
    "filtered_population_data.head(40)"
   ]
  },
  {
   "cell_type": "markdown",
   "metadata": {},
   "source": [
    "Now we have all the 39 counties above, so lets filter out the counties that are not in Washington state from the EV data file"
   ]
  },
  {
   "cell_type": "code",
   "execution_count": 154,
   "metadata": {},
   "outputs": [
    {
     "data": {
      "text/html": [
       "<div>\n",
       "<style scoped>\n",
       "    .dataframe tbody tr th:only-of-type {\n",
       "        vertical-align: middle;\n",
       "    }\n",
       "\n",
       "    .dataframe tbody tr th {\n",
       "        vertical-align: top;\n",
       "    }\n",
       "\n",
       "    .dataframe thead th {\n",
       "        text-align: right;\n",
       "    }\n",
       "</style>\n",
       "<table border=\"1\" class=\"dataframe\">\n",
       "  <thead>\n",
       "    <tr style=\"text-align: right;\">\n",
       "      <th></th>\n",
       "      <th>index</th>\n",
       "      <th>County</th>\n",
       "      <th>Registered EVs</th>\n",
       "    </tr>\n",
       "  </thead>\n",
       "  <tbody>\n",
       "    <tr>\n",
       "      <th>0</th>\n",
       "      <td>1</td>\n",
       "      <td>Adams</td>\n",
       "      <td>72</td>\n",
       "    </tr>\n",
       "    <tr>\n",
       "      <th>1</th>\n",
       "      <td>11</td>\n",
       "      <td>Asotin</td>\n",
       "      <td>90</td>\n",
       "    </tr>\n",
       "    <tr>\n",
       "      <th>2</th>\n",
       "      <td>16</td>\n",
       "      <td>Benton</td>\n",
       "      <td>2726</td>\n",
       "    </tr>\n",
       "    <tr>\n",
       "      <th>3</th>\n",
       "      <td>27</td>\n",
       "      <td>Chelan</td>\n",
       "      <td>1315</td>\n",
       "    </tr>\n",
       "    <tr>\n",
       "      <th>4</th>\n",
       "      <td>33</td>\n",
       "      <td>Clallam</td>\n",
       "      <td>1297</td>\n",
       "    </tr>\n",
       "    <tr>\n",
       "      <th>5</th>\n",
       "      <td>34</td>\n",
       "      <td>Clark</td>\n",
       "      <td>12938</td>\n",
       "    </tr>\n",
       "    <tr>\n",
       "      <th>6</th>\n",
       "      <td>36</td>\n",
       "      <td>Columbia</td>\n",
       "      <td>18</td>\n",
       "    </tr>\n",
       "    <tr>\n",
       "      <th>7</th>\n",
       "      <td>39</td>\n",
       "      <td>Cowlitz</td>\n",
       "      <td>1128</td>\n",
       "    </tr>\n",
       "    <tr>\n",
       "      <th>8</th>\n",
       "      <td>48</td>\n",
       "      <td>Douglas</td>\n",
       "      <td>463</td>\n",
       "    </tr>\n",
       "    <tr>\n",
       "      <th>9</th>\n",
       "      <td>57</td>\n",
       "      <td>Ferry</td>\n",
       "      <td>32</td>\n",
       "    </tr>\n",
       "    <tr>\n",
       "      <th>10</th>\n",
       "      <td>58</td>\n",
       "      <td>Franklin</td>\n",
       "      <td>773</td>\n",
       "    </tr>\n",
       "    <tr>\n",
       "      <th>11</th>\n",
       "      <td>63</td>\n",
       "      <td>Garfield</td>\n",
       "      <td>4</td>\n",
       "    </tr>\n",
       "    <tr>\n",
       "      <th>12</th>\n",
       "      <td>65</td>\n",
       "      <td>Grant</td>\n",
       "      <td>778</td>\n",
       "    </tr>\n",
       "    <tr>\n",
       "      <th>13</th>\n",
       "      <td>66</td>\n",
       "      <td>Grays Harbor</td>\n",
       "      <td>795</td>\n",
       "    </tr>\n",
       "    <tr>\n",
       "      <th>14</th>\n",
       "      <td>80</td>\n",
       "      <td>Island</td>\n",
       "      <td>2302</td>\n",
       "    </tr>\n",
       "    <tr>\n",
       "      <th>15</th>\n",
       "      <td>83</td>\n",
       "      <td>Jefferson</td>\n",
       "      <td>1162</td>\n",
       "    </tr>\n",
       "    <tr>\n",
       "      <th>16</th>\n",
       "      <td>87</td>\n",
       "      <td>King</td>\n",
       "      <td>110164</td>\n",
       "    </tr>\n",
       "    <tr>\n",
       "      <th>17</th>\n",
       "      <td>89</td>\n",
       "      <td>Kitsap</td>\n",
       "      <td>7215</td>\n",
       "    </tr>\n",
       "    <tr>\n",
       "      <th>18</th>\n",
       "      <td>90</td>\n",
       "      <td>Kittitas</td>\n",
       "      <td>804</td>\n",
       "    </tr>\n",
       "    <tr>\n",
       "      <th>19</th>\n",
       "      <td>91</td>\n",
       "      <td>Klickitat</td>\n",
       "      <td>362</td>\n",
       "    </tr>\n",
       "    <tr>\n",
       "      <th>20</th>\n",
       "      <td>99</td>\n",
       "      <td>Lewis</td>\n",
       "      <td>983</td>\n",
       "    </tr>\n",
       "    <tr>\n",
       "      <th>21</th>\n",
       "      <td>100</td>\n",
       "      <td>Lincoln</td>\n",
       "      <td>64</td>\n",
       "    </tr>\n",
       "    <tr>\n",
       "      <th>22</th>\n",
       "      <td>108</td>\n",
       "      <td>Mason</td>\n",
       "      <td>1026</td>\n",
       "    </tr>\n",
       "    <tr>\n",
       "      <th>23</th>\n",
       "      <td>129</td>\n",
       "      <td>Okanogan</td>\n",
       "      <td>331</td>\n",
       "    </tr>\n",
       "    <tr>\n",
       "      <th>24</th>\n",
       "      <td>133</td>\n",
       "      <td>Pacific</td>\n",
       "      <td>264</td>\n",
       "    </tr>\n",
       "    <tr>\n",
       "      <th>25</th>\n",
       "      <td>135</td>\n",
       "      <td>Pend Oreille</td>\n",
       "      <td>75</td>\n",
       "    </tr>\n",
       "    <tr>\n",
       "      <th>26</th>\n",
       "      <td>139</td>\n",
       "      <td>Pierce</td>\n",
       "      <td>17397</td>\n",
       "    </tr>\n",
       "    <tr>\n",
       "      <th>27</th>\n",
       "      <td>161</td>\n",
       "      <td>San Juan</td>\n",
       "      <td>1047</td>\n",
       "    </tr>\n",
       "    <tr>\n",
       "      <th>28</th>\n",
       "      <td>169</td>\n",
       "      <td>Skagit</td>\n",
       "      <td>2447</td>\n",
       "    </tr>\n",
       "    <tr>\n",
       "      <th>29</th>\n",
       "      <td>170</td>\n",
       "      <td>Skamania</td>\n",
       "      <td>224</td>\n",
       "    </tr>\n",
       "    <tr>\n",
       "      <th>30</th>\n",
       "      <td>171</td>\n",
       "      <td>Snohomish</td>\n",
       "      <td>26200</td>\n",
       "    </tr>\n",
       "    <tr>\n",
       "      <th>31</th>\n",
       "      <td>174</td>\n",
       "      <td>Spokane</td>\n",
       "      <td>5999</td>\n",
       "    </tr>\n",
       "    <tr>\n",
       "      <th>32</th>\n",
       "      <td>181</td>\n",
       "      <td>Stevens</td>\n",
       "      <td>263</td>\n",
       "    </tr>\n",
       "    <tr>\n",
       "      <th>33</th>\n",
       "      <td>185</td>\n",
       "      <td>Thurston</td>\n",
       "      <td>7938</td>\n",
       "    </tr>\n",
       "    <tr>\n",
       "      <th>34</th>\n",
       "      <td>191</td>\n",
       "      <td>Wahkiakum</td>\n",
       "      <td>75</td>\n",
       "    </tr>\n",
       "    <tr>\n",
       "      <th>35</th>\n",
       "      <td>193</td>\n",
       "      <td>Walla Walla</td>\n",
       "      <td>552</td>\n",
       "    </tr>\n",
       "    <tr>\n",
       "      <th>36</th>\n",
       "      <td>197</td>\n",
       "      <td>Whatcom</td>\n",
       "      <td>5244</td>\n",
       "    </tr>\n",
       "    <tr>\n",
       "      <th>37</th>\n",
       "      <td>198</td>\n",
       "      <td>Whitman</td>\n",
       "      <td>426</td>\n",
       "    </tr>\n",
       "    <tr>\n",
       "      <th>38</th>\n",
       "      <td>201</td>\n",
       "      <td>Yakima</td>\n",
       "      <td>1340</td>\n",
       "    </tr>\n",
       "  </tbody>\n",
       "</table>\n",
       "</div>"
      ],
      "text/plain": [
       "    index        County  Registered EVs\n",
       "0       1         Adams              72\n",
       "1      11        Asotin              90\n",
       "2      16        Benton            2726\n",
       "3      27        Chelan            1315\n",
       "4      33       Clallam            1297\n",
       "5      34         Clark           12938\n",
       "6      36      Columbia              18\n",
       "7      39       Cowlitz            1128\n",
       "8      48       Douglas             463\n",
       "9      57         Ferry              32\n",
       "10     58      Franklin             773\n",
       "11     63      Garfield               4\n",
       "12     65         Grant             778\n",
       "13     66  Grays Harbor             795\n",
       "14     80        Island            2302\n",
       "15     83     Jefferson            1162\n",
       "16     87          King          110164\n",
       "17     89        Kitsap            7215\n",
       "18     90      Kittitas             804\n",
       "19     91     Klickitat             362\n",
       "20     99         Lewis             983\n",
       "21    100       Lincoln              64\n",
       "22    108         Mason            1026\n",
       "23    129      Okanogan             331\n",
       "24    133       Pacific             264\n",
       "25    135  Pend Oreille              75\n",
       "26    139        Pierce           17397\n",
       "27    161      San Juan            1047\n",
       "28    169        Skagit            2447\n",
       "29    170      Skamania             224\n",
       "30    171     Snohomish           26200\n",
       "31    174       Spokane            5999\n",
       "32    181       Stevens             263\n",
       "33    185      Thurston            7938\n",
       "34    191     Wahkiakum              75\n",
       "35    193   Walla Walla             552\n",
       "36    197       Whatcom            5244\n",
       "37    198       Whitman             426\n",
       "38    201        Yakima            1340"
      ]
     },
     "execution_count": 154,
     "metadata": {},
     "output_type": "execute_result"
    }
   ],
   "source": [
    "filtered_ev_by_county = ev_by_county[ev_by_county[\"County\"].isin(filtered_population_data[\"County\"])].reset_index()\n",
    "filtered_ev_by_county"
   ]
  },
  {
   "cell_type": "markdown",
   "metadata": {},
   "source": [
    "Let's graph this in a histogram:"
   ]
  },
  {
   "cell_type": "code",
   "execution_count": 155,
   "metadata": {},
   "outputs": [
    {
     "data": {
      "text/html": [
       "        <script type=\"text/javascript\">\n",
       "        window.PlotlyConfig = {MathJaxConfig: 'local'};\n",
       "        if (window.MathJax && window.MathJax.Hub && window.MathJax.Hub.Config) {window.MathJax.Hub.Config({SVG: {font: \"STIX-Web\"}});}\n",
       "        if (typeof require !== 'undefined') {\n",
       "        require.undef(\"plotly\");\n",
       "        requirejs.config({\n",
       "            paths: {\n",
       "                'plotly': ['https://cdn.plot.ly/plotly-2.32.0.min']\n",
       "            }\n",
       "        });\n",
       "        require(['plotly'], function(Plotly) {\n",
       "            window._Plotly = Plotly;\n",
       "        });\n",
       "        }\n",
       "        </script>\n",
       "        "
      ]
     },
     "metadata": {},
     "output_type": "display_data"
    },
    {
     "data": {
      "application/vnd.plotly.v1+json": {
       "config": {
        "plotlyServerURL": "https://plot.ly"
       },
       "data": [
        {
         "alignmentgroup": "True",
         "bingroup": "x",
         "histfunc": "sum",
         "hovertemplate": "County=%{x}<br>sum of Registered EVs=%{y}<extra></extra>",
         "legendgroup": "",
         "marker": {
          "color": "#636efa",
          "pattern": {
           "shape": ""
          }
         },
         "name": "",
         "offsetgroup": "",
         "orientation": "v",
         "showlegend": false,
         "type": "histogram",
         "x": [
          "Adams",
          "Asotin",
          "Benton",
          "Chelan",
          "Clallam",
          "Clark",
          "Columbia",
          "Cowlitz",
          "Douglas",
          "Ferry",
          "Franklin",
          "Garfield",
          "Grant",
          "Grays Harbor",
          "Island",
          "Jefferson",
          "King",
          "Kitsap",
          "Kittitas",
          "Klickitat",
          "Lewis",
          "Lincoln",
          "Mason",
          "Okanogan",
          "Pacific",
          "Pend Oreille",
          "Pierce",
          "San Juan",
          "Skagit",
          "Skamania",
          "Snohomish",
          "Spokane",
          "Stevens",
          "Thurston",
          "Wahkiakum",
          "Walla Walla",
          "Whatcom",
          "Whitman",
          "Yakima"
         ],
         "xaxis": "x",
         "y": [
          72,
          90,
          2726,
          1315,
          1297,
          12938,
          18,
          1128,
          463,
          32,
          773,
          4,
          778,
          795,
          2302,
          1162,
          110164,
          7215,
          804,
          362,
          983,
          64,
          1026,
          331,
          264,
          75,
          17397,
          1047,
          2447,
          224,
          26200,
          5999,
          263,
          7938,
          75,
          552,
          5244,
          426,
          1340
         ],
         "yaxis": "y"
        }
       ],
       "layout": {
        "barmode": "relative",
        "legend": {
         "tracegroupgap": 0
        },
        "template": {
         "data": {
          "bar": [
           {
            "error_x": {
             "color": "#2a3f5f"
            },
            "error_y": {
             "color": "#2a3f5f"
            },
            "marker": {
             "line": {
              "color": "#E5ECF6",
              "width": 0.5
             },
             "pattern": {
              "fillmode": "overlay",
              "size": 10,
              "solidity": 0.2
             }
            },
            "type": "bar"
           }
          ],
          "barpolar": [
           {
            "marker": {
             "line": {
              "color": "#E5ECF6",
              "width": 0.5
             },
             "pattern": {
              "fillmode": "overlay",
              "size": 10,
              "solidity": 0.2
             }
            },
            "type": "barpolar"
           }
          ],
          "carpet": [
           {
            "aaxis": {
             "endlinecolor": "#2a3f5f",
             "gridcolor": "white",
             "linecolor": "white",
             "minorgridcolor": "white",
             "startlinecolor": "#2a3f5f"
            },
            "baxis": {
             "endlinecolor": "#2a3f5f",
             "gridcolor": "white",
             "linecolor": "white",
             "minorgridcolor": "white",
             "startlinecolor": "#2a3f5f"
            },
            "type": "carpet"
           }
          ],
          "choropleth": [
           {
            "colorbar": {
             "outlinewidth": 0,
             "ticks": ""
            },
            "type": "choropleth"
           }
          ],
          "contour": [
           {
            "colorbar": {
             "outlinewidth": 0,
             "ticks": ""
            },
            "colorscale": [
             [
              0,
              "#0d0887"
             ],
             [
              0.1111111111111111,
              "#46039f"
             ],
             [
              0.2222222222222222,
              "#7201a8"
             ],
             [
              0.3333333333333333,
              "#9c179e"
             ],
             [
              0.4444444444444444,
              "#bd3786"
             ],
             [
              0.5555555555555556,
              "#d8576b"
             ],
             [
              0.6666666666666666,
              "#ed7953"
             ],
             [
              0.7777777777777778,
              "#fb9f3a"
             ],
             [
              0.8888888888888888,
              "#fdca26"
             ],
             [
              1,
              "#f0f921"
             ]
            ],
            "type": "contour"
           }
          ],
          "contourcarpet": [
           {
            "colorbar": {
             "outlinewidth": 0,
             "ticks": ""
            },
            "type": "contourcarpet"
           }
          ],
          "heatmap": [
           {
            "colorbar": {
             "outlinewidth": 0,
             "ticks": ""
            },
            "colorscale": [
             [
              0,
              "#0d0887"
             ],
             [
              0.1111111111111111,
              "#46039f"
             ],
             [
              0.2222222222222222,
              "#7201a8"
             ],
             [
              0.3333333333333333,
              "#9c179e"
             ],
             [
              0.4444444444444444,
              "#bd3786"
             ],
             [
              0.5555555555555556,
              "#d8576b"
             ],
             [
              0.6666666666666666,
              "#ed7953"
             ],
             [
              0.7777777777777778,
              "#fb9f3a"
             ],
             [
              0.8888888888888888,
              "#fdca26"
             ],
             [
              1,
              "#f0f921"
             ]
            ],
            "type": "heatmap"
           }
          ],
          "heatmapgl": [
           {
            "colorbar": {
             "outlinewidth": 0,
             "ticks": ""
            },
            "colorscale": [
             [
              0,
              "#0d0887"
             ],
             [
              0.1111111111111111,
              "#46039f"
             ],
             [
              0.2222222222222222,
              "#7201a8"
             ],
             [
              0.3333333333333333,
              "#9c179e"
             ],
             [
              0.4444444444444444,
              "#bd3786"
             ],
             [
              0.5555555555555556,
              "#d8576b"
             ],
             [
              0.6666666666666666,
              "#ed7953"
             ],
             [
              0.7777777777777778,
              "#fb9f3a"
             ],
             [
              0.8888888888888888,
              "#fdca26"
             ],
             [
              1,
              "#f0f921"
             ]
            ],
            "type": "heatmapgl"
           }
          ],
          "histogram": [
           {
            "marker": {
             "pattern": {
              "fillmode": "overlay",
              "size": 10,
              "solidity": 0.2
             }
            },
            "type": "histogram"
           }
          ],
          "histogram2d": [
           {
            "colorbar": {
             "outlinewidth": 0,
             "ticks": ""
            },
            "colorscale": [
             [
              0,
              "#0d0887"
             ],
             [
              0.1111111111111111,
              "#46039f"
             ],
             [
              0.2222222222222222,
              "#7201a8"
             ],
             [
              0.3333333333333333,
              "#9c179e"
             ],
             [
              0.4444444444444444,
              "#bd3786"
             ],
             [
              0.5555555555555556,
              "#d8576b"
             ],
             [
              0.6666666666666666,
              "#ed7953"
             ],
             [
              0.7777777777777778,
              "#fb9f3a"
             ],
             [
              0.8888888888888888,
              "#fdca26"
             ],
             [
              1,
              "#f0f921"
             ]
            ],
            "type": "histogram2d"
           }
          ],
          "histogram2dcontour": [
           {
            "colorbar": {
             "outlinewidth": 0,
             "ticks": ""
            },
            "colorscale": [
             [
              0,
              "#0d0887"
             ],
             [
              0.1111111111111111,
              "#46039f"
             ],
             [
              0.2222222222222222,
              "#7201a8"
             ],
             [
              0.3333333333333333,
              "#9c179e"
             ],
             [
              0.4444444444444444,
              "#bd3786"
             ],
             [
              0.5555555555555556,
              "#d8576b"
             ],
             [
              0.6666666666666666,
              "#ed7953"
             ],
             [
              0.7777777777777778,
              "#fb9f3a"
             ],
             [
              0.8888888888888888,
              "#fdca26"
             ],
             [
              1,
              "#f0f921"
             ]
            ],
            "type": "histogram2dcontour"
           }
          ],
          "mesh3d": [
           {
            "colorbar": {
             "outlinewidth": 0,
             "ticks": ""
            },
            "type": "mesh3d"
           }
          ],
          "parcoords": [
           {
            "line": {
             "colorbar": {
              "outlinewidth": 0,
              "ticks": ""
             }
            },
            "type": "parcoords"
           }
          ],
          "pie": [
           {
            "automargin": true,
            "type": "pie"
           }
          ],
          "scatter": [
           {
            "fillpattern": {
             "fillmode": "overlay",
             "size": 10,
             "solidity": 0.2
            },
            "type": "scatter"
           }
          ],
          "scatter3d": [
           {
            "line": {
             "colorbar": {
              "outlinewidth": 0,
              "ticks": ""
             }
            },
            "marker": {
             "colorbar": {
              "outlinewidth": 0,
              "ticks": ""
             }
            },
            "type": "scatter3d"
           }
          ],
          "scattercarpet": [
           {
            "marker": {
             "colorbar": {
              "outlinewidth": 0,
              "ticks": ""
             }
            },
            "type": "scattercarpet"
           }
          ],
          "scattergeo": [
           {
            "marker": {
             "colorbar": {
              "outlinewidth": 0,
              "ticks": ""
             }
            },
            "type": "scattergeo"
           }
          ],
          "scattergl": [
           {
            "marker": {
             "colorbar": {
              "outlinewidth": 0,
              "ticks": ""
             }
            },
            "type": "scattergl"
           }
          ],
          "scattermapbox": [
           {
            "marker": {
             "colorbar": {
              "outlinewidth": 0,
              "ticks": ""
             }
            },
            "type": "scattermapbox"
           }
          ],
          "scatterpolar": [
           {
            "marker": {
             "colorbar": {
              "outlinewidth": 0,
              "ticks": ""
             }
            },
            "type": "scatterpolar"
           }
          ],
          "scatterpolargl": [
           {
            "marker": {
             "colorbar": {
              "outlinewidth": 0,
              "ticks": ""
             }
            },
            "type": "scatterpolargl"
           }
          ],
          "scatterternary": [
           {
            "marker": {
             "colorbar": {
              "outlinewidth": 0,
              "ticks": ""
             }
            },
            "type": "scatterternary"
           }
          ],
          "surface": [
           {
            "colorbar": {
             "outlinewidth": 0,
             "ticks": ""
            },
            "colorscale": [
             [
              0,
              "#0d0887"
             ],
             [
              0.1111111111111111,
              "#46039f"
             ],
             [
              0.2222222222222222,
              "#7201a8"
             ],
             [
              0.3333333333333333,
              "#9c179e"
             ],
             [
              0.4444444444444444,
              "#bd3786"
             ],
             [
              0.5555555555555556,
              "#d8576b"
             ],
             [
              0.6666666666666666,
              "#ed7953"
             ],
             [
              0.7777777777777778,
              "#fb9f3a"
             ],
             [
              0.8888888888888888,
              "#fdca26"
             ],
             [
              1,
              "#f0f921"
             ]
            ],
            "type": "surface"
           }
          ],
          "table": [
           {
            "cells": {
             "fill": {
              "color": "#EBF0F8"
             },
             "line": {
              "color": "white"
             }
            },
            "header": {
             "fill": {
              "color": "#C8D4E3"
             },
             "line": {
              "color": "white"
             }
            },
            "type": "table"
           }
          ]
         },
         "layout": {
          "annotationdefaults": {
           "arrowcolor": "#2a3f5f",
           "arrowhead": 0,
           "arrowwidth": 1
          },
          "autotypenumbers": "strict",
          "coloraxis": {
           "colorbar": {
            "outlinewidth": 0,
            "ticks": ""
           }
          },
          "colorscale": {
           "diverging": [
            [
             0,
             "#8e0152"
            ],
            [
             0.1,
             "#c51b7d"
            ],
            [
             0.2,
             "#de77ae"
            ],
            [
             0.3,
             "#f1b6da"
            ],
            [
             0.4,
             "#fde0ef"
            ],
            [
             0.5,
             "#f7f7f7"
            ],
            [
             0.6,
             "#e6f5d0"
            ],
            [
             0.7,
             "#b8e186"
            ],
            [
             0.8,
             "#7fbc41"
            ],
            [
             0.9,
             "#4d9221"
            ],
            [
             1,
             "#276419"
            ]
           ],
           "sequential": [
            [
             0,
             "#0d0887"
            ],
            [
             0.1111111111111111,
             "#46039f"
            ],
            [
             0.2222222222222222,
             "#7201a8"
            ],
            [
             0.3333333333333333,
             "#9c179e"
            ],
            [
             0.4444444444444444,
             "#bd3786"
            ],
            [
             0.5555555555555556,
             "#d8576b"
            ],
            [
             0.6666666666666666,
             "#ed7953"
            ],
            [
             0.7777777777777778,
             "#fb9f3a"
            ],
            [
             0.8888888888888888,
             "#fdca26"
            ],
            [
             1,
             "#f0f921"
            ]
           ],
           "sequentialminus": [
            [
             0,
             "#0d0887"
            ],
            [
             0.1111111111111111,
             "#46039f"
            ],
            [
             0.2222222222222222,
             "#7201a8"
            ],
            [
             0.3333333333333333,
             "#9c179e"
            ],
            [
             0.4444444444444444,
             "#bd3786"
            ],
            [
             0.5555555555555556,
             "#d8576b"
            ],
            [
             0.6666666666666666,
             "#ed7953"
            ],
            [
             0.7777777777777778,
             "#fb9f3a"
            ],
            [
             0.8888888888888888,
             "#fdca26"
            ],
            [
             1,
             "#f0f921"
            ]
           ]
          },
          "colorway": [
           "#636efa",
           "#EF553B",
           "#00cc96",
           "#ab63fa",
           "#FFA15A",
           "#19d3f3",
           "#FF6692",
           "#B6E880",
           "#FF97FF",
           "#FECB52"
          ],
          "font": {
           "color": "#2a3f5f"
          },
          "geo": {
           "bgcolor": "white",
           "lakecolor": "white",
           "landcolor": "#E5ECF6",
           "showlakes": true,
           "showland": true,
           "subunitcolor": "white"
          },
          "hoverlabel": {
           "align": "left"
          },
          "hovermode": "closest",
          "mapbox": {
           "style": "light"
          },
          "paper_bgcolor": "white",
          "plot_bgcolor": "#E5ECF6",
          "polar": {
           "angularaxis": {
            "gridcolor": "white",
            "linecolor": "white",
            "ticks": ""
           },
           "bgcolor": "#E5ECF6",
           "radialaxis": {
            "gridcolor": "white",
            "linecolor": "white",
            "ticks": ""
           }
          },
          "scene": {
           "xaxis": {
            "backgroundcolor": "#E5ECF6",
            "gridcolor": "white",
            "gridwidth": 2,
            "linecolor": "white",
            "showbackground": true,
            "ticks": "",
            "zerolinecolor": "white"
           },
           "yaxis": {
            "backgroundcolor": "#E5ECF6",
            "gridcolor": "white",
            "gridwidth": 2,
            "linecolor": "white",
            "showbackground": true,
            "ticks": "",
            "zerolinecolor": "white"
           },
           "zaxis": {
            "backgroundcolor": "#E5ECF6",
            "gridcolor": "white",
            "gridwidth": 2,
            "linecolor": "white",
            "showbackground": true,
            "ticks": "",
            "zerolinecolor": "white"
           }
          },
          "shapedefaults": {
           "line": {
            "color": "#2a3f5f"
           }
          },
          "ternary": {
           "aaxis": {
            "gridcolor": "white",
            "linecolor": "white",
            "ticks": ""
           },
           "baxis": {
            "gridcolor": "white",
            "linecolor": "white",
            "ticks": ""
           },
           "bgcolor": "#E5ECF6",
           "caxis": {
            "gridcolor": "white",
            "linecolor": "white",
            "ticks": ""
           }
          },
          "title": {
           "x": 0.05
          },
          "xaxis": {
           "automargin": true,
           "gridcolor": "white",
           "linecolor": "white",
           "ticks": "",
           "title": {
            "standoff": 15
           },
           "zerolinecolor": "white",
           "zerolinewidth": 2
          },
          "yaxis": {
           "automargin": true,
           "gridcolor": "white",
           "linecolor": "white",
           "ticks": "",
           "title": {
            "standoff": 15
           },
           "zerolinecolor": "white",
           "zerolinewidth": 2
          }
         }
        },
        "title": {
         "text": "Registered EVs by County in Washington State"
        },
        "xaxis": {
         "anchor": "y",
         "domain": [
          0,
          1
         ],
         "title": {
          "text": "County"
         }
        },
        "yaxis": {
         "anchor": "x",
         "domain": [
          0,
          1
         ],
         "title": {
          "text": "sum of Registered EVs"
         }
        }
       }
      },
      "text/html": [
       "<div>                            <div id=\"e0099e78-f906-404a-85f5-a6eb321368f5\" class=\"plotly-graph-div\" style=\"height:525px; width:100%;\"></div>            <script type=\"text/javascript\">                require([\"plotly\"], function(Plotly) {                    window.PLOTLYENV=window.PLOTLYENV || {};                                    if (document.getElementById(\"e0099e78-f906-404a-85f5-a6eb321368f5\")) {                    Plotly.newPlot(                        \"e0099e78-f906-404a-85f5-a6eb321368f5\",                        [{\"alignmentgroup\":\"True\",\"bingroup\":\"x\",\"histfunc\":\"sum\",\"hovertemplate\":\"County=%{x}\\u003cbr\\u003esum of Registered EVs=%{y}\\u003cextra\\u003e\\u003c\\u002fextra\\u003e\",\"legendgroup\":\"\",\"marker\":{\"color\":\"#636efa\",\"pattern\":{\"shape\":\"\"}},\"name\":\"\",\"offsetgroup\":\"\",\"orientation\":\"v\",\"showlegend\":false,\"x\":[\"Adams\",\"Asotin\",\"Benton\",\"Chelan\",\"Clallam\",\"Clark\",\"Columbia\",\"Cowlitz\",\"Douglas\",\"Ferry\",\"Franklin\",\"Garfield\",\"Grant\",\"Grays Harbor\",\"Island\",\"Jefferson\",\"King\",\"Kitsap\",\"Kittitas\",\"Klickitat\",\"Lewis\",\"Lincoln\",\"Mason\",\"Okanogan\",\"Pacific\",\"Pend Oreille\",\"Pierce\",\"San Juan\",\"Skagit\",\"Skamania\",\"Snohomish\",\"Spokane\",\"Stevens\",\"Thurston\",\"Wahkiakum\",\"Walla Walla\",\"Whatcom\",\"Whitman\",\"Yakima\"],\"xaxis\":\"x\",\"y\":[72,90,2726,1315,1297,12938,18,1128,463,32,773,4,778,795,2302,1162,110164,7215,804,362,983,64,1026,331,264,75,17397,1047,2447,224,26200,5999,263,7938,75,552,5244,426,1340],\"yaxis\":\"y\",\"type\":\"histogram\"}],                        {\"template\":{\"data\":{\"histogram2dcontour\":[{\"type\":\"histogram2dcontour\",\"colorbar\":{\"outlinewidth\":0,\"ticks\":\"\"},\"colorscale\":[[0.0,\"#0d0887\"],[0.1111111111111111,\"#46039f\"],[0.2222222222222222,\"#7201a8\"],[0.3333333333333333,\"#9c179e\"],[0.4444444444444444,\"#bd3786\"],[0.5555555555555556,\"#d8576b\"],[0.6666666666666666,\"#ed7953\"],[0.7777777777777778,\"#fb9f3a\"],[0.8888888888888888,\"#fdca26\"],[1.0,\"#f0f921\"]]}],\"choropleth\":[{\"type\":\"choropleth\",\"colorbar\":{\"outlinewidth\":0,\"ticks\":\"\"}}],\"histogram2d\":[{\"type\":\"histogram2d\",\"colorbar\":{\"outlinewidth\":0,\"ticks\":\"\"},\"colorscale\":[[0.0,\"#0d0887\"],[0.1111111111111111,\"#46039f\"],[0.2222222222222222,\"#7201a8\"],[0.3333333333333333,\"#9c179e\"],[0.4444444444444444,\"#bd3786\"],[0.5555555555555556,\"#d8576b\"],[0.6666666666666666,\"#ed7953\"],[0.7777777777777778,\"#fb9f3a\"],[0.8888888888888888,\"#fdca26\"],[1.0,\"#f0f921\"]]}],\"heatmap\":[{\"type\":\"heatmap\",\"colorbar\":{\"outlinewidth\":0,\"ticks\":\"\"},\"colorscale\":[[0.0,\"#0d0887\"],[0.1111111111111111,\"#46039f\"],[0.2222222222222222,\"#7201a8\"],[0.3333333333333333,\"#9c179e\"],[0.4444444444444444,\"#bd3786\"],[0.5555555555555556,\"#d8576b\"],[0.6666666666666666,\"#ed7953\"],[0.7777777777777778,\"#fb9f3a\"],[0.8888888888888888,\"#fdca26\"],[1.0,\"#f0f921\"]]}],\"heatmapgl\":[{\"type\":\"heatmapgl\",\"colorbar\":{\"outlinewidth\":0,\"ticks\":\"\"},\"colorscale\":[[0.0,\"#0d0887\"],[0.1111111111111111,\"#46039f\"],[0.2222222222222222,\"#7201a8\"],[0.3333333333333333,\"#9c179e\"],[0.4444444444444444,\"#bd3786\"],[0.5555555555555556,\"#d8576b\"],[0.6666666666666666,\"#ed7953\"],[0.7777777777777778,\"#fb9f3a\"],[0.8888888888888888,\"#fdca26\"],[1.0,\"#f0f921\"]]}],\"contourcarpet\":[{\"type\":\"contourcarpet\",\"colorbar\":{\"outlinewidth\":0,\"ticks\":\"\"}}],\"contour\":[{\"type\":\"contour\",\"colorbar\":{\"outlinewidth\":0,\"ticks\":\"\"},\"colorscale\":[[0.0,\"#0d0887\"],[0.1111111111111111,\"#46039f\"],[0.2222222222222222,\"#7201a8\"],[0.3333333333333333,\"#9c179e\"],[0.4444444444444444,\"#bd3786\"],[0.5555555555555556,\"#d8576b\"],[0.6666666666666666,\"#ed7953\"],[0.7777777777777778,\"#fb9f3a\"],[0.8888888888888888,\"#fdca26\"],[1.0,\"#f0f921\"]]}],\"surface\":[{\"type\":\"surface\",\"colorbar\":{\"outlinewidth\":0,\"ticks\":\"\"},\"colorscale\":[[0.0,\"#0d0887\"],[0.1111111111111111,\"#46039f\"],[0.2222222222222222,\"#7201a8\"],[0.3333333333333333,\"#9c179e\"],[0.4444444444444444,\"#bd3786\"],[0.5555555555555556,\"#d8576b\"],[0.6666666666666666,\"#ed7953\"],[0.7777777777777778,\"#fb9f3a\"],[0.8888888888888888,\"#fdca26\"],[1.0,\"#f0f921\"]]}],\"mesh3d\":[{\"type\":\"mesh3d\",\"colorbar\":{\"outlinewidth\":0,\"ticks\":\"\"}}],\"scatter\":[{\"fillpattern\":{\"fillmode\":\"overlay\",\"size\":10,\"solidity\":0.2},\"type\":\"scatter\"}],\"parcoords\":[{\"type\":\"parcoords\",\"line\":{\"colorbar\":{\"outlinewidth\":0,\"ticks\":\"\"}}}],\"scatterpolargl\":[{\"type\":\"scatterpolargl\",\"marker\":{\"colorbar\":{\"outlinewidth\":0,\"ticks\":\"\"}}}],\"bar\":[{\"error_x\":{\"color\":\"#2a3f5f\"},\"error_y\":{\"color\":\"#2a3f5f\"},\"marker\":{\"line\":{\"color\":\"#E5ECF6\",\"width\":0.5},\"pattern\":{\"fillmode\":\"overlay\",\"size\":10,\"solidity\":0.2}},\"type\":\"bar\"}],\"scattergeo\":[{\"type\":\"scattergeo\",\"marker\":{\"colorbar\":{\"outlinewidth\":0,\"ticks\":\"\"}}}],\"scatterpolar\":[{\"type\":\"scatterpolar\",\"marker\":{\"colorbar\":{\"outlinewidth\":0,\"ticks\":\"\"}}}],\"histogram\":[{\"marker\":{\"pattern\":{\"fillmode\":\"overlay\",\"size\":10,\"solidity\":0.2}},\"type\":\"histogram\"}],\"scattergl\":[{\"type\":\"scattergl\",\"marker\":{\"colorbar\":{\"outlinewidth\":0,\"ticks\":\"\"}}}],\"scatter3d\":[{\"type\":\"scatter3d\",\"line\":{\"colorbar\":{\"outlinewidth\":0,\"ticks\":\"\"}},\"marker\":{\"colorbar\":{\"outlinewidth\":0,\"ticks\":\"\"}}}],\"scattermapbox\":[{\"type\":\"scattermapbox\",\"marker\":{\"colorbar\":{\"outlinewidth\":0,\"ticks\":\"\"}}}],\"scatterternary\":[{\"type\":\"scatterternary\",\"marker\":{\"colorbar\":{\"outlinewidth\":0,\"ticks\":\"\"}}}],\"scattercarpet\":[{\"type\":\"scattercarpet\",\"marker\":{\"colorbar\":{\"outlinewidth\":0,\"ticks\":\"\"}}}],\"carpet\":[{\"aaxis\":{\"endlinecolor\":\"#2a3f5f\",\"gridcolor\":\"white\",\"linecolor\":\"white\",\"minorgridcolor\":\"white\",\"startlinecolor\":\"#2a3f5f\"},\"baxis\":{\"endlinecolor\":\"#2a3f5f\",\"gridcolor\":\"white\",\"linecolor\":\"white\",\"minorgridcolor\":\"white\",\"startlinecolor\":\"#2a3f5f\"},\"type\":\"carpet\"}],\"table\":[{\"cells\":{\"fill\":{\"color\":\"#EBF0F8\"},\"line\":{\"color\":\"white\"}},\"header\":{\"fill\":{\"color\":\"#C8D4E3\"},\"line\":{\"color\":\"white\"}},\"type\":\"table\"}],\"barpolar\":[{\"marker\":{\"line\":{\"color\":\"#E5ECF6\",\"width\":0.5},\"pattern\":{\"fillmode\":\"overlay\",\"size\":10,\"solidity\":0.2}},\"type\":\"barpolar\"}],\"pie\":[{\"automargin\":true,\"type\":\"pie\"}]},\"layout\":{\"autotypenumbers\":\"strict\",\"colorway\":[\"#636efa\",\"#EF553B\",\"#00cc96\",\"#ab63fa\",\"#FFA15A\",\"#19d3f3\",\"#FF6692\",\"#B6E880\",\"#FF97FF\",\"#FECB52\"],\"font\":{\"color\":\"#2a3f5f\"},\"hovermode\":\"closest\",\"hoverlabel\":{\"align\":\"left\"},\"paper_bgcolor\":\"white\",\"plot_bgcolor\":\"#E5ECF6\",\"polar\":{\"bgcolor\":\"#E5ECF6\",\"angularaxis\":{\"gridcolor\":\"white\",\"linecolor\":\"white\",\"ticks\":\"\"},\"radialaxis\":{\"gridcolor\":\"white\",\"linecolor\":\"white\",\"ticks\":\"\"}},\"ternary\":{\"bgcolor\":\"#E5ECF6\",\"aaxis\":{\"gridcolor\":\"white\",\"linecolor\":\"white\",\"ticks\":\"\"},\"baxis\":{\"gridcolor\":\"white\",\"linecolor\":\"white\",\"ticks\":\"\"},\"caxis\":{\"gridcolor\":\"white\",\"linecolor\":\"white\",\"ticks\":\"\"}},\"coloraxis\":{\"colorbar\":{\"outlinewidth\":0,\"ticks\":\"\"}},\"colorscale\":{\"sequential\":[[0.0,\"#0d0887\"],[0.1111111111111111,\"#46039f\"],[0.2222222222222222,\"#7201a8\"],[0.3333333333333333,\"#9c179e\"],[0.4444444444444444,\"#bd3786\"],[0.5555555555555556,\"#d8576b\"],[0.6666666666666666,\"#ed7953\"],[0.7777777777777778,\"#fb9f3a\"],[0.8888888888888888,\"#fdca26\"],[1.0,\"#f0f921\"]],\"sequentialminus\":[[0.0,\"#0d0887\"],[0.1111111111111111,\"#46039f\"],[0.2222222222222222,\"#7201a8\"],[0.3333333333333333,\"#9c179e\"],[0.4444444444444444,\"#bd3786\"],[0.5555555555555556,\"#d8576b\"],[0.6666666666666666,\"#ed7953\"],[0.7777777777777778,\"#fb9f3a\"],[0.8888888888888888,\"#fdca26\"],[1.0,\"#f0f921\"]],\"diverging\":[[0,\"#8e0152\"],[0.1,\"#c51b7d\"],[0.2,\"#de77ae\"],[0.3,\"#f1b6da\"],[0.4,\"#fde0ef\"],[0.5,\"#f7f7f7\"],[0.6,\"#e6f5d0\"],[0.7,\"#b8e186\"],[0.8,\"#7fbc41\"],[0.9,\"#4d9221\"],[1,\"#276419\"]]},\"xaxis\":{\"gridcolor\":\"white\",\"linecolor\":\"white\",\"ticks\":\"\",\"title\":{\"standoff\":15},\"zerolinecolor\":\"white\",\"automargin\":true,\"zerolinewidth\":2},\"yaxis\":{\"gridcolor\":\"white\",\"linecolor\":\"white\",\"ticks\":\"\",\"title\":{\"standoff\":15},\"zerolinecolor\":\"white\",\"automargin\":true,\"zerolinewidth\":2},\"scene\":{\"xaxis\":{\"backgroundcolor\":\"#E5ECF6\",\"gridcolor\":\"white\",\"linecolor\":\"white\",\"showbackground\":true,\"ticks\":\"\",\"zerolinecolor\":\"white\",\"gridwidth\":2},\"yaxis\":{\"backgroundcolor\":\"#E5ECF6\",\"gridcolor\":\"white\",\"linecolor\":\"white\",\"showbackground\":true,\"ticks\":\"\",\"zerolinecolor\":\"white\",\"gridwidth\":2},\"zaxis\":{\"backgroundcolor\":\"#E5ECF6\",\"gridcolor\":\"white\",\"linecolor\":\"white\",\"showbackground\":true,\"ticks\":\"\",\"zerolinecolor\":\"white\",\"gridwidth\":2}},\"shapedefaults\":{\"line\":{\"color\":\"#2a3f5f\"}},\"annotationdefaults\":{\"arrowcolor\":\"#2a3f5f\",\"arrowhead\":0,\"arrowwidth\":1},\"geo\":{\"bgcolor\":\"white\",\"landcolor\":\"#E5ECF6\",\"subunitcolor\":\"white\",\"showland\":true,\"showlakes\":true,\"lakecolor\":\"white\"},\"title\":{\"x\":0.05},\"mapbox\":{\"style\":\"light\"}}},\"xaxis\":{\"anchor\":\"y\",\"domain\":[0.0,1.0],\"title\":{\"text\":\"County\"}},\"yaxis\":{\"anchor\":\"x\",\"domain\":[0.0,1.0],\"title\":{\"text\":\"sum of Registered EVs\"}},\"legend\":{\"tracegroupgap\":0},\"title\":{\"text\":\"Registered EVs by County in Washington State\"},\"barmode\":\"relative\"},                        {\"responsive\": true}                    ).then(function(){\n",
       "                            \n",
       "var gd = document.getElementById('e0099e78-f906-404a-85f5-a6eb321368f5');\n",
       "var x = new MutationObserver(function (mutations, observer) {{\n",
       "        var display = window.getComputedStyle(gd).display;\n",
       "        if (!display || display === 'none') {{\n",
       "            console.log([gd, 'removed!']);\n",
       "            Plotly.purge(gd);\n",
       "            observer.disconnect();\n",
       "        }}\n",
       "}});\n",
       "\n",
       "// Listen for the removal of the full notebook cells\n",
       "var notebookContainer = gd.closest('#notebook-container');\n",
       "if (notebookContainer) {{\n",
       "    x.observe(notebookContainer, {childList: true});\n",
       "}}\n",
       "\n",
       "// Listen for the clearing of the current output cell\n",
       "var outputEl = gd.closest('.output');\n",
       "if (outputEl) {{\n",
       "    x.observe(outputEl, {childList: true});\n",
       "}}\n",
       "\n",
       "                        })                };                });            </script>        </div>"
      ]
     },
     "metadata": {},
     "output_type": "display_data"
    }
   ],
   "source": [
    "fig=px.histogram(\n",
    "    filtered_ev_by_county,\n",
    "    x=\"County\",\n",
    "    y=\"Registered EVs\",\n",
    "    title = \"Registered EVs by County in Washington State\"\n",
    ")\n",
    "fig.show()"
   ]
  },
  {
   "cell_type": "markdown",
   "metadata": {},
   "source": [
    "It's definitly a bit strange that almost all ofthe EVs are in King county (Seattle) but almost none in other counties. I was expecting King county to have the most but not by this much. Let's take another look at this histogram but per capita. We will have to merge population and EVs by county and then create a per capita column:"
   ]
  },
  {
   "cell_type": "code",
   "execution_count": 156,
   "metadata": {},
   "outputs": [
    {
     "data": {
      "text/html": [
       "<div>\n",
       "<style scoped>\n",
       "    .dataframe tbody tr th:only-of-type {\n",
       "        vertical-align: middle;\n",
       "    }\n",
       "\n",
       "    .dataframe tbody tr th {\n",
       "        vertical-align: top;\n",
       "    }\n",
       "\n",
       "    .dataframe thead th {\n",
       "        text-align: right;\n",
       "    }\n",
       "</style>\n",
       "<table border=\"1\" class=\"dataframe\">\n",
       "  <thead>\n",
       "    <tr style=\"text-align: right;\">\n",
       "      <th></th>\n",
       "      <th>index_x</th>\n",
       "      <th>County</th>\n",
       "      <th>Registered EVs</th>\n",
       "      <th>index_y</th>\n",
       "      <th>Line</th>\n",
       "      <th>Filter</th>\n",
       "      <th>Jurisdiction</th>\n",
       "      <th>2020 Population Census</th>\n",
       "      <th>2021 Population Estimate¹</th>\n",
       "      <th>2022 Population Estimate</th>\n",
       "      <th>2023 Population Estimate</th>\n",
       "      <th>2024 Population Estimate</th>\n",
       "    </tr>\n",
       "  </thead>\n",
       "  <tbody>\n",
       "    <tr>\n",
       "      <th>0</th>\n",
       "      <td>1</td>\n",
       "      <td>Adams</td>\n",
       "      <td>72</td>\n",
       "      <td>0</td>\n",
       "      <td>1</td>\n",
       "      <td>1</td>\n",
       "      <td>Adams County</td>\n",
       "      <td>20,613</td>\n",
       "      <td>20,900</td>\n",
       "      <td>21,100</td>\n",
       "      <td>21,200</td>\n",
       "      <td>21,475</td>\n",
       "    </tr>\n",
       "    <tr>\n",
       "      <th>1</th>\n",
       "      <td>11</td>\n",
       "      <td>Asotin</td>\n",
       "      <td>90</td>\n",
       "      <td>9</td>\n",
       "      <td>10</td>\n",
       "      <td>1</td>\n",
       "      <td>Asotin County</td>\n",
       "      <td>22,285</td>\n",
       "      <td>22,500</td>\n",
       "      <td>22,600</td>\n",
       "      <td>22,650</td>\n",
       "      <td>22,725</td>\n",
       "    </tr>\n",
       "    <tr>\n",
       "      <th>2</th>\n",
       "      <td>16</td>\n",
       "      <td>Benton</td>\n",
       "      <td>2726</td>\n",
       "      <td>15</td>\n",
       "      <td>16</td>\n",
       "      <td>1</td>\n",
       "      <td>Benton County</td>\n",
       "      <td>206,873</td>\n",
       "      <td>209,400</td>\n",
       "      <td>212,300</td>\n",
       "      <td>215,500</td>\n",
       "      <td>217,850</td>\n",
       "    </tr>\n",
       "    <tr>\n",
       "      <th>3</th>\n",
       "      <td>27</td>\n",
       "      <td>Chelan</td>\n",
       "      <td>1315</td>\n",
       "      <td>24</td>\n",
       "      <td>25</td>\n",
       "      <td>1</td>\n",
       "      <td>Chelan County</td>\n",
       "      <td>79,141</td>\n",
       "      <td>80,000</td>\n",
       "      <td>80,650</td>\n",
       "      <td>81,500</td>\n",
       "      <td>82,300</td>\n",
       "    </tr>\n",
       "    <tr>\n",
       "      <th>4</th>\n",
       "      <td>33</td>\n",
       "      <td>Clallam</td>\n",
       "      <td>1297</td>\n",
       "      <td>33</td>\n",
       "      <td>34</td>\n",
       "      <td>1</td>\n",
       "      <td>Clallam County</td>\n",
       "      <td>77,155</td>\n",
       "      <td>77,750</td>\n",
       "      <td>77,625</td>\n",
       "      <td>78,075</td>\n",
       "      <td>78,550</td>\n",
       "    </tr>\n",
       "  </tbody>\n",
       "</table>\n",
       "</div>"
      ],
      "text/plain": [
       "   index_x   County  Registered EVs  index_y Line Filter    Jurisdiction  \\\n",
       "0        1    Adams              72        0    1      1    Adams County   \n",
       "1       11   Asotin              90        9   10      1   Asotin County   \n",
       "2       16   Benton            2726       15   16      1   Benton County   \n",
       "3       27   Chelan            1315       24   25      1   Chelan County   \n",
       "4       33  Clallam            1297       33   34      1  Clallam County   \n",
       "\n",
       "  2020 Population Census 2021 Population Estimate¹ 2022 Population Estimate  \\\n",
       "0                 20,613                    20,900                   21,100   \n",
       "1                 22,285                    22,500                   22,600   \n",
       "2                206,873                   209,400                  212,300   \n",
       "3                 79,141                    80,000                   80,650   \n",
       "4                 77,155                    77,750                   77,625   \n",
       "\n",
       "  2023 Population Estimate 2024 Population Estimate  \n",
       "0                   21,200                   21,475  \n",
       "1                   22,650                   22,725  \n",
       "2                  215,500                  217,850  \n",
       "3                   81,500                   82,300  \n",
       "4                   78,075                   78,550  "
      ]
     },
     "execution_count": 156,
     "metadata": {},
     "output_type": "execute_result"
    }
   ],
   "source": [
    "ev_and_pop_data = pd.merge(filtered_ev_by_county, filtered_population_data, on=\"County\")\n",
    "ev_and_pop_data.head()"
   ]
  },
  {
   "cell_type": "code",
   "execution_count": 157,
   "metadata": {},
   "outputs": [
    {
     "ename": "TypeError",
     "evalue": "unsupported operand type(s) for /: 'int' and 'str'",
     "output_type": "error",
     "traceback": [
      "\u001b[0;31m---------------------------------------------------------------------------\u001b[0m",
      "\u001b[0;31mTypeError\u001b[0m                                 Traceback (most recent call last)",
      "File \u001b[0;32m/opt/anaconda3/lib/python3.12/site-packages/pandas/core/ops/array_ops.py:218\u001b[0m, in \u001b[0;36m_na_arithmetic_op\u001b[0;34m(left, right, op, is_cmp)\u001b[0m\n\u001b[1;32m    217\u001b[0m \u001b[38;5;28;01mtry\u001b[39;00m:\n\u001b[0;32m--> 218\u001b[0m     result \u001b[38;5;241m=\u001b[39m func(left, right)\n\u001b[1;32m    219\u001b[0m \u001b[38;5;28;01mexcept\u001b[39;00m \u001b[38;5;167;01mTypeError\u001b[39;00m:\n",
      "File \u001b[0;32m/opt/anaconda3/lib/python3.12/site-packages/pandas/core/computation/expressions.py:242\u001b[0m, in \u001b[0;36mevaluate\u001b[0;34m(op, a, b, use_numexpr)\u001b[0m\n\u001b[1;32m    240\u001b[0m     \u001b[38;5;28;01mif\u001b[39;00m use_numexpr:\n\u001b[1;32m    241\u001b[0m         \u001b[38;5;66;03m# error: \"None\" not callable\u001b[39;00m\n\u001b[0;32m--> 242\u001b[0m         \u001b[38;5;28;01mreturn\u001b[39;00m _evaluate(op, op_str, a, b)  \u001b[38;5;66;03m# type: ignore[misc]\u001b[39;00m\n\u001b[1;32m    243\u001b[0m \u001b[38;5;28;01mreturn\u001b[39;00m _evaluate_standard(op, op_str, a, b)\n",
      "File \u001b[0;32m/opt/anaconda3/lib/python3.12/site-packages/pandas/core/computation/expressions.py:131\u001b[0m, in \u001b[0;36m_evaluate_numexpr\u001b[0;34m(op, op_str, a, b)\u001b[0m\n\u001b[1;32m    130\u001b[0m \u001b[38;5;28;01mif\u001b[39;00m result \u001b[38;5;129;01mis\u001b[39;00m \u001b[38;5;28;01mNone\u001b[39;00m:\n\u001b[0;32m--> 131\u001b[0m     result \u001b[38;5;241m=\u001b[39m _evaluate_standard(op, op_str, a, b)\n\u001b[1;32m    133\u001b[0m \u001b[38;5;28;01mreturn\u001b[39;00m result\n",
      "File \u001b[0;32m/opt/anaconda3/lib/python3.12/site-packages/pandas/core/computation/expressions.py:73\u001b[0m, in \u001b[0;36m_evaluate_standard\u001b[0;34m(op, op_str, a, b)\u001b[0m\n\u001b[1;32m     72\u001b[0m     _store_test_result(\u001b[38;5;28;01mFalse\u001b[39;00m)\n\u001b[0;32m---> 73\u001b[0m \u001b[38;5;28;01mreturn\u001b[39;00m op(a, b)\n",
      "\u001b[0;31mTypeError\u001b[0m: unsupported operand type(s) for /: 'int' and 'str'",
      "\nDuring handling of the above exception, another exception occurred:\n",
      "\u001b[0;31mTypeError\u001b[0m                                 Traceback (most recent call last)",
      "Cell \u001b[0;32mIn[157], line 1\u001b[0m\n\u001b[0;32m----> 1\u001b[0m ev_and_pop_data[\u001b[38;5;124m\"\u001b[39m\u001b[38;5;124mRegistered EVs per capita 2024\u001b[39m\u001b[38;5;124m\"\u001b[39m] \u001b[38;5;241m=\u001b[39m ev_and_pop_data[\u001b[38;5;124m\"\u001b[39m\u001b[38;5;124mRegistered EVs\u001b[39m\u001b[38;5;124m\"\u001b[39m] \u001b[38;5;241m/\u001b[39m ev_and_pop_data[\u001b[38;5;124m\"\u001b[39m\u001b[38;5;124m2024 Population Estimate\u001b[39m\u001b[38;5;124m\"\u001b[39m]\n\u001b[1;32m      2\u001b[0m ev_and_pop_data()\n",
      "File \u001b[0;32m/opt/anaconda3/lib/python3.12/site-packages/pandas/core/ops/common.py:76\u001b[0m, in \u001b[0;36m_unpack_zerodim_and_defer.<locals>.new_method\u001b[0;34m(self, other)\u001b[0m\n\u001b[1;32m     72\u001b[0m             \u001b[38;5;28;01mreturn\u001b[39;00m \u001b[38;5;28mNotImplemented\u001b[39m\n\u001b[1;32m     74\u001b[0m other \u001b[38;5;241m=\u001b[39m item_from_zerodim(other)\n\u001b[0;32m---> 76\u001b[0m \u001b[38;5;28;01mreturn\u001b[39;00m method(\u001b[38;5;28mself\u001b[39m, other)\n",
      "File \u001b[0;32m/opt/anaconda3/lib/python3.12/site-packages/pandas/core/arraylike.py:210\u001b[0m, in \u001b[0;36mOpsMixin.__truediv__\u001b[0;34m(self, other)\u001b[0m\n\u001b[1;32m    208\u001b[0m \u001b[38;5;129m@unpack_zerodim_and_defer\u001b[39m(\u001b[38;5;124m\"\u001b[39m\u001b[38;5;124m__truediv__\u001b[39m\u001b[38;5;124m\"\u001b[39m)\n\u001b[1;32m    209\u001b[0m \u001b[38;5;28;01mdef\u001b[39;00m \u001b[38;5;21m__truediv__\u001b[39m(\u001b[38;5;28mself\u001b[39m, other):\n\u001b[0;32m--> 210\u001b[0m     \u001b[38;5;28;01mreturn\u001b[39;00m \u001b[38;5;28mself\u001b[39m\u001b[38;5;241m.\u001b[39m_arith_method(other, operator\u001b[38;5;241m.\u001b[39mtruediv)\n",
      "File \u001b[0;32m/opt/anaconda3/lib/python3.12/site-packages/pandas/core/series.py:6135\u001b[0m, in \u001b[0;36mSeries._arith_method\u001b[0;34m(self, other, op)\u001b[0m\n\u001b[1;32m   6133\u001b[0m \u001b[38;5;28;01mdef\u001b[39;00m \u001b[38;5;21m_arith_method\u001b[39m(\u001b[38;5;28mself\u001b[39m, other, op):\n\u001b[1;32m   6134\u001b[0m     \u001b[38;5;28mself\u001b[39m, other \u001b[38;5;241m=\u001b[39m \u001b[38;5;28mself\u001b[39m\u001b[38;5;241m.\u001b[39m_align_for_op(other)\n\u001b[0;32m-> 6135\u001b[0m     \u001b[38;5;28;01mreturn\u001b[39;00m base\u001b[38;5;241m.\u001b[39mIndexOpsMixin\u001b[38;5;241m.\u001b[39m_arith_method(\u001b[38;5;28mself\u001b[39m, other, op)\n",
      "File \u001b[0;32m/opt/anaconda3/lib/python3.12/site-packages/pandas/core/base.py:1382\u001b[0m, in \u001b[0;36mIndexOpsMixin._arith_method\u001b[0;34m(self, other, op)\u001b[0m\n\u001b[1;32m   1379\u001b[0m     rvalues \u001b[38;5;241m=\u001b[39m np\u001b[38;5;241m.\u001b[39marange(rvalues\u001b[38;5;241m.\u001b[39mstart, rvalues\u001b[38;5;241m.\u001b[39mstop, rvalues\u001b[38;5;241m.\u001b[39mstep)\n\u001b[1;32m   1381\u001b[0m \u001b[38;5;28;01mwith\u001b[39;00m np\u001b[38;5;241m.\u001b[39merrstate(\u001b[38;5;28mall\u001b[39m\u001b[38;5;241m=\u001b[39m\u001b[38;5;124m\"\u001b[39m\u001b[38;5;124mignore\u001b[39m\u001b[38;5;124m\"\u001b[39m):\n\u001b[0;32m-> 1382\u001b[0m     result \u001b[38;5;241m=\u001b[39m ops\u001b[38;5;241m.\u001b[39marithmetic_op(lvalues, rvalues, op)\n\u001b[1;32m   1384\u001b[0m \u001b[38;5;28;01mreturn\u001b[39;00m \u001b[38;5;28mself\u001b[39m\u001b[38;5;241m.\u001b[39m_construct_result(result, name\u001b[38;5;241m=\u001b[39mres_name)\n",
      "File \u001b[0;32m/opt/anaconda3/lib/python3.12/site-packages/pandas/core/ops/array_ops.py:283\u001b[0m, in \u001b[0;36marithmetic_op\u001b[0;34m(left, right, op)\u001b[0m\n\u001b[1;32m    279\u001b[0m     _bool_arith_check(op, left, right)  \u001b[38;5;66;03m# type: ignore[arg-type]\u001b[39;00m\n\u001b[1;32m    281\u001b[0m     \u001b[38;5;66;03m# error: Argument 1 to \"_na_arithmetic_op\" has incompatible type\u001b[39;00m\n\u001b[1;32m    282\u001b[0m     \u001b[38;5;66;03m# \"Union[ExtensionArray, ndarray[Any, Any]]\"; expected \"ndarray[Any, Any]\"\u001b[39;00m\n\u001b[0;32m--> 283\u001b[0m     res_values \u001b[38;5;241m=\u001b[39m _na_arithmetic_op(left, right, op)  \u001b[38;5;66;03m# type: ignore[arg-type]\u001b[39;00m\n\u001b[1;32m    285\u001b[0m \u001b[38;5;28;01mreturn\u001b[39;00m res_values\n",
      "File \u001b[0;32m/opt/anaconda3/lib/python3.12/site-packages/pandas/core/ops/array_ops.py:227\u001b[0m, in \u001b[0;36m_na_arithmetic_op\u001b[0;34m(left, right, op, is_cmp)\u001b[0m\n\u001b[1;32m    219\u001b[0m \u001b[38;5;28;01mexcept\u001b[39;00m \u001b[38;5;167;01mTypeError\u001b[39;00m:\n\u001b[1;32m    220\u001b[0m     \u001b[38;5;28;01mif\u001b[39;00m \u001b[38;5;129;01mnot\u001b[39;00m is_cmp \u001b[38;5;129;01mand\u001b[39;00m (\n\u001b[1;32m    221\u001b[0m         left\u001b[38;5;241m.\u001b[39mdtype \u001b[38;5;241m==\u001b[39m \u001b[38;5;28mobject\u001b[39m \u001b[38;5;129;01mor\u001b[39;00m \u001b[38;5;28mgetattr\u001b[39m(right, \u001b[38;5;124m\"\u001b[39m\u001b[38;5;124mdtype\u001b[39m\u001b[38;5;124m\"\u001b[39m, \u001b[38;5;28;01mNone\u001b[39;00m) \u001b[38;5;241m==\u001b[39m \u001b[38;5;28mobject\u001b[39m\n\u001b[1;32m    222\u001b[0m     ):\n\u001b[0;32m   (...)\u001b[0m\n\u001b[1;32m    225\u001b[0m         \u001b[38;5;66;03m# Don't do this for comparisons, as that will handle complex numbers\u001b[39;00m\n\u001b[1;32m    226\u001b[0m         \u001b[38;5;66;03m#  incorrectly, see GH#32047\u001b[39;00m\n\u001b[0;32m--> 227\u001b[0m         result \u001b[38;5;241m=\u001b[39m _masked_arith_op(left, right, op)\n\u001b[1;32m    228\u001b[0m     \u001b[38;5;28;01melse\u001b[39;00m:\n\u001b[1;32m    229\u001b[0m         \u001b[38;5;28;01mraise\u001b[39;00m\n",
      "File \u001b[0;32m/opt/anaconda3/lib/python3.12/site-packages/pandas/core/ops/array_ops.py:163\u001b[0m, in \u001b[0;36m_masked_arith_op\u001b[0;34m(x, y, op)\u001b[0m\n\u001b[1;32m    161\u001b[0m     \u001b[38;5;66;03m# See GH#5284, GH#5035, GH#19448 for historical reference\u001b[39;00m\n\u001b[1;32m    162\u001b[0m     \u001b[38;5;28;01mif\u001b[39;00m mask\u001b[38;5;241m.\u001b[39many():\n\u001b[0;32m--> 163\u001b[0m         result[mask] \u001b[38;5;241m=\u001b[39m op(xrav[mask], yrav[mask])\n\u001b[1;32m    165\u001b[0m \u001b[38;5;28;01melse\u001b[39;00m:\n\u001b[1;32m    166\u001b[0m     \u001b[38;5;28;01mif\u001b[39;00m \u001b[38;5;129;01mnot\u001b[39;00m is_scalar(y):\n",
      "\u001b[0;31mTypeError\u001b[0m: unsupported operand type(s) for /: 'int' and 'str'"
     ]
    }
   ],
   "source": [
    "ev_and_pop_data[\"Registered EVs per capita 2024\"] = ev_and_pop_data[\"Registered EVs\"] / ev_and_pop_data[\"2024 Population Estimate\"]\n",
    "ev_and_pop_data()"
   ]
  },
  {
   "cell_type": "markdown",
   "metadata": {},
   "source": [
    "Looks like something is not an int:"
   ]
  },
  {
   "cell_type": "code",
   "execution_count": null,
   "metadata": {},
   "outputs": [
    {
     "name": "stdout",
     "output_type": "stream",
     "text": [
      "<class 'pandas.core.frame.DataFrame'>\n",
      "RangeIndex: 39 entries, 0 to 38\n",
      "Data columns (total 12 columns):\n",
      " #   Column                     Non-Null Count  Dtype \n",
      "---  ------                     --------------  ----- \n",
      " 0   index_x                    39 non-null     int64 \n",
      " 1   County                     39 non-null     object\n",
      " 2   Registered EVs             39 non-null     int64 \n",
      " 3   index_y                    39 non-null     int64 \n",
      " 4   Line                       39 non-null     object\n",
      " 5   Filter                     39 non-null     object\n",
      " 6   Jurisdiction               39 non-null     object\n",
      " 7   2020 Population Census     39 non-null     object\n",
      " 8   2021 Population Estimate¹  39 non-null     object\n",
      " 9   2022 Population Estimate   39 non-null     object\n",
      " 10  2023 Population Estimate   39 non-null     object\n",
      " 11  2024 Population Estimate   39 non-null     object\n",
      "dtypes: int64(3), object(9)\n",
      "memory usage: 3.8+ KB\n"
     ]
    }
   ],
   "source": [
    "ev_and_pop_data.info()"
   ]
  },
  {
   "cell_type": "code",
   "execution_count": null,
   "metadata": {},
   "outputs": [
    {
     "ename": "ValueError",
     "evalue": "invalid literal for int() with base 10: '21,475'",
     "output_type": "error",
     "traceback": [
      "\u001b[0;31m---------------------------------------------------------------------------\u001b[0m",
      "\u001b[0;31mValueError\u001b[0m                                Traceback (most recent call last)",
      "Cell \u001b[0;32mIn[101], line 1\u001b[0m\n\u001b[0;32m----> 1\u001b[0m ev_and_pop_data[\u001b[38;5;124m\"\u001b[39m\u001b[38;5;124m2024 Population Estimate\u001b[39m\u001b[38;5;124m\"\u001b[39m]\u001b[38;5;241m.\u001b[39mastype(\u001b[38;5;28mint\u001b[39m)\n",
      "File \u001b[0;32m/opt/anaconda3/lib/python3.12/site-packages/pandas/core/generic.py:6643\u001b[0m, in \u001b[0;36mNDFrame.astype\u001b[0;34m(self, dtype, copy, errors)\u001b[0m\n\u001b[1;32m   6637\u001b[0m     results \u001b[38;5;241m=\u001b[39m [\n\u001b[1;32m   6638\u001b[0m         ser\u001b[38;5;241m.\u001b[39mastype(dtype, copy\u001b[38;5;241m=\u001b[39mcopy, errors\u001b[38;5;241m=\u001b[39merrors) \u001b[38;5;28;01mfor\u001b[39;00m _, ser \u001b[38;5;129;01min\u001b[39;00m \u001b[38;5;28mself\u001b[39m\u001b[38;5;241m.\u001b[39mitems()\n\u001b[1;32m   6639\u001b[0m     ]\n\u001b[1;32m   6641\u001b[0m \u001b[38;5;28;01melse\u001b[39;00m:\n\u001b[1;32m   6642\u001b[0m     \u001b[38;5;66;03m# else, only a single dtype is given\u001b[39;00m\n\u001b[0;32m-> 6643\u001b[0m     new_data \u001b[38;5;241m=\u001b[39m \u001b[38;5;28mself\u001b[39m\u001b[38;5;241m.\u001b[39m_mgr\u001b[38;5;241m.\u001b[39mastype(dtype\u001b[38;5;241m=\u001b[39mdtype, copy\u001b[38;5;241m=\u001b[39mcopy, errors\u001b[38;5;241m=\u001b[39merrors)\n\u001b[1;32m   6644\u001b[0m     res \u001b[38;5;241m=\u001b[39m \u001b[38;5;28mself\u001b[39m\u001b[38;5;241m.\u001b[39m_constructor_from_mgr(new_data, axes\u001b[38;5;241m=\u001b[39mnew_data\u001b[38;5;241m.\u001b[39maxes)\n\u001b[1;32m   6645\u001b[0m     \u001b[38;5;28;01mreturn\u001b[39;00m res\u001b[38;5;241m.\u001b[39m__finalize__(\u001b[38;5;28mself\u001b[39m, method\u001b[38;5;241m=\u001b[39m\u001b[38;5;124m\"\u001b[39m\u001b[38;5;124mastype\u001b[39m\u001b[38;5;124m\"\u001b[39m)\n",
      "File \u001b[0;32m/opt/anaconda3/lib/python3.12/site-packages/pandas/core/internals/managers.py:430\u001b[0m, in \u001b[0;36mBaseBlockManager.astype\u001b[0;34m(self, dtype, copy, errors)\u001b[0m\n\u001b[1;32m    427\u001b[0m \u001b[38;5;28;01melif\u001b[39;00m using_copy_on_write():\n\u001b[1;32m    428\u001b[0m     copy \u001b[38;5;241m=\u001b[39m \u001b[38;5;28;01mFalse\u001b[39;00m\n\u001b[0;32m--> 430\u001b[0m \u001b[38;5;28;01mreturn\u001b[39;00m \u001b[38;5;28mself\u001b[39m\u001b[38;5;241m.\u001b[39mapply(\n\u001b[1;32m    431\u001b[0m     \u001b[38;5;124m\"\u001b[39m\u001b[38;5;124mastype\u001b[39m\u001b[38;5;124m\"\u001b[39m,\n\u001b[1;32m    432\u001b[0m     dtype\u001b[38;5;241m=\u001b[39mdtype,\n\u001b[1;32m    433\u001b[0m     copy\u001b[38;5;241m=\u001b[39mcopy,\n\u001b[1;32m    434\u001b[0m     errors\u001b[38;5;241m=\u001b[39merrors,\n\u001b[1;32m    435\u001b[0m     using_cow\u001b[38;5;241m=\u001b[39musing_copy_on_write(),\n\u001b[1;32m    436\u001b[0m )\n",
      "File \u001b[0;32m/opt/anaconda3/lib/python3.12/site-packages/pandas/core/internals/managers.py:363\u001b[0m, in \u001b[0;36mBaseBlockManager.apply\u001b[0;34m(self, f, align_keys, **kwargs)\u001b[0m\n\u001b[1;32m    361\u001b[0m         applied \u001b[38;5;241m=\u001b[39m b\u001b[38;5;241m.\u001b[39mapply(f, \u001b[38;5;241m*\u001b[39m\u001b[38;5;241m*\u001b[39mkwargs)\n\u001b[1;32m    362\u001b[0m     \u001b[38;5;28;01melse\u001b[39;00m:\n\u001b[0;32m--> 363\u001b[0m         applied \u001b[38;5;241m=\u001b[39m \u001b[38;5;28mgetattr\u001b[39m(b, f)(\u001b[38;5;241m*\u001b[39m\u001b[38;5;241m*\u001b[39mkwargs)\n\u001b[1;32m    364\u001b[0m     result_blocks \u001b[38;5;241m=\u001b[39m extend_blocks(applied, result_blocks)\n\u001b[1;32m    366\u001b[0m out \u001b[38;5;241m=\u001b[39m \u001b[38;5;28mtype\u001b[39m(\u001b[38;5;28mself\u001b[39m)\u001b[38;5;241m.\u001b[39mfrom_blocks(result_blocks, \u001b[38;5;28mself\u001b[39m\u001b[38;5;241m.\u001b[39maxes)\n",
      "File \u001b[0;32m/opt/anaconda3/lib/python3.12/site-packages/pandas/core/internals/blocks.py:758\u001b[0m, in \u001b[0;36mBlock.astype\u001b[0;34m(self, dtype, copy, errors, using_cow, squeeze)\u001b[0m\n\u001b[1;32m    755\u001b[0m         \u001b[38;5;28;01mraise\u001b[39;00m \u001b[38;5;167;01mValueError\u001b[39;00m(\u001b[38;5;124m\"\u001b[39m\u001b[38;5;124mCan not squeeze with more than one column.\u001b[39m\u001b[38;5;124m\"\u001b[39m)\n\u001b[1;32m    756\u001b[0m     values \u001b[38;5;241m=\u001b[39m values[\u001b[38;5;241m0\u001b[39m, :]  \u001b[38;5;66;03m# type: ignore[call-overload]\u001b[39;00m\n\u001b[0;32m--> 758\u001b[0m new_values \u001b[38;5;241m=\u001b[39m astype_array_safe(values, dtype, copy\u001b[38;5;241m=\u001b[39mcopy, errors\u001b[38;5;241m=\u001b[39merrors)\n\u001b[1;32m    760\u001b[0m new_values \u001b[38;5;241m=\u001b[39m maybe_coerce_values(new_values)\n\u001b[1;32m    762\u001b[0m refs \u001b[38;5;241m=\u001b[39m \u001b[38;5;28;01mNone\u001b[39;00m\n",
      "File \u001b[0;32m/opt/anaconda3/lib/python3.12/site-packages/pandas/core/dtypes/astype.py:237\u001b[0m, in \u001b[0;36mastype_array_safe\u001b[0;34m(values, dtype, copy, errors)\u001b[0m\n\u001b[1;32m    234\u001b[0m     dtype \u001b[38;5;241m=\u001b[39m dtype\u001b[38;5;241m.\u001b[39mnumpy_dtype\n\u001b[1;32m    236\u001b[0m \u001b[38;5;28;01mtry\u001b[39;00m:\n\u001b[0;32m--> 237\u001b[0m     new_values \u001b[38;5;241m=\u001b[39m astype_array(values, dtype, copy\u001b[38;5;241m=\u001b[39mcopy)\n\u001b[1;32m    238\u001b[0m \u001b[38;5;28;01mexcept\u001b[39;00m (\u001b[38;5;167;01mValueError\u001b[39;00m, \u001b[38;5;167;01mTypeError\u001b[39;00m):\n\u001b[1;32m    239\u001b[0m     \u001b[38;5;66;03m# e.g. _astype_nansafe can fail on object-dtype of strings\u001b[39;00m\n\u001b[1;32m    240\u001b[0m     \u001b[38;5;66;03m#  trying to convert to float\u001b[39;00m\n\u001b[1;32m    241\u001b[0m     \u001b[38;5;28;01mif\u001b[39;00m errors \u001b[38;5;241m==\u001b[39m \u001b[38;5;124m\"\u001b[39m\u001b[38;5;124mignore\u001b[39m\u001b[38;5;124m\"\u001b[39m:\n",
      "File \u001b[0;32m/opt/anaconda3/lib/python3.12/site-packages/pandas/core/dtypes/astype.py:182\u001b[0m, in \u001b[0;36mastype_array\u001b[0;34m(values, dtype, copy)\u001b[0m\n\u001b[1;32m    179\u001b[0m     values \u001b[38;5;241m=\u001b[39m values\u001b[38;5;241m.\u001b[39mastype(dtype, copy\u001b[38;5;241m=\u001b[39mcopy)\n\u001b[1;32m    181\u001b[0m \u001b[38;5;28;01melse\u001b[39;00m:\n\u001b[0;32m--> 182\u001b[0m     values \u001b[38;5;241m=\u001b[39m _astype_nansafe(values, dtype, copy\u001b[38;5;241m=\u001b[39mcopy)\n\u001b[1;32m    184\u001b[0m \u001b[38;5;66;03m# in pandas we don't store numpy str dtypes, so convert to object\u001b[39;00m\n\u001b[1;32m    185\u001b[0m \u001b[38;5;28;01mif\u001b[39;00m \u001b[38;5;28misinstance\u001b[39m(dtype, np\u001b[38;5;241m.\u001b[39mdtype) \u001b[38;5;129;01mand\u001b[39;00m \u001b[38;5;28missubclass\u001b[39m(values\u001b[38;5;241m.\u001b[39mdtype\u001b[38;5;241m.\u001b[39mtype, \u001b[38;5;28mstr\u001b[39m):\n",
      "File \u001b[0;32m/opt/anaconda3/lib/python3.12/site-packages/pandas/core/dtypes/astype.py:133\u001b[0m, in \u001b[0;36m_astype_nansafe\u001b[0;34m(arr, dtype, copy, skipna)\u001b[0m\n\u001b[1;32m    129\u001b[0m     \u001b[38;5;28;01mraise\u001b[39;00m \u001b[38;5;167;01mValueError\u001b[39;00m(msg)\n\u001b[1;32m    131\u001b[0m \u001b[38;5;28;01mif\u001b[39;00m copy \u001b[38;5;129;01mor\u001b[39;00m arr\u001b[38;5;241m.\u001b[39mdtype \u001b[38;5;241m==\u001b[39m \u001b[38;5;28mobject\u001b[39m \u001b[38;5;129;01mor\u001b[39;00m dtype \u001b[38;5;241m==\u001b[39m \u001b[38;5;28mobject\u001b[39m:\n\u001b[1;32m    132\u001b[0m     \u001b[38;5;66;03m# Explicit copy, or required since NumPy can't view from / to object.\u001b[39;00m\n\u001b[0;32m--> 133\u001b[0m     \u001b[38;5;28;01mreturn\u001b[39;00m arr\u001b[38;5;241m.\u001b[39mastype(dtype, copy\u001b[38;5;241m=\u001b[39m\u001b[38;5;28;01mTrue\u001b[39;00m)\n\u001b[1;32m    135\u001b[0m \u001b[38;5;28;01mreturn\u001b[39;00m arr\u001b[38;5;241m.\u001b[39mastype(dtype, copy\u001b[38;5;241m=\u001b[39mcopy)\n",
      "\u001b[0;31mValueError\u001b[0m: invalid literal for int() with base 10: '21,475'"
     ]
    }
   ],
   "source": [
    "ev_and_pop_data[\"2024 Population Estimate\"].astype(int)"
   ]
  },
  {
   "cell_type": "code",
   "execution_count": null,
   "metadata": {},
   "outputs": [
    {
     "data": {
      "text/plain": [
       "array(['21,475', '22,725', '217,850', '82,300', '78,550', '536,300',\n",
       "       '3,975', '113,900', '45,150', '7,350', '102,300', '2,325',\n",
       "       '105,300', '77,400', '88,650', '33,700', '2,378,100', '286,100',\n",
       "       '48,600', '23,450', '84,950', '11,300', '67,475', '43,200',\n",
       "       '23,950', '13,850', '952,600', '18,475', '133,300', '12,075',\n",
       "       '867,100', '559,400', '47,650', '307,000', '4,550', '63,375',\n",
       "       '238,000', '48,750', '263,200'], dtype=object)"
      ]
     },
     "execution_count": 103,
     "metadata": {},
     "output_type": "execute_result"
    }
   ],
   "source": [
    "ev_and_pop_data[\"2024 Population Estimate\"].unique()"
   ]
  },
  {
   "cell_type": "markdown",
   "metadata": {},
   "source": [
    "We need to take out the commas from population"
   ]
  },
  {
   "cell_type": "code",
   "execution_count": null,
   "metadata": {},
   "outputs": [
    {
     "data": {
      "text/plain": [
       "array(['21475', '22725', '217850', '82300', '78550', '536300', '3975',\n",
       "       '113900', '45150', '7350', '102300', '2325', '105300', '77400',\n",
       "       '88650', '33700', '2378100', '286100', '48600', '23450', '84950',\n",
       "       '11300', '67475', '43200', '23950', '13850', '952600', '18475',\n",
       "       '133300', '12075', '867100', '559400', '47650', '307000', '4550',\n",
       "       '63375', '238000', '48750', '263200'], dtype=object)"
      ]
     },
     "execution_count": 110,
     "metadata": {},
     "output_type": "execute_result"
    }
   ],
   "source": [
    "ev_and_pop_data[\"2024 Population Estimate\"] = ev_and_pop_data[\"2024 Population Estimate\"].str.replace(\",\", \"\")\n",
    "ev_and_pop_data[\"2024 Population Estimate\"].unique()"
   ]
  },
  {
   "cell_type": "code",
   "execution_count": null,
   "metadata": {},
   "outputs": [],
   "source": [
    "ev_and_pop_data[\"2024 Population Estimate\"] = ev_and_pop_data[\"2024 Population Estimate\"].astype(int)"
   ]
  },
  {
   "cell_type": "markdown",
   "metadata": {},
   "source": [
    "Now we can make the new column:"
   ]
  },
  {
   "cell_type": "code",
   "execution_count": null,
   "metadata": {},
   "outputs": [
    {
     "data": {
      "text/html": [
       "<div>\n",
       "<style scoped>\n",
       "    .dataframe tbody tr th:only-of-type {\n",
       "        vertical-align: middle;\n",
       "    }\n",
       "\n",
       "    .dataframe tbody tr th {\n",
       "        vertical-align: top;\n",
       "    }\n",
       "\n",
       "    .dataframe thead th {\n",
       "        text-align: right;\n",
       "    }\n",
       "</style>\n",
       "<table border=\"1\" class=\"dataframe\">\n",
       "  <thead>\n",
       "    <tr style=\"text-align: right;\">\n",
       "      <th></th>\n",
       "      <th>index_x</th>\n",
       "      <th>County</th>\n",
       "      <th>Registered EVs</th>\n",
       "      <th>index_y</th>\n",
       "      <th>Line</th>\n",
       "      <th>Filter</th>\n",
       "      <th>Jurisdiction</th>\n",
       "      <th>2020 Population Census</th>\n",
       "      <th>2021 Population Estimate¹</th>\n",
       "      <th>2022 Population Estimate</th>\n",
       "      <th>2023 Population Estimate</th>\n",
       "      <th>2024 Population Estimate</th>\n",
       "      <th>Registered EVs per capita 2024</th>\n",
       "    </tr>\n",
       "  </thead>\n",
       "  <tbody>\n",
       "    <tr>\n",
       "      <th>0</th>\n",
       "      <td>1</td>\n",
       "      <td>Adams</td>\n",
       "      <td>72</td>\n",
       "      <td>0</td>\n",
       "      <td>1</td>\n",
       "      <td>1</td>\n",
       "      <td>Adams County</td>\n",
       "      <td>20,613</td>\n",
       "      <td>20,900</td>\n",
       "      <td>21,100</td>\n",
       "      <td>21,200</td>\n",
       "      <td>21475</td>\n",
       "      <td>0.003353</td>\n",
       "    </tr>\n",
       "    <tr>\n",
       "      <th>1</th>\n",
       "      <td>11</td>\n",
       "      <td>Asotin</td>\n",
       "      <td>90</td>\n",
       "      <td>9</td>\n",
       "      <td>10</td>\n",
       "      <td>1</td>\n",
       "      <td>Asotin County</td>\n",
       "      <td>22,285</td>\n",
       "      <td>22,500</td>\n",
       "      <td>22,600</td>\n",
       "      <td>22,650</td>\n",
       "      <td>22725</td>\n",
       "      <td>0.003960</td>\n",
       "    </tr>\n",
       "    <tr>\n",
       "      <th>2</th>\n",
       "      <td>16</td>\n",
       "      <td>Benton</td>\n",
       "      <td>2726</td>\n",
       "      <td>15</td>\n",
       "      <td>16</td>\n",
       "      <td>1</td>\n",
       "      <td>Benton County</td>\n",
       "      <td>206,873</td>\n",
       "      <td>209,400</td>\n",
       "      <td>212,300</td>\n",
       "      <td>215,500</td>\n",
       "      <td>217850</td>\n",
       "      <td>0.012513</td>\n",
       "    </tr>\n",
       "    <tr>\n",
       "      <th>3</th>\n",
       "      <td>27</td>\n",
       "      <td>Chelan</td>\n",
       "      <td>1315</td>\n",
       "      <td>24</td>\n",
       "      <td>25</td>\n",
       "      <td>1</td>\n",
       "      <td>Chelan County</td>\n",
       "      <td>79,141</td>\n",
       "      <td>80,000</td>\n",
       "      <td>80,650</td>\n",
       "      <td>81,500</td>\n",
       "      <td>82300</td>\n",
       "      <td>0.015978</td>\n",
       "    </tr>\n",
       "    <tr>\n",
       "      <th>4</th>\n",
       "      <td>33</td>\n",
       "      <td>Clallam</td>\n",
       "      <td>1297</td>\n",
       "      <td>33</td>\n",
       "      <td>34</td>\n",
       "      <td>1</td>\n",
       "      <td>Clallam County</td>\n",
       "      <td>77,155</td>\n",
       "      <td>77,750</td>\n",
       "      <td>77,625</td>\n",
       "      <td>78,075</td>\n",
       "      <td>78550</td>\n",
       "      <td>0.016512</td>\n",
       "    </tr>\n",
       "  </tbody>\n",
       "</table>\n",
       "</div>"
      ],
      "text/plain": [
       "   index_x   County  Registered EVs  index_y Line Filter    Jurisdiction  \\\n",
       "0        1    Adams              72        0    1      1    Adams County   \n",
       "1       11   Asotin              90        9   10      1   Asotin County   \n",
       "2       16   Benton            2726       15   16      1   Benton County   \n",
       "3       27   Chelan            1315       24   25      1   Chelan County   \n",
       "4       33  Clallam            1297       33   34      1  Clallam County   \n",
       "\n",
       "  2020 Population Census 2021 Population Estimate¹ 2022 Population Estimate  \\\n",
       "0                 20,613                    20,900                   21,100   \n",
       "1                 22,285                    22,500                   22,600   \n",
       "2                206,873                   209,400                  212,300   \n",
       "3                 79,141                    80,000                   80,650   \n",
       "4                 77,155                    77,750                   77,625   \n",
       "\n",
       "  2023 Population Estimate  2024 Population Estimate  \\\n",
       "0                   21,200                     21475   \n",
       "1                   22,650                     22725   \n",
       "2                  215,500                    217850   \n",
       "3                   81,500                     82300   \n",
       "4                   78,075                     78550   \n",
       "\n",
       "   Registered EVs per capita 2024  \n",
       "0                        0.003353  \n",
       "1                        0.003960  \n",
       "2                        0.012513  \n",
       "3                        0.015978  \n",
       "4                        0.016512  "
      ]
     },
     "execution_count": 117,
     "metadata": {},
     "output_type": "execute_result"
    }
   ],
   "source": [
    "ev_and_pop_data[\"Registered EVs per capita 2024\"] = ev_and_pop_data[\"Registered EVs\"] / ev_and_pop_data[\"2024 Population Estimate\"]\n",
    "ev_and_pop_data.head()"
   ]
  },
  {
   "cell_type": "markdown",
   "metadata": {},
   "source": [
    "Now let's graph the histogram:"
   ]
  },
  {
   "cell_type": "code",
   "execution_count": null,
   "metadata": {},
   "outputs": [
    {
     "data": {
      "application/vnd.plotly.v1+json": {
       "config": {
        "plotlyServerURL": "https://plot.ly"
       },
       "data": [
        {
         "alignmentgroup": "True",
         "bingroup": "x",
         "histfunc": "sum",
         "hovertemplate": "County=%{x}<br>sum of Registered EVs per capita 2024=%{y}<extra></extra>",
         "legendgroup": "",
         "marker": {
          "color": "#636efa",
          "pattern": {
           "shape": ""
          }
         },
         "name": "",
         "offsetgroup": "",
         "orientation": "v",
         "showlegend": false,
         "type": "histogram",
         "x": [
          "Adams",
          "Asotin",
          "Benton",
          "Chelan",
          "Clallam",
          "Clark",
          "Columbia",
          "Cowlitz",
          "Douglas",
          "Ferry",
          "Franklin",
          "Garfield",
          "Grant",
          "Grays Harbor",
          "Island",
          "Jefferson",
          "King",
          "Kitsap",
          "Kittitas",
          "Klickitat",
          "Lewis",
          "Lincoln",
          "Mason",
          "Okanogan",
          "Pacific",
          "Pend Oreille",
          "Pierce",
          "San Juan",
          "Skagit",
          "Skamania",
          "Snohomish",
          "Spokane",
          "Stevens",
          "Thurston",
          "Wahkiakum",
          "Walla Walla",
          "Whatcom",
          "Whitman",
          "Yakima"
         ],
         "xaxis": "x",
         "y": [
          0.0033527357392316645,
          0.0039603960396039604,
          0.012513197154005049,
          0.01597812879708384,
          0.016511775938892425,
          0.024124557150848405,
          0.004528301886792453,
          0.00990342405618964,
          0.010254706533776302,
          0.004353741496598639,
          0.007556207233626588,
          0.0017204301075268817,
          0.0073884140550807215,
          0.010271317829457364,
          0.025967287084038355,
          0.03448071216617211,
          0.0463243766031706,
          0.025218455085634393,
          0.01654320987654321,
          0.015437100213219616,
          0.011571512654502649,
          0.005663716814159292,
          0.015205631715450167,
          0.007662037037037037,
          0.011022964509394571,
          0.005415162454873646,
          0.018262649590594163,
          0.05667117726657645,
          0.018357089272318078,
          0.01855072463768116,
          0.030215661400069198,
          0.010723989989274223,
          0.005519412381951731,
          0.025856677524429966,
          0.016483516483516484,
          0.008710059171597633,
          0.02203361344537815,
          0.008738461538461539,
          0.005091185410334346
         ],
         "yaxis": "y"
        }
       ],
       "layout": {
        "barmode": "relative",
        "legend": {
         "tracegroupgap": 0
        },
        "template": {
         "data": {
          "bar": [
           {
            "error_x": {
             "color": "#2a3f5f"
            },
            "error_y": {
             "color": "#2a3f5f"
            },
            "marker": {
             "line": {
              "color": "#E5ECF6",
              "width": 0.5
             },
             "pattern": {
              "fillmode": "overlay",
              "size": 10,
              "solidity": 0.2
             }
            },
            "type": "bar"
           }
          ],
          "barpolar": [
           {
            "marker": {
             "line": {
              "color": "#E5ECF6",
              "width": 0.5
             },
             "pattern": {
              "fillmode": "overlay",
              "size": 10,
              "solidity": 0.2
             }
            },
            "type": "barpolar"
           }
          ],
          "carpet": [
           {
            "aaxis": {
             "endlinecolor": "#2a3f5f",
             "gridcolor": "white",
             "linecolor": "white",
             "minorgridcolor": "white",
             "startlinecolor": "#2a3f5f"
            },
            "baxis": {
             "endlinecolor": "#2a3f5f",
             "gridcolor": "white",
             "linecolor": "white",
             "minorgridcolor": "white",
             "startlinecolor": "#2a3f5f"
            },
            "type": "carpet"
           }
          ],
          "choropleth": [
           {
            "colorbar": {
             "outlinewidth": 0,
             "ticks": ""
            },
            "type": "choropleth"
           }
          ],
          "contour": [
           {
            "colorbar": {
             "outlinewidth": 0,
             "ticks": ""
            },
            "colorscale": [
             [
              0,
              "#0d0887"
             ],
             [
              0.1111111111111111,
              "#46039f"
             ],
             [
              0.2222222222222222,
              "#7201a8"
             ],
             [
              0.3333333333333333,
              "#9c179e"
             ],
             [
              0.4444444444444444,
              "#bd3786"
             ],
             [
              0.5555555555555556,
              "#d8576b"
             ],
             [
              0.6666666666666666,
              "#ed7953"
             ],
             [
              0.7777777777777778,
              "#fb9f3a"
             ],
             [
              0.8888888888888888,
              "#fdca26"
             ],
             [
              1,
              "#f0f921"
             ]
            ],
            "type": "contour"
           }
          ],
          "contourcarpet": [
           {
            "colorbar": {
             "outlinewidth": 0,
             "ticks": ""
            },
            "type": "contourcarpet"
           }
          ],
          "heatmap": [
           {
            "colorbar": {
             "outlinewidth": 0,
             "ticks": ""
            },
            "colorscale": [
             [
              0,
              "#0d0887"
             ],
             [
              0.1111111111111111,
              "#46039f"
             ],
             [
              0.2222222222222222,
              "#7201a8"
             ],
             [
              0.3333333333333333,
              "#9c179e"
             ],
             [
              0.4444444444444444,
              "#bd3786"
             ],
             [
              0.5555555555555556,
              "#d8576b"
             ],
             [
              0.6666666666666666,
              "#ed7953"
             ],
             [
              0.7777777777777778,
              "#fb9f3a"
             ],
             [
              0.8888888888888888,
              "#fdca26"
             ],
             [
              1,
              "#f0f921"
             ]
            ],
            "type": "heatmap"
           }
          ],
          "heatmapgl": [
           {
            "colorbar": {
             "outlinewidth": 0,
             "ticks": ""
            },
            "colorscale": [
             [
              0,
              "#0d0887"
             ],
             [
              0.1111111111111111,
              "#46039f"
             ],
             [
              0.2222222222222222,
              "#7201a8"
             ],
             [
              0.3333333333333333,
              "#9c179e"
             ],
             [
              0.4444444444444444,
              "#bd3786"
             ],
             [
              0.5555555555555556,
              "#d8576b"
             ],
             [
              0.6666666666666666,
              "#ed7953"
             ],
             [
              0.7777777777777778,
              "#fb9f3a"
             ],
             [
              0.8888888888888888,
              "#fdca26"
             ],
             [
              1,
              "#f0f921"
             ]
            ],
            "type": "heatmapgl"
           }
          ],
          "histogram": [
           {
            "marker": {
             "pattern": {
              "fillmode": "overlay",
              "size": 10,
              "solidity": 0.2
             }
            },
            "type": "histogram"
           }
          ],
          "histogram2d": [
           {
            "colorbar": {
             "outlinewidth": 0,
             "ticks": ""
            },
            "colorscale": [
             [
              0,
              "#0d0887"
             ],
             [
              0.1111111111111111,
              "#46039f"
             ],
             [
              0.2222222222222222,
              "#7201a8"
             ],
             [
              0.3333333333333333,
              "#9c179e"
             ],
             [
              0.4444444444444444,
              "#bd3786"
             ],
             [
              0.5555555555555556,
              "#d8576b"
             ],
             [
              0.6666666666666666,
              "#ed7953"
             ],
             [
              0.7777777777777778,
              "#fb9f3a"
             ],
             [
              0.8888888888888888,
              "#fdca26"
             ],
             [
              1,
              "#f0f921"
             ]
            ],
            "type": "histogram2d"
           }
          ],
          "histogram2dcontour": [
           {
            "colorbar": {
             "outlinewidth": 0,
             "ticks": ""
            },
            "colorscale": [
             [
              0,
              "#0d0887"
             ],
             [
              0.1111111111111111,
              "#46039f"
             ],
             [
              0.2222222222222222,
              "#7201a8"
             ],
             [
              0.3333333333333333,
              "#9c179e"
             ],
             [
              0.4444444444444444,
              "#bd3786"
             ],
             [
              0.5555555555555556,
              "#d8576b"
             ],
             [
              0.6666666666666666,
              "#ed7953"
             ],
             [
              0.7777777777777778,
              "#fb9f3a"
             ],
             [
              0.8888888888888888,
              "#fdca26"
             ],
             [
              1,
              "#f0f921"
             ]
            ],
            "type": "histogram2dcontour"
           }
          ],
          "mesh3d": [
           {
            "colorbar": {
             "outlinewidth": 0,
             "ticks": ""
            },
            "type": "mesh3d"
           }
          ],
          "parcoords": [
           {
            "line": {
             "colorbar": {
              "outlinewidth": 0,
              "ticks": ""
             }
            },
            "type": "parcoords"
           }
          ],
          "pie": [
           {
            "automargin": true,
            "type": "pie"
           }
          ],
          "scatter": [
           {
            "fillpattern": {
             "fillmode": "overlay",
             "size": 10,
             "solidity": 0.2
            },
            "type": "scatter"
           }
          ],
          "scatter3d": [
           {
            "line": {
             "colorbar": {
              "outlinewidth": 0,
              "ticks": ""
             }
            },
            "marker": {
             "colorbar": {
              "outlinewidth": 0,
              "ticks": ""
             }
            },
            "type": "scatter3d"
           }
          ],
          "scattercarpet": [
           {
            "marker": {
             "colorbar": {
              "outlinewidth": 0,
              "ticks": ""
             }
            },
            "type": "scattercarpet"
           }
          ],
          "scattergeo": [
           {
            "marker": {
             "colorbar": {
              "outlinewidth": 0,
              "ticks": ""
             }
            },
            "type": "scattergeo"
           }
          ],
          "scattergl": [
           {
            "marker": {
             "colorbar": {
              "outlinewidth": 0,
              "ticks": ""
             }
            },
            "type": "scattergl"
           }
          ],
          "scattermapbox": [
           {
            "marker": {
             "colorbar": {
              "outlinewidth": 0,
              "ticks": ""
             }
            },
            "type": "scattermapbox"
           }
          ],
          "scatterpolar": [
           {
            "marker": {
             "colorbar": {
              "outlinewidth": 0,
              "ticks": ""
             }
            },
            "type": "scatterpolar"
           }
          ],
          "scatterpolargl": [
           {
            "marker": {
             "colorbar": {
              "outlinewidth": 0,
              "ticks": ""
             }
            },
            "type": "scatterpolargl"
           }
          ],
          "scatterternary": [
           {
            "marker": {
             "colorbar": {
              "outlinewidth": 0,
              "ticks": ""
             }
            },
            "type": "scatterternary"
           }
          ],
          "surface": [
           {
            "colorbar": {
             "outlinewidth": 0,
             "ticks": ""
            },
            "colorscale": [
             [
              0,
              "#0d0887"
             ],
             [
              0.1111111111111111,
              "#46039f"
             ],
             [
              0.2222222222222222,
              "#7201a8"
             ],
             [
              0.3333333333333333,
              "#9c179e"
             ],
             [
              0.4444444444444444,
              "#bd3786"
             ],
             [
              0.5555555555555556,
              "#d8576b"
             ],
             [
              0.6666666666666666,
              "#ed7953"
             ],
             [
              0.7777777777777778,
              "#fb9f3a"
             ],
             [
              0.8888888888888888,
              "#fdca26"
             ],
             [
              1,
              "#f0f921"
             ]
            ],
            "type": "surface"
           }
          ],
          "table": [
           {
            "cells": {
             "fill": {
              "color": "#EBF0F8"
             },
             "line": {
              "color": "white"
             }
            },
            "header": {
             "fill": {
              "color": "#C8D4E3"
             },
             "line": {
              "color": "white"
             }
            },
            "type": "table"
           }
          ]
         },
         "layout": {
          "annotationdefaults": {
           "arrowcolor": "#2a3f5f",
           "arrowhead": 0,
           "arrowwidth": 1
          },
          "autotypenumbers": "strict",
          "coloraxis": {
           "colorbar": {
            "outlinewidth": 0,
            "ticks": ""
           }
          },
          "colorscale": {
           "diverging": [
            [
             0,
             "#8e0152"
            ],
            [
             0.1,
             "#c51b7d"
            ],
            [
             0.2,
             "#de77ae"
            ],
            [
             0.3,
             "#f1b6da"
            ],
            [
             0.4,
             "#fde0ef"
            ],
            [
             0.5,
             "#f7f7f7"
            ],
            [
             0.6,
             "#e6f5d0"
            ],
            [
             0.7,
             "#b8e186"
            ],
            [
             0.8,
             "#7fbc41"
            ],
            [
             0.9,
             "#4d9221"
            ],
            [
             1,
             "#276419"
            ]
           ],
           "sequential": [
            [
             0,
             "#0d0887"
            ],
            [
             0.1111111111111111,
             "#46039f"
            ],
            [
             0.2222222222222222,
             "#7201a8"
            ],
            [
             0.3333333333333333,
             "#9c179e"
            ],
            [
             0.4444444444444444,
             "#bd3786"
            ],
            [
             0.5555555555555556,
             "#d8576b"
            ],
            [
             0.6666666666666666,
             "#ed7953"
            ],
            [
             0.7777777777777778,
             "#fb9f3a"
            ],
            [
             0.8888888888888888,
             "#fdca26"
            ],
            [
             1,
             "#f0f921"
            ]
           ],
           "sequentialminus": [
            [
             0,
             "#0d0887"
            ],
            [
             0.1111111111111111,
             "#46039f"
            ],
            [
             0.2222222222222222,
             "#7201a8"
            ],
            [
             0.3333333333333333,
             "#9c179e"
            ],
            [
             0.4444444444444444,
             "#bd3786"
            ],
            [
             0.5555555555555556,
             "#d8576b"
            ],
            [
             0.6666666666666666,
             "#ed7953"
            ],
            [
             0.7777777777777778,
             "#fb9f3a"
            ],
            [
             0.8888888888888888,
             "#fdca26"
            ],
            [
             1,
             "#f0f921"
            ]
           ]
          },
          "colorway": [
           "#636efa",
           "#EF553B",
           "#00cc96",
           "#ab63fa",
           "#FFA15A",
           "#19d3f3",
           "#FF6692",
           "#B6E880",
           "#FF97FF",
           "#FECB52"
          ],
          "font": {
           "color": "#2a3f5f"
          },
          "geo": {
           "bgcolor": "white",
           "lakecolor": "white",
           "landcolor": "#E5ECF6",
           "showlakes": true,
           "showland": true,
           "subunitcolor": "white"
          },
          "hoverlabel": {
           "align": "left"
          },
          "hovermode": "closest",
          "mapbox": {
           "style": "light"
          },
          "paper_bgcolor": "white",
          "plot_bgcolor": "#E5ECF6",
          "polar": {
           "angularaxis": {
            "gridcolor": "white",
            "linecolor": "white",
            "ticks": ""
           },
           "bgcolor": "#E5ECF6",
           "radialaxis": {
            "gridcolor": "white",
            "linecolor": "white",
            "ticks": ""
           }
          },
          "scene": {
           "xaxis": {
            "backgroundcolor": "#E5ECF6",
            "gridcolor": "white",
            "gridwidth": 2,
            "linecolor": "white",
            "showbackground": true,
            "ticks": "",
            "zerolinecolor": "white"
           },
           "yaxis": {
            "backgroundcolor": "#E5ECF6",
            "gridcolor": "white",
            "gridwidth": 2,
            "linecolor": "white",
            "showbackground": true,
            "ticks": "",
            "zerolinecolor": "white"
           },
           "zaxis": {
            "backgroundcolor": "#E5ECF6",
            "gridcolor": "white",
            "gridwidth": 2,
            "linecolor": "white",
            "showbackground": true,
            "ticks": "",
            "zerolinecolor": "white"
           }
          },
          "shapedefaults": {
           "line": {
            "color": "#2a3f5f"
           }
          },
          "ternary": {
           "aaxis": {
            "gridcolor": "white",
            "linecolor": "white",
            "ticks": ""
           },
           "baxis": {
            "gridcolor": "white",
            "linecolor": "white",
            "ticks": ""
           },
           "bgcolor": "#E5ECF6",
           "caxis": {
            "gridcolor": "white",
            "linecolor": "white",
            "ticks": ""
           }
          },
          "title": {
           "x": 0.05
          },
          "xaxis": {
           "automargin": true,
           "gridcolor": "white",
           "linecolor": "white",
           "ticks": "",
           "title": {
            "standoff": 15
           },
           "zerolinecolor": "white",
           "zerolinewidth": 2
          },
          "yaxis": {
           "automargin": true,
           "gridcolor": "white",
           "linecolor": "white",
           "ticks": "",
           "title": {
            "standoff": 15
           },
           "zerolinecolor": "white",
           "zerolinewidth": 2
          }
         }
        },
        "title": {
         "text": "Registered EVs by County in Washington State per Capita"
        },
        "xaxis": {
         "anchor": "y",
         "domain": [
          0,
          1
         ],
         "title": {
          "text": "County"
         }
        },
        "yaxis": {
         "anchor": "x",
         "domain": [
          0,
          1
         ],
         "title": {
          "text": "sum of Registered EVs per capita 2024"
         }
        }
       }
      },
      "text/html": [
       "<div>                            <div id=\"2e676285-0f59-4a07-a9fe-54ee3d6a0695\" class=\"plotly-graph-div\" style=\"height:525px; width:100%;\"></div>            <script type=\"text/javascript\">                require([\"plotly\"], function(Plotly) {                    window.PLOTLYENV=window.PLOTLYENV || {};                                    if (document.getElementById(\"2e676285-0f59-4a07-a9fe-54ee3d6a0695\")) {                    Plotly.newPlot(                        \"2e676285-0f59-4a07-a9fe-54ee3d6a0695\",                        [{\"alignmentgroup\":\"True\",\"bingroup\":\"x\",\"histfunc\":\"sum\",\"hovertemplate\":\"County=%{x}\\u003cbr\\u003esum of Registered EVs per capita 2024=%{y}\\u003cextra\\u003e\\u003c\\u002fextra\\u003e\",\"legendgroup\":\"\",\"marker\":{\"color\":\"#636efa\",\"pattern\":{\"shape\":\"\"}},\"name\":\"\",\"offsetgroup\":\"\",\"orientation\":\"v\",\"showlegend\":false,\"x\":[\"Adams\",\"Asotin\",\"Benton\",\"Chelan\",\"Clallam\",\"Clark\",\"Columbia\",\"Cowlitz\",\"Douglas\",\"Ferry\",\"Franklin\",\"Garfield\",\"Grant\",\"Grays Harbor\",\"Island\",\"Jefferson\",\"King\",\"Kitsap\",\"Kittitas\",\"Klickitat\",\"Lewis\",\"Lincoln\",\"Mason\",\"Okanogan\",\"Pacific\",\"Pend Oreille\",\"Pierce\",\"San Juan\",\"Skagit\",\"Skamania\",\"Snohomish\",\"Spokane\",\"Stevens\",\"Thurston\",\"Wahkiakum\",\"Walla Walla\",\"Whatcom\",\"Whitman\",\"Yakima\"],\"xaxis\":\"x\",\"y\":[0.0033527357392316645,0.0039603960396039604,0.012513197154005049,0.01597812879708384,0.016511775938892425,0.024124557150848405,0.004528301886792453,0.00990342405618964,0.010254706533776302,0.004353741496598639,0.007556207233626588,0.0017204301075268817,0.0073884140550807215,0.010271317829457364,0.025967287084038355,0.03448071216617211,0.0463243766031706,0.025218455085634393,0.01654320987654321,0.015437100213219616,0.011571512654502649,0.005663716814159292,0.015205631715450167,0.007662037037037037,0.011022964509394571,0.005415162454873646,0.018262649590594163,0.05667117726657645,0.018357089272318078,0.01855072463768116,0.030215661400069198,0.010723989989274223,0.005519412381951731,0.025856677524429966,0.016483516483516484,0.008710059171597633,0.02203361344537815,0.008738461538461539,0.005091185410334346],\"yaxis\":\"y\",\"type\":\"histogram\"}],                        {\"template\":{\"data\":{\"histogram2dcontour\":[{\"type\":\"histogram2dcontour\",\"colorbar\":{\"outlinewidth\":0,\"ticks\":\"\"},\"colorscale\":[[0.0,\"#0d0887\"],[0.1111111111111111,\"#46039f\"],[0.2222222222222222,\"#7201a8\"],[0.3333333333333333,\"#9c179e\"],[0.4444444444444444,\"#bd3786\"],[0.5555555555555556,\"#d8576b\"],[0.6666666666666666,\"#ed7953\"],[0.7777777777777778,\"#fb9f3a\"],[0.8888888888888888,\"#fdca26\"],[1.0,\"#f0f921\"]]}],\"choropleth\":[{\"type\":\"choropleth\",\"colorbar\":{\"outlinewidth\":0,\"ticks\":\"\"}}],\"histogram2d\":[{\"type\":\"histogram2d\",\"colorbar\":{\"outlinewidth\":0,\"ticks\":\"\"},\"colorscale\":[[0.0,\"#0d0887\"],[0.1111111111111111,\"#46039f\"],[0.2222222222222222,\"#7201a8\"],[0.3333333333333333,\"#9c179e\"],[0.4444444444444444,\"#bd3786\"],[0.5555555555555556,\"#d8576b\"],[0.6666666666666666,\"#ed7953\"],[0.7777777777777778,\"#fb9f3a\"],[0.8888888888888888,\"#fdca26\"],[1.0,\"#f0f921\"]]}],\"heatmap\":[{\"type\":\"heatmap\",\"colorbar\":{\"outlinewidth\":0,\"ticks\":\"\"},\"colorscale\":[[0.0,\"#0d0887\"],[0.1111111111111111,\"#46039f\"],[0.2222222222222222,\"#7201a8\"],[0.3333333333333333,\"#9c179e\"],[0.4444444444444444,\"#bd3786\"],[0.5555555555555556,\"#d8576b\"],[0.6666666666666666,\"#ed7953\"],[0.7777777777777778,\"#fb9f3a\"],[0.8888888888888888,\"#fdca26\"],[1.0,\"#f0f921\"]]}],\"heatmapgl\":[{\"type\":\"heatmapgl\",\"colorbar\":{\"outlinewidth\":0,\"ticks\":\"\"},\"colorscale\":[[0.0,\"#0d0887\"],[0.1111111111111111,\"#46039f\"],[0.2222222222222222,\"#7201a8\"],[0.3333333333333333,\"#9c179e\"],[0.4444444444444444,\"#bd3786\"],[0.5555555555555556,\"#d8576b\"],[0.6666666666666666,\"#ed7953\"],[0.7777777777777778,\"#fb9f3a\"],[0.8888888888888888,\"#fdca26\"],[1.0,\"#f0f921\"]]}],\"contourcarpet\":[{\"type\":\"contourcarpet\",\"colorbar\":{\"outlinewidth\":0,\"ticks\":\"\"}}],\"contour\":[{\"type\":\"contour\",\"colorbar\":{\"outlinewidth\":0,\"ticks\":\"\"},\"colorscale\":[[0.0,\"#0d0887\"],[0.1111111111111111,\"#46039f\"],[0.2222222222222222,\"#7201a8\"],[0.3333333333333333,\"#9c179e\"],[0.4444444444444444,\"#bd3786\"],[0.5555555555555556,\"#d8576b\"],[0.6666666666666666,\"#ed7953\"],[0.7777777777777778,\"#fb9f3a\"],[0.8888888888888888,\"#fdca26\"],[1.0,\"#f0f921\"]]}],\"surface\":[{\"type\":\"surface\",\"colorbar\":{\"outlinewidth\":0,\"ticks\":\"\"},\"colorscale\":[[0.0,\"#0d0887\"],[0.1111111111111111,\"#46039f\"],[0.2222222222222222,\"#7201a8\"],[0.3333333333333333,\"#9c179e\"],[0.4444444444444444,\"#bd3786\"],[0.5555555555555556,\"#d8576b\"],[0.6666666666666666,\"#ed7953\"],[0.7777777777777778,\"#fb9f3a\"],[0.8888888888888888,\"#fdca26\"],[1.0,\"#f0f921\"]]}],\"mesh3d\":[{\"type\":\"mesh3d\",\"colorbar\":{\"outlinewidth\":0,\"ticks\":\"\"}}],\"scatter\":[{\"fillpattern\":{\"fillmode\":\"overlay\",\"size\":10,\"solidity\":0.2},\"type\":\"scatter\"}],\"parcoords\":[{\"type\":\"parcoords\",\"line\":{\"colorbar\":{\"outlinewidth\":0,\"ticks\":\"\"}}}],\"scatterpolargl\":[{\"type\":\"scatterpolargl\",\"marker\":{\"colorbar\":{\"outlinewidth\":0,\"ticks\":\"\"}}}],\"bar\":[{\"error_x\":{\"color\":\"#2a3f5f\"},\"error_y\":{\"color\":\"#2a3f5f\"},\"marker\":{\"line\":{\"color\":\"#E5ECF6\",\"width\":0.5},\"pattern\":{\"fillmode\":\"overlay\",\"size\":10,\"solidity\":0.2}},\"type\":\"bar\"}],\"scattergeo\":[{\"type\":\"scattergeo\",\"marker\":{\"colorbar\":{\"outlinewidth\":0,\"ticks\":\"\"}}}],\"scatterpolar\":[{\"type\":\"scatterpolar\",\"marker\":{\"colorbar\":{\"outlinewidth\":0,\"ticks\":\"\"}}}],\"histogram\":[{\"marker\":{\"pattern\":{\"fillmode\":\"overlay\",\"size\":10,\"solidity\":0.2}},\"type\":\"histogram\"}],\"scattergl\":[{\"type\":\"scattergl\",\"marker\":{\"colorbar\":{\"outlinewidth\":0,\"ticks\":\"\"}}}],\"scatter3d\":[{\"type\":\"scatter3d\",\"line\":{\"colorbar\":{\"outlinewidth\":0,\"ticks\":\"\"}},\"marker\":{\"colorbar\":{\"outlinewidth\":0,\"ticks\":\"\"}}}],\"scattermapbox\":[{\"type\":\"scattermapbox\",\"marker\":{\"colorbar\":{\"outlinewidth\":0,\"ticks\":\"\"}}}],\"scatterternary\":[{\"type\":\"scatterternary\",\"marker\":{\"colorbar\":{\"outlinewidth\":0,\"ticks\":\"\"}}}],\"scattercarpet\":[{\"type\":\"scattercarpet\",\"marker\":{\"colorbar\":{\"outlinewidth\":0,\"ticks\":\"\"}}}],\"carpet\":[{\"aaxis\":{\"endlinecolor\":\"#2a3f5f\",\"gridcolor\":\"white\",\"linecolor\":\"white\",\"minorgridcolor\":\"white\",\"startlinecolor\":\"#2a3f5f\"},\"baxis\":{\"endlinecolor\":\"#2a3f5f\",\"gridcolor\":\"white\",\"linecolor\":\"white\",\"minorgridcolor\":\"white\",\"startlinecolor\":\"#2a3f5f\"},\"type\":\"carpet\"}],\"table\":[{\"cells\":{\"fill\":{\"color\":\"#EBF0F8\"},\"line\":{\"color\":\"white\"}},\"header\":{\"fill\":{\"color\":\"#C8D4E3\"},\"line\":{\"color\":\"white\"}},\"type\":\"table\"}],\"barpolar\":[{\"marker\":{\"line\":{\"color\":\"#E5ECF6\",\"width\":0.5},\"pattern\":{\"fillmode\":\"overlay\",\"size\":10,\"solidity\":0.2}},\"type\":\"barpolar\"}],\"pie\":[{\"automargin\":true,\"type\":\"pie\"}]},\"layout\":{\"autotypenumbers\":\"strict\",\"colorway\":[\"#636efa\",\"#EF553B\",\"#00cc96\",\"#ab63fa\",\"#FFA15A\",\"#19d3f3\",\"#FF6692\",\"#B6E880\",\"#FF97FF\",\"#FECB52\"],\"font\":{\"color\":\"#2a3f5f\"},\"hovermode\":\"closest\",\"hoverlabel\":{\"align\":\"left\"},\"paper_bgcolor\":\"white\",\"plot_bgcolor\":\"#E5ECF6\",\"polar\":{\"bgcolor\":\"#E5ECF6\",\"angularaxis\":{\"gridcolor\":\"white\",\"linecolor\":\"white\",\"ticks\":\"\"},\"radialaxis\":{\"gridcolor\":\"white\",\"linecolor\":\"white\",\"ticks\":\"\"}},\"ternary\":{\"bgcolor\":\"#E5ECF6\",\"aaxis\":{\"gridcolor\":\"white\",\"linecolor\":\"white\",\"ticks\":\"\"},\"baxis\":{\"gridcolor\":\"white\",\"linecolor\":\"white\",\"ticks\":\"\"},\"caxis\":{\"gridcolor\":\"white\",\"linecolor\":\"white\",\"ticks\":\"\"}},\"coloraxis\":{\"colorbar\":{\"outlinewidth\":0,\"ticks\":\"\"}},\"colorscale\":{\"sequential\":[[0.0,\"#0d0887\"],[0.1111111111111111,\"#46039f\"],[0.2222222222222222,\"#7201a8\"],[0.3333333333333333,\"#9c179e\"],[0.4444444444444444,\"#bd3786\"],[0.5555555555555556,\"#d8576b\"],[0.6666666666666666,\"#ed7953\"],[0.7777777777777778,\"#fb9f3a\"],[0.8888888888888888,\"#fdca26\"],[1.0,\"#f0f921\"]],\"sequentialminus\":[[0.0,\"#0d0887\"],[0.1111111111111111,\"#46039f\"],[0.2222222222222222,\"#7201a8\"],[0.3333333333333333,\"#9c179e\"],[0.4444444444444444,\"#bd3786\"],[0.5555555555555556,\"#d8576b\"],[0.6666666666666666,\"#ed7953\"],[0.7777777777777778,\"#fb9f3a\"],[0.8888888888888888,\"#fdca26\"],[1.0,\"#f0f921\"]],\"diverging\":[[0,\"#8e0152\"],[0.1,\"#c51b7d\"],[0.2,\"#de77ae\"],[0.3,\"#f1b6da\"],[0.4,\"#fde0ef\"],[0.5,\"#f7f7f7\"],[0.6,\"#e6f5d0\"],[0.7,\"#b8e186\"],[0.8,\"#7fbc41\"],[0.9,\"#4d9221\"],[1,\"#276419\"]]},\"xaxis\":{\"gridcolor\":\"white\",\"linecolor\":\"white\",\"ticks\":\"\",\"title\":{\"standoff\":15},\"zerolinecolor\":\"white\",\"automargin\":true,\"zerolinewidth\":2},\"yaxis\":{\"gridcolor\":\"white\",\"linecolor\":\"white\",\"ticks\":\"\",\"title\":{\"standoff\":15},\"zerolinecolor\":\"white\",\"automargin\":true,\"zerolinewidth\":2},\"scene\":{\"xaxis\":{\"backgroundcolor\":\"#E5ECF6\",\"gridcolor\":\"white\",\"linecolor\":\"white\",\"showbackground\":true,\"ticks\":\"\",\"zerolinecolor\":\"white\",\"gridwidth\":2},\"yaxis\":{\"backgroundcolor\":\"#E5ECF6\",\"gridcolor\":\"white\",\"linecolor\":\"white\",\"showbackground\":true,\"ticks\":\"\",\"zerolinecolor\":\"white\",\"gridwidth\":2},\"zaxis\":{\"backgroundcolor\":\"#E5ECF6\",\"gridcolor\":\"white\",\"linecolor\":\"white\",\"showbackground\":true,\"ticks\":\"\",\"zerolinecolor\":\"white\",\"gridwidth\":2}},\"shapedefaults\":{\"line\":{\"color\":\"#2a3f5f\"}},\"annotationdefaults\":{\"arrowcolor\":\"#2a3f5f\",\"arrowhead\":0,\"arrowwidth\":1},\"geo\":{\"bgcolor\":\"white\",\"landcolor\":\"#E5ECF6\",\"subunitcolor\":\"white\",\"showland\":true,\"showlakes\":true,\"lakecolor\":\"white\"},\"title\":{\"x\":0.05},\"mapbox\":{\"style\":\"light\"}}},\"xaxis\":{\"anchor\":\"y\",\"domain\":[0.0,1.0],\"title\":{\"text\":\"County\"}},\"yaxis\":{\"anchor\":\"x\",\"domain\":[0.0,1.0],\"title\":{\"text\":\"sum of Registered EVs per capita 2024\"}},\"legend\":{\"tracegroupgap\":0},\"title\":{\"text\":\"Registered EVs by County in Washington State per Capita\"},\"barmode\":\"relative\"},                        {\"responsive\": true}                    ).then(function(){\n",
       "                            \n",
       "var gd = document.getElementById('2e676285-0f59-4a07-a9fe-54ee3d6a0695');\n",
       "var x = new MutationObserver(function (mutations, observer) {{\n",
       "        var display = window.getComputedStyle(gd).display;\n",
       "        if (!display || display === 'none') {{\n",
       "            console.log([gd, 'removed!']);\n",
       "            Plotly.purge(gd);\n",
       "            observer.disconnect();\n",
       "        }}\n",
       "}});\n",
       "\n",
       "// Listen for the removal of the full notebook cells\n",
       "var notebookContainer = gd.closest('#notebook-container');\n",
       "if (notebookContainer) {{\n",
       "    x.observe(notebookContainer, {childList: true});\n",
       "}}\n",
       "\n",
       "// Listen for the clearing of the current output cell\n",
       "var outputEl = gd.closest('.output');\n",
       "if (outputEl) {{\n",
       "    x.observe(outputEl, {childList: true});\n",
       "}}\n",
       "\n",
       "                        })                };                });            </script>        </div>"
      ]
     },
     "metadata": {},
     "output_type": "display_data"
    }
   ],
   "source": [
    "fig=px.histogram(\n",
    "    ev_and_pop_data,\n",
    "    x=\"County\",\n",
    "    y=\"Registered EVs per capita 2024\",\n",
    "    title = \"Registered EVs by County in Washington State per Capita\"\n",
    ")\n",
    "fig.show()"
   ]
  },
  {
   "cell_type": "markdown",
   "metadata": {},
   "source": [
    "This makes more sense, it looks like King County just has a much larger population"
   ]
  },
  {
   "cell_type": "markdown",
   "metadata": {},
   "source": [
    "Now let's take a look at the election data before we merge it with population and Registered EVs"
   ]
  },
  {
   "cell_type": "markdown",
   "metadata": {},
   "source": [
    "### Read in the Election Data"
   ]
  },
  {
   "cell_type": "code",
   "execution_count": null,
   "metadata": {},
   "outputs": [
    {
     "data": {
      "text/html": [
       "<div>\n",
       "<style scoped>\n",
       "    .dataframe tbody tr th:only-of-type {\n",
       "        vertical-align: middle;\n",
       "    }\n",
       "\n",
       "    .dataframe tbody tr th {\n",
       "        vertical-align: top;\n",
       "    }\n",
       "\n",
       "    .dataframe thead th {\n",
       "        text-align: right;\n",
       "    }\n",
       "</style>\n",
       "<table border=\"1\" class=\"dataframe\">\n",
       "  <thead>\n",
       "    <tr style=\"text-align: right;\">\n",
       "      <th></th>\n",
       "      <th>County</th>\n",
       "      <th>Race</th>\n",
       "      <th>Candidate</th>\n",
       "      <th>Party</th>\n",
       "      <th>Votes</th>\n",
       "      <th>PercentageOfTotalVotes</th>\n",
       "      <th>JurisdictionName</th>\n",
       "    </tr>\n",
       "  </thead>\n",
       "  <tbody>\n",
       "    <tr>\n",
       "      <th>0</th>\n",
       "      <td>Adams</td>\n",
       "      <td>Washington State Initiative Measure No. 2066</td>\n",
       "      <td>Yes</td>\n",
       "      <td></td>\n",
       "      <td>3402</td>\n",
       "      <td>65.8282</td>\n",
       "      <td>State Executive</td>\n",
       "    </tr>\n",
       "    <tr>\n",
       "      <th>1</th>\n",
       "      <td>Adams</td>\n",
       "      <td>Washington State Initiative Measure No. 2066</td>\n",
       "      <td>No</td>\n",
       "      <td></td>\n",
       "      <td>1766</td>\n",
       "      <td>34.1718</td>\n",
       "      <td>State Executive</td>\n",
       "    </tr>\n",
       "    <tr>\n",
       "      <th>2</th>\n",
       "      <td>Adams</td>\n",
       "      <td>Washington State Initiative Measure No. 2109</td>\n",
       "      <td>Yes</td>\n",
       "      <td></td>\n",
       "      <td>2571</td>\n",
       "      <td>49.3664</td>\n",
       "      <td>State Executive</td>\n",
       "    </tr>\n",
       "    <tr>\n",
       "      <th>3</th>\n",
       "      <td>Adams</td>\n",
       "      <td>Washington State Initiative Measure No. 2109</td>\n",
       "      <td>No</td>\n",
       "      <td></td>\n",
       "      <td>2637</td>\n",
       "      <td>50.6336</td>\n",
       "      <td>State Executive</td>\n",
       "    </tr>\n",
       "    <tr>\n",
       "      <th>4</th>\n",
       "      <td>Adams</td>\n",
       "      <td>Washington State Initiative Measure No. 2117</td>\n",
       "      <td>Yes</td>\n",
       "      <td></td>\n",
       "      <td>2969</td>\n",
       "      <td>57.3609</td>\n",
       "      <td>State Executive</td>\n",
       "    </tr>\n",
       "    <tr>\n",
       "      <th>5</th>\n",
       "      <td>Adams</td>\n",
       "      <td>Washington State Initiative Measure No. 2117</td>\n",
       "      <td>No</td>\n",
       "      <td></td>\n",
       "      <td>2207</td>\n",
       "      <td>42.6391</td>\n",
       "      <td>State Executive</td>\n",
       "    </tr>\n",
       "    <tr>\n",
       "      <th>6</th>\n",
       "      <td>Adams</td>\n",
       "      <td>Washington State Initiative Measure No. 2124</td>\n",
       "      <td>Yes</td>\n",
       "      <td></td>\n",
       "      <td>2869</td>\n",
       "      <td>55.3220</td>\n",
       "      <td>State Executive</td>\n",
       "    </tr>\n",
       "    <tr>\n",
       "      <th>7</th>\n",
       "      <td>Adams</td>\n",
       "      <td>Washington State Initiative Measure No. 2124</td>\n",
       "      <td>No</td>\n",
       "      <td></td>\n",
       "      <td>2317</td>\n",
       "      <td>44.6780</td>\n",
       "      <td>State Executive</td>\n",
       "    </tr>\n",
       "    <tr>\n",
       "      <th>8</th>\n",
       "      <td>Adams</td>\n",
       "      <td>United States President/Vice President</td>\n",
       "      <td>Kamala D. Harris / Tim Walz</td>\n",
       "      <td>Democratic Party Nominees</td>\n",
       "      <td>1455</td>\n",
       "      <td>27.1202</td>\n",
       "      <td>Federal</td>\n",
       "    </tr>\n",
       "    <tr>\n",
       "      <th>9</th>\n",
       "      <td>Adams</td>\n",
       "      <td>United States President/Vice President</td>\n",
       "      <td>Donald J. Trump / JD Vance</td>\n",
       "      <td>Republican Party Nominees</td>\n",
       "      <td>3767</td>\n",
       "      <td>70.2144</td>\n",
       "      <td>Federal</td>\n",
       "    </tr>\n",
       "    <tr>\n",
       "      <th>10</th>\n",
       "      <td>Adams</td>\n",
       "      <td>United States President/Vice President</td>\n",
       "      <td>Robert F. Kennedy Jr. / Nicole Shanahan</td>\n",
       "      <td>We The People Party Nominees</td>\n",
       "      <td>75</td>\n",
       "      <td>1.3979</td>\n",
       "      <td>Federal</td>\n",
       "    </tr>\n",
       "    <tr>\n",
       "      <th>11</th>\n",
       "      <td>Adams</td>\n",
       "      <td>United States President/Vice President</td>\n",
       "      <td>Jill Stein / Rudolph Ware</td>\n",
       "      <td>Green Party Nominees</td>\n",
       "      <td>11</td>\n",
       "      <td>0.2050</td>\n",
       "      <td>Federal</td>\n",
       "    </tr>\n",
       "    <tr>\n",
       "      <th>12</th>\n",
       "      <td>Adams</td>\n",
       "      <td>United States President/Vice President</td>\n",
       "      <td>Claudia De la Cruz / Karina Garcia</td>\n",
       "      <td>Socialism and Liberation Party Nominees</td>\n",
       "      <td>8</td>\n",
       "      <td>0.1491</td>\n",
       "      <td>Federal</td>\n",
       "    </tr>\n",
       "    <tr>\n",
       "      <th>13</th>\n",
       "      <td>Adams</td>\n",
       "      <td>United States President/Vice President</td>\n",
       "      <td>Rachele Fruit / Dennis Richter</td>\n",
       "      <td>Socialist Workers Party Nominees</td>\n",
       "      <td>1</td>\n",
       "      <td>0.0186</td>\n",
       "      <td>Federal</td>\n",
       "    </tr>\n",
       "    <tr>\n",
       "      <th>14</th>\n",
       "      <td>Adams</td>\n",
       "      <td>United States President/Vice President</td>\n",
       "      <td>Joseph Kishore / Jerry White</td>\n",
       "      <td>Socialist Equality Party Nominees</td>\n",
       "      <td>0</td>\n",
       "      <td>0.0000</td>\n",
       "      <td>Federal</td>\n",
       "    </tr>\n",
       "    <tr>\n",
       "      <th>15</th>\n",
       "      <td>Adams</td>\n",
       "      <td>United States President/Vice President</td>\n",
       "      <td>Chase Oliver / Mike ter Maat</td>\n",
       "      <td>Libertarian Party Nominees</td>\n",
       "      <td>20</td>\n",
       "      <td>0.3728</td>\n",
       "      <td>Federal</td>\n",
       "    </tr>\n",
       "    <tr>\n",
       "      <th>16</th>\n",
       "      <td>Adams</td>\n",
       "      <td>United States President/Vice President</td>\n",
       "      <td>Cornel West / Melina Abdullah</td>\n",
       "      <td>Justice For All Party Nominees</td>\n",
       "      <td>4</td>\n",
       "      <td>0.0746</td>\n",
       "      <td>Federal</td>\n",
       "    </tr>\n",
       "    <tr>\n",
       "      <th>17</th>\n",
       "      <td>Adams</td>\n",
       "      <td>United States President/Vice President</td>\n",
       "      <td>Shiva Ayyadurai / Crystal Ellis</td>\n",
       "      <td>Independent Candidates</td>\n",
       "      <td>4</td>\n",
       "      <td>0.0746</td>\n",
       "      <td>Federal</td>\n",
       "    </tr>\n",
       "    <tr>\n",
       "      <th>18</th>\n",
       "      <td>Adams</td>\n",
       "      <td>United States President/Vice President</td>\n",
       "      <td>WRITE-IN</td>\n",
       "      <td></td>\n",
       "      <td>20</td>\n",
       "      <td>0.3728</td>\n",
       "      <td>Federal</td>\n",
       "    </tr>\n",
       "    <tr>\n",
       "      <th>19</th>\n",
       "      <td>Adams</td>\n",
       "      <td>United States U.S. Senator</td>\n",
       "      <td>Maria Cantwell</td>\n",
       "      <td>(Prefers Democratic Party)</td>\n",
       "      <td>1627</td>\n",
       "      <td>31.4396</td>\n",
       "      <td>Federal</td>\n",
       "    </tr>\n",
       "  </tbody>\n",
       "</table>\n",
       "</div>"
      ],
      "text/plain": [
       "   County                                          Race  \\\n",
       "0   Adams  Washington State Initiative Measure No. 2066   \n",
       "1   Adams  Washington State Initiative Measure No. 2066   \n",
       "2   Adams  Washington State Initiative Measure No. 2109   \n",
       "3   Adams  Washington State Initiative Measure No. 2109   \n",
       "4   Adams  Washington State Initiative Measure No. 2117   \n",
       "5   Adams  Washington State Initiative Measure No. 2117   \n",
       "6   Adams  Washington State Initiative Measure No. 2124   \n",
       "7   Adams  Washington State Initiative Measure No. 2124   \n",
       "8   Adams        United States President/Vice President   \n",
       "9   Adams        United States President/Vice President   \n",
       "10  Adams        United States President/Vice President   \n",
       "11  Adams        United States President/Vice President   \n",
       "12  Adams        United States President/Vice President   \n",
       "13  Adams        United States President/Vice President   \n",
       "14  Adams        United States President/Vice President   \n",
       "15  Adams        United States President/Vice President   \n",
       "16  Adams        United States President/Vice President   \n",
       "17  Adams        United States President/Vice President   \n",
       "18  Adams        United States President/Vice President   \n",
       "19  Adams                    United States U.S. Senator   \n",
       "\n",
       "                                  Candidate  \\\n",
       "0                                       Yes   \n",
       "1                                        No   \n",
       "2                                       Yes   \n",
       "3                                        No   \n",
       "4                                       Yes   \n",
       "5                                        No   \n",
       "6                                       Yes   \n",
       "7                                        No   \n",
       "8               Kamala D. Harris / Tim Walz   \n",
       "9                Donald J. Trump / JD Vance   \n",
       "10  Robert F. Kennedy Jr. / Nicole Shanahan   \n",
       "11                Jill Stein / Rudolph Ware   \n",
       "12       Claudia De la Cruz / Karina Garcia   \n",
       "13           Rachele Fruit / Dennis Richter   \n",
       "14             Joseph Kishore / Jerry White   \n",
       "15             Chase Oliver / Mike ter Maat   \n",
       "16            Cornel West / Melina Abdullah   \n",
       "17          Shiva Ayyadurai / Crystal Ellis   \n",
       "18                                 WRITE-IN   \n",
       "19                           Maria Cantwell   \n",
       "\n",
       "                                      Party  Votes  PercentageOfTotalVotes  \\\n",
       "0                                             3402                 65.8282   \n",
       "1                                             1766                 34.1718   \n",
       "2                                             2571                 49.3664   \n",
       "3                                             2637                 50.6336   \n",
       "4                                             2969                 57.3609   \n",
       "5                                             2207                 42.6391   \n",
       "6                                             2869                 55.3220   \n",
       "7                                             2317                 44.6780   \n",
       "8                 Democratic Party Nominees   1455                 27.1202   \n",
       "9                 Republican Party Nominees   3767                 70.2144   \n",
       "10             We The People Party Nominees     75                  1.3979   \n",
       "11                     Green Party Nominees     11                  0.2050   \n",
       "12  Socialism and Liberation Party Nominees      8                  0.1491   \n",
       "13         Socialist Workers Party Nominees      1                  0.0186   \n",
       "14        Socialist Equality Party Nominees      0                  0.0000   \n",
       "15               Libertarian Party Nominees     20                  0.3728   \n",
       "16           Justice For All Party Nominees      4                  0.0746   \n",
       "17                   Independent Candidates      4                  0.0746   \n",
       "18                                              20                  0.3728   \n",
       "19               (Prefers Democratic Party)   1627                 31.4396   \n",
       "\n",
       "   JurisdictionName  \n",
       "0   State Executive  \n",
       "1   State Executive  \n",
       "2   State Executive  \n",
       "3   State Executive  \n",
       "4   State Executive  \n",
       "5   State Executive  \n",
       "6   State Executive  \n",
       "7   State Executive  \n",
       "8           Federal  \n",
       "9           Federal  \n",
       "10          Federal  \n",
       "11          Federal  \n",
       "12          Federal  \n",
       "13          Federal  \n",
       "14          Federal  \n",
       "15          Federal  \n",
       "16          Federal  \n",
       "17          Federal  \n",
       "18          Federal  \n",
       "19          Federal  "
      ]
     },
     "execution_count": 122,
     "metadata": {},
     "output_type": "execute_result"
    }
   ],
   "source": [
    "election_data = pd.read_csv(\"20241105_allcounties.csv\")\n",
    "election_data.head(20)"
   ]
  },
  {
   "cell_type": "markdown",
   "metadata": {},
   "source": [
    "We only need percentage of votes for Kamala Harris for each county, so let's filter down our dataset:"
   ]
  },
  {
   "cell_type": "code",
   "execution_count": null,
   "metadata": {},
   "outputs": [
    {
     "data": {
      "text/html": [
       "<div>\n",
       "<style scoped>\n",
       "    .dataframe tbody tr th:only-of-type {\n",
       "        vertical-align: middle;\n",
       "    }\n",
       "\n",
       "    .dataframe tbody tr th {\n",
       "        vertical-align: top;\n",
       "    }\n",
       "\n",
       "    .dataframe thead th {\n",
       "        text-align: right;\n",
       "    }\n",
       "</style>\n",
       "<table border=\"1\" class=\"dataframe\">\n",
       "  <thead>\n",
       "    <tr style=\"text-align: right;\">\n",
       "      <th></th>\n",
       "      <th>index</th>\n",
       "      <th>County</th>\n",
       "      <th>Race</th>\n",
       "      <th>Candidate</th>\n",
       "      <th>Party</th>\n",
       "      <th>Votes</th>\n",
       "      <th>PercentageOfTotalVotes</th>\n",
       "      <th>JurisdictionName</th>\n",
       "    </tr>\n",
       "  </thead>\n",
       "  <tbody>\n",
       "    <tr>\n",
       "      <th>0</th>\n",
       "      <td>8</td>\n",
       "      <td>Adams</td>\n",
       "      <td>United States President/Vice President</td>\n",
       "      <td>Kamala D. Harris / Tim Walz</td>\n",
       "      <td>Democratic Party Nominees</td>\n",
       "      <td>1455</td>\n",
       "      <td>27.1202</td>\n",
       "      <td>Federal</td>\n",
       "    </tr>\n",
       "    <tr>\n",
       "      <th>1</th>\n",
       "      <td>94</td>\n",
       "      <td>Asotin</td>\n",
       "      <td>United States President/Vice President</td>\n",
       "      <td>Kamala D. Harris / Tim Walz</td>\n",
       "      <td>Democratic Party Nominees</td>\n",
       "      <td>4082</td>\n",
       "      <td>35.5947</td>\n",
       "      <td>Federal</td>\n",
       "    </tr>\n",
       "    <tr>\n",
       "      <th>2</th>\n",
       "      <td>175</td>\n",
       "      <td>Benton</td>\n",
       "      <td>United States President/Vice President</td>\n",
       "      <td>Kamala D. Harris / Tim Walz</td>\n",
       "      <td>Democratic Party Nominees</td>\n",
       "      <td>37662</td>\n",
       "      <td>37.4028</td>\n",
       "      <td>Federal</td>\n",
       "    </tr>\n",
       "    <tr>\n",
       "      <th>3</th>\n",
       "      <td>277</td>\n",
       "      <td>Chelan</td>\n",
       "      <td>United States President/Vice President</td>\n",
       "      <td>Kamala D. Harris / Tim Walz</td>\n",
       "      <td>Democratic Party Nominees</td>\n",
       "      <td>18397</td>\n",
       "      <td>43.6041</td>\n",
       "      <td>Federal</td>\n",
       "    </tr>\n",
       "    <tr>\n",
       "      <th>4</th>\n",
       "      <td>376</td>\n",
       "      <td>Clallam</td>\n",
       "      <td>United States President/Vice President</td>\n",
       "      <td>Kamala D. Harris / Tim Walz</td>\n",
       "      <td>Democratic Party Nominees</td>\n",
       "      <td>25440</td>\n",
       "      <td>52.2779</td>\n",
       "      <td>Federal</td>\n",
       "    </tr>\n",
       "    <tr>\n",
       "      <th>5</th>\n",
       "      <td>510</td>\n",
       "      <td>Clark</td>\n",
       "      <td>United States President/Vice President</td>\n",
       "      <td>Kamala D. Harris / Tim Walz</td>\n",
       "      <td>Democratic Party Nominees</td>\n",
       "      <td>143206</td>\n",
       "      <td>51.7778</td>\n",
       "      <td>Federal</td>\n",
       "    </tr>\n",
       "    <tr>\n",
       "      <th>6</th>\n",
       "      <td>625</td>\n",
       "      <td>Columbia</td>\n",
       "      <td>United States President/Vice President</td>\n",
       "      <td>Kamala D. Harris / Tim Walz</td>\n",
       "      <td>Democratic Party Nominees</td>\n",
       "      <td>661</td>\n",
       "      <td>26.5996</td>\n",
       "      <td>Federal</td>\n",
       "    </tr>\n",
       "    <tr>\n",
       "      <th>7</th>\n",
       "      <td>704</td>\n",
       "      <td>Cowlitz</td>\n",
       "      <td>United States President/Vice President</td>\n",
       "      <td>Kamala D. Harris / Tim Walz</td>\n",
       "      <td>Democratic Party Nominees</td>\n",
       "      <td>22825</td>\n",
       "      <td>38.4745</td>\n",
       "      <td>Federal</td>\n",
       "    </tr>\n",
       "    <tr>\n",
       "      <th>8</th>\n",
       "      <td>795</td>\n",
       "      <td>Douglas</td>\n",
       "      <td>United States President/Vice President</td>\n",
       "      <td>Kamala D. Harris / Tim Walz</td>\n",
       "      <td>Democratic Party Nominees</td>\n",
       "      <td>7410</td>\n",
       "      <td>34.9825</td>\n",
       "      <td>Federal</td>\n",
       "    </tr>\n",
       "    <tr>\n",
       "      <th>9</th>\n",
       "      <td>887</td>\n",
       "      <td>Ferry</td>\n",
       "      <td>United States President/Vice President</td>\n",
       "      <td>Kamala D. Harris / Tim Walz</td>\n",
       "      <td>Democratic Party Nominees</td>\n",
       "      <td>1315</td>\n",
       "      <td>31.9252</td>\n",
       "      <td>Federal</td>\n",
       "    </tr>\n",
       "    <tr>\n",
       "      <th>10</th>\n",
       "      <td>976</td>\n",
       "      <td>Franklin</td>\n",
       "      <td>United States President/Vice President</td>\n",
       "      <td>Kamala D. Harris / Tim Walz</td>\n",
       "      <td>Democratic Party Nominees</td>\n",
       "      <td>11884</td>\n",
       "      <td>37.2574</td>\n",
       "      <td>Federal</td>\n",
       "    </tr>\n",
       "    <tr>\n",
       "      <th>11</th>\n",
       "      <td>1075</td>\n",
       "      <td>Garfield</td>\n",
       "      <td>United States President/Vice President</td>\n",
       "      <td>Kamala D. Harris / Tim Walz</td>\n",
       "      <td>Democratic Party Nominees</td>\n",
       "      <td>330</td>\n",
       "      <td>24.4083</td>\n",
       "      <td>Federal</td>\n",
       "    </tr>\n",
       "    <tr>\n",
       "      <th>12</th>\n",
       "      <td>1148</td>\n",
       "      <td>Grant</td>\n",
       "      <td>United States President/Vice President</td>\n",
       "      <td>Kamala D. Harris / Tim Walz</td>\n",
       "      <td>Democratic Party Nominees</td>\n",
       "      <td>10806</td>\n",
       "      <td>29.8072</td>\n",
       "      <td>Federal</td>\n",
       "    </tr>\n",
       "    <tr>\n",
       "      <th>13</th>\n",
       "      <td>1235</td>\n",
       "      <td>Grays Harbor</td>\n",
       "      <td>United States President/Vice President</td>\n",
       "      <td>Kamala D. Harris / Tim Walz</td>\n",
       "      <td>Democratic Party Nominees</td>\n",
       "      <td>17161</td>\n",
       "      <td>45.4079</td>\n",
       "      <td>Federal</td>\n",
       "    </tr>\n",
       "    <tr>\n",
       "      <th>14</th>\n",
       "      <td>1333</td>\n",
       "      <td>Island</td>\n",
       "      <td>United States President/Vice President</td>\n",
       "      <td>Kamala D. Harris / Tim Walz</td>\n",
       "      <td>Democratic Party Nominees</td>\n",
       "      <td>29595</td>\n",
       "      <td>56.4262</td>\n",
       "      <td>Federal</td>\n",
       "    </tr>\n",
       "    <tr>\n",
       "      <th>15</th>\n",
       "      <td>1424</td>\n",
       "      <td>Jefferson</td>\n",
       "      <td>United States President/Vice President</td>\n",
       "      <td>Kamala D. Harris / Tim Walz</td>\n",
       "      <td>Democratic Party Nominees</td>\n",
       "      <td>17459</td>\n",
       "      <td>70.6899</td>\n",
       "      <td>Federal</td>\n",
       "    </tr>\n",
       "    <tr>\n",
       "      <th>16</th>\n",
       "      <td>1503</td>\n",
       "      <td>King</td>\n",
       "      <td>United States President/Vice President</td>\n",
       "      <td>Kamala D. Harris / Tim Walz</td>\n",
       "      <td>Democratic Party Nominees</td>\n",
       "      <td>832606</td>\n",
       "      <td>73.6492</td>\n",
       "      <td>Federal</td>\n",
       "    </tr>\n",
       "    <tr>\n",
       "      <th>17</th>\n",
       "      <td>1705</td>\n",
       "      <td>Kitsap</td>\n",
       "      <td>United States President/Vice President</td>\n",
       "      <td>Kamala D. Harris / Tim Walz</td>\n",
       "      <td>Democratic Party Nominees</td>\n",
       "      <td>91731</td>\n",
       "      <td>58.4751</td>\n",
       "      <td>Federal</td>\n",
       "    </tr>\n",
       "    <tr>\n",
       "      <th>18</th>\n",
       "      <td>1799</td>\n",
       "      <td>Kittitas</td>\n",
       "      <td>United States President/Vice President</td>\n",
       "      <td>Kamala D. Harris / Tim Walz</td>\n",
       "      <td>Democratic Party Nominees</td>\n",
       "      <td>10810</td>\n",
       "      <td>40.7940</td>\n",
       "      <td>Federal</td>\n",
       "    </tr>\n",
       "    <tr>\n",
       "      <th>19</th>\n",
       "      <td>1876</td>\n",
       "      <td>Klickitat</td>\n",
       "      <td>United States President/Vice President</td>\n",
       "      <td>Kamala D. Harris / Tim Walz</td>\n",
       "      <td>Democratic Party Nominees</td>\n",
       "      <td>5917</td>\n",
       "      <td>43.4850</td>\n",
       "      <td>Federal</td>\n",
       "    </tr>\n",
       "    <tr>\n",
       "      <th>20</th>\n",
       "      <td>1966</td>\n",
       "      <td>Lewis</td>\n",
       "      <td>United States President/Vice President</td>\n",
       "      <td>Kamala D. Harris / Tim Walz</td>\n",
       "      <td>Democratic Party Nominees</td>\n",
       "      <td>14433</td>\n",
       "      <td>31.8342</td>\n",
       "      <td>Federal</td>\n",
       "    </tr>\n",
       "    <tr>\n",
       "      <th>21</th>\n",
       "      <td>2064</td>\n",
       "      <td>Lincoln</td>\n",
       "      <td>United States President/Vice President</td>\n",
       "      <td>Kamala D. Harris / Tim Walz</td>\n",
       "      <td>Democratic Party Nominees</td>\n",
       "      <td>1678</td>\n",
       "      <td>23.4882</td>\n",
       "      <td>Federal</td>\n",
       "    </tr>\n",
       "    <tr>\n",
       "      <th>22</th>\n",
       "      <td>2144</td>\n",
       "      <td>Mason</td>\n",
       "      <td>United States President/Vice President</td>\n",
       "      <td>Kamala D. Harris / Tim Walz</td>\n",
       "      <td>Democratic Party Nominees</td>\n",
       "      <td>17215</td>\n",
       "      <td>46.9214</td>\n",
       "      <td>Federal</td>\n",
       "    </tr>\n",
       "    <tr>\n",
       "      <th>23</th>\n",
       "      <td>2226</td>\n",
       "      <td>Okanogan</td>\n",
       "      <td>United States President/Vice President</td>\n",
       "      <td>Kamala D. Harris / Tim Walz</td>\n",
       "      <td>Democratic Party Nominees</td>\n",
       "      <td>8466</td>\n",
       "      <td>40.8354</td>\n",
       "      <td>Federal</td>\n",
       "    </tr>\n",
       "    <tr>\n",
       "      <th>24</th>\n",
       "      <td>2311</td>\n",
       "      <td>Pacific</td>\n",
       "      <td>United States President/Vice President</td>\n",
       "      <td>Kamala D. Harris / Tim Walz</td>\n",
       "      <td>Democratic Party Nominees</td>\n",
       "      <td>6825</td>\n",
       "      <td>47.9149</td>\n",
       "      <td>Federal</td>\n",
       "    </tr>\n",
       "    <tr>\n",
       "      <th>25</th>\n",
       "      <td>2393</td>\n",
       "      <td>Pend Oreille</td>\n",
       "      <td>United States President/Vice President</td>\n",
       "      <td>Kamala D. Harris / Tim Walz</td>\n",
       "      <td>Democratic Party Nominees</td>\n",
       "      <td>2461</td>\n",
       "      <td>28.8005</td>\n",
       "      <td>Federal</td>\n",
       "    </tr>\n",
       "    <tr>\n",
       "      <th>26</th>\n",
       "      <td>2484</td>\n",
       "      <td>Pierce</td>\n",
       "      <td>United States President/Vice President</td>\n",
       "      <td>Kamala D. Harris / Tim Walz</td>\n",
       "      <td>Democratic Party Nominees</td>\n",
       "      <td>235169</td>\n",
       "      <td>53.4984</td>\n",
       "      <td>Federal</td>\n",
       "    </tr>\n",
       "    <tr>\n",
       "      <th>27</th>\n",
       "      <td>2673</td>\n",
       "      <td>San Juan</td>\n",
       "      <td>United States President/Vice President</td>\n",
       "      <td>Kamala D. Harris / Tim Walz</td>\n",
       "      <td>Democratic Party Nominees</td>\n",
       "      <td>9539</td>\n",
       "      <td>73.3431</td>\n",
       "      <td>Federal</td>\n",
       "    </tr>\n",
       "    <tr>\n",
       "      <th>28</th>\n",
       "      <td>2753</td>\n",
       "      <td>Skagit</td>\n",
       "      <td>United States President/Vice President</td>\n",
       "      <td>Kamala D. Harris / Tim Walz</td>\n",
       "      <td>Democratic Party Nominees</td>\n",
       "      <td>36956</td>\n",
       "      <td>52.6019</td>\n",
       "      <td>Federal</td>\n",
       "    </tr>\n",
       "    <tr>\n",
       "      <th>29</th>\n",
       "      <td>2853</td>\n",
       "      <td>Skamania</td>\n",
       "      <td>United States President/Vice President</td>\n",
       "      <td>Kamala D. Harris / Tim Walz</td>\n",
       "      <td>Democratic Party Nominees</td>\n",
       "      <td>3147</td>\n",
       "      <td>42.7872</td>\n",
       "      <td>Federal</td>\n",
       "    </tr>\n",
       "    <tr>\n",
       "      <th>30</th>\n",
       "      <td>2941</td>\n",
       "      <td>Snohomish</td>\n",
       "      <td>United States President/Vice President</td>\n",
       "      <td>Kamala D. Harris / Tim Walz</td>\n",
       "      <td>Democratic Party Nominees</td>\n",
       "      <td>240099</td>\n",
       "      <td>57.4096</td>\n",
       "      <td>Federal</td>\n",
       "    </tr>\n",
       "    <tr>\n",
       "      <th>31</th>\n",
       "      <td>3091</td>\n",
       "      <td>Spokane</td>\n",
       "      <td>United States President/Vice President</td>\n",
       "      <td>Kamala D. Harris / Tim Walz</td>\n",
       "      <td>Democratic Party Nominees</td>\n",
       "      <td>131163</td>\n",
       "      <td>45.6883</td>\n",
       "      <td>Federal</td>\n",
       "    </tr>\n",
       "    <tr>\n",
       "      <th>32</th>\n",
       "      <td>3224</td>\n",
       "      <td>Stevens</td>\n",
       "      <td>United States President/Vice President</td>\n",
       "      <td>Kamala D. Harris / Tim Walz</td>\n",
       "      <td>Democratic Party Nominees</td>\n",
       "      <td>7492</td>\n",
       "      <td>26.5241</td>\n",
       "      <td>Federal</td>\n",
       "    </tr>\n",
       "    <tr>\n",
       "      <th>33</th>\n",
       "      <td>3310</td>\n",
       "      <td>Thurston</td>\n",
       "      <td>United States President/Vice President</td>\n",
       "      <td>Kamala D. Harris / Tim Walz</td>\n",
       "      <td>Democratic Party Nominees</td>\n",
       "      <td>95663</td>\n",
       "      <td>58.1407</td>\n",
       "      <td>Federal</td>\n",
       "    </tr>\n",
       "    <tr>\n",
       "      <th>34</th>\n",
       "      <td>3429</td>\n",
       "      <td>Wahkiakum</td>\n",
       "      <td>United States President/Vice President</td>\n",
       "      <td>Kamala D. Harris / Tim Walz</td>\n",
       "      <td>Democratic Party Nominees</td>\n",
       "      <td>1204</td>\n",
       "      <td>39.3207</td>\n",
       "      <td>Federal</td>\n",
       "    </tr>\n",
       "    <tr>\n",
       "      <th>35</th>\n",
       "      <td>3508</td>\n",
       "      <td>Walla Walla</td>\n",
       "      <td>United States President/Vice President</td>\n",
       "      <td>Kamala D. Harris / Tim Walz</td>\n",
       "      <td>Democratic Party Nominees</td>\n",
       "      <td>13106</td>\n",
       "      <td>44.3249</td>\n",
       "      <td>Federal</td>\n",
       "    </tr>\n",
       "    <tr>\n",
       "      <th>36</th>\n",
       "      <td>3593</td>\n",
       "      <td>Whatcom</td>\n",
       "      <td>United States President/Vice President</td>\n",
       "      <td>Kamala D. Harris / Tim Walz</td>\n",
       "      <td>Democratic Party Nominees</td>\n",
       "      <td>83295</td>\n",
       "      <td>60.4165</td>\n",
       "      <td>Federal</td>\n",
       "    </tr>\n",
       "    <tr>\n",
       "      <th>37</th>\n",
       "      <td>3732</td>\n",
       "      <td>Whitman</td>\n",
       "      <td>United States President/Vice President</td>\n",
       "      <td>Kamala D. Harris / Tim Walz</td>\n",
       "      <td>Democratic Party Nominees</td>\n",
       "      <td>10480</td>\n",
       "      <td>52.3294</td>\n",
       "      <td>Federal</td>\n",
       "    </tr>\n",
       "    <tr>\n",
       "      <th>38</th>\n",
       "      <td>3864</td>\n",
       "      <td>Yakima</td>\n",
       "      <td>United States President/Vice President</td>\n",
       "      <td>Kamala D. Harris / Tim Walz</td>\n",
       "      <td>Democratic Party Nominees</td>\n",
       "      <td>36706</td>\n",
       "      <td>41.3584</td>\n",
       "      <td>Federal</td>\n",
       "    </tr>\n",
       "  </tbody>\n",
       "</table>\n",
       "</div>"
      ],
      "text/plain": [
       "    index        County                                    Race  \\\n",
       "0       8         Adams  United States President/Vice President   \n",
       "1      94        Asotin  United States President/Vice President   \n",
       "2     175        Benton  United States President/Vice President   \n",
       "3     277        Chelan  United States President/Vice President   \n",
       "4     376       Clallam  United States President/Vice President   \n",
       "5     510         Clark  United States President/Vice President   \n",
       "6     625      Columbia  United States President/Vice President   \n",
       "7     704       Cowlitz  United States President/Vice President   \n",
       "8     795       Douglas  United States President/Vice President   \n",
       "9     887         Ferry  United States President/Vice President   \n",
       "10    976      Franklin  United States President/Vice President   \n",
       "11   1075      Garfield  United States President/Vice President   \n",
       "12   1148         Grant  United States President/Vice President   \n",
       "13   1235  Grays Harbor  United States President/Vice President   \n",
       "14   1333        Island  United States President/Vice President   \n",
       "15   1424     Jefferson  United States President/Vice President   \n",
       "16   1503          King  United States President/Vice President   \n",
       "17   1705        Kitsap  United States President/Vice President   \n",
       "18   1799      Kittitas  United States President/Vice President   \n",
       "19   1876     Klickitat  United States President/Vice President   \n",
       "20   1966         Lewis  United States President/Vice President   \n",
       "21   2064       Lincoln  United States President/Vice President   \n",
       "22   2144         Mason  United States President/Vice President   \n",
       "23   2226      Okanogan  United States President/Vice President   \n",
       "24   2311       Pacific  United States President/Vice President   \n",
       "25   2393  Pend Oreille  United States President/Vice President   \n",
       "26   2484        Pierce  United States President/Vice President   \n",
       "27   2673      San Juan  United States President/Vice President   \n",
       "28   2753        Skagit  United States President/Vice President   \n",
       "29   2853      Skamania  United States President/Vice President   \n",
       "30   2941     Snohomish  United States President/Vice President   \n",
       "31   3091       Spokane  United States President/Vice President   \n",
       "32   3224       Stevens  United States President/Vice President   \n",
       "33   3310      Thurston  United States President/Vice President   \n",
       "34   3429     Wahkiakum  United States President/Vice President   \n",
       "35   3508   Walla Walla  United States President/Vice President   \n",
       "36   3593       Whatcom  United States President/Vice President   \n",
       "37   3732       Whitman  United States President/Vice President   \n",
       "38   3864        Yakima  United States President/Vice President   \n",
       "\n",
       "                      Candidate                      Party   Votes  \\\n",
       "0   Kamala D. Harris / Tim Walz  Democratic Party Nominees    1455   \n",
       "1   Kamala D. Harris / Tim Walz  Democratic Party Nominees    4082   \n",
       "2   Kamala D. Harris / Tim Walz  Democratic Party Nominees   37662   \n",
       "3   Kamala D. Harris / Tim Walz  Democratic Party Nominees   18397   \n",
       "4   Kamala D. Harris / Tim Walz  Democratic Party Nominees   25440   \n",
       "5   Kamala D. Harris / Tim Walz  Democratic Party Nominees  143206   \n",
       "6   Kamala D. Harris / Tim Walz  Democratic Party Nominees     661   \n",
       "7   Kamala D. Harris / Tim Walz  Democratic Party Nominees   22825   \n",
       "8   Kamala D. Harris / Tim Walz  Democratic Party Nominees    7410   \n",
       "9   Kamala D. Harris / Tim Walz  Democratic Party Nominees    1315   \n",
       "10  Kamala D. Harris / Tim Walz  Democratic Party Nominees   11884   \n",
       "11  Kamala D. Harris / Tim Walz  Democratic Party Nominees     330   \n",
       "12  Kamala D. Harris / Tim Walz  Democratic Party Nominees   10806   \n",
       "13  Kamala D. Harris / Tim Walz  Democratic Party Nominees   17161   \n",
       "14  Kamala D. Harris / Tim Walz  Democratic Party Nominees   29595   \n",
       "15  Kamala D. Harris / Tim Walz  Democratic Party Nominees   17459   \n",
       "16  Kamala D. Harris / Tim Walz  Democratic Party Nominees  832606   \n",
       "17  Kamala D. Harris / Tim Walz  Democratic Party Nominees   91731   \n",
       "18  Kamala D. Harris / Tim Walz  Democratic Party Nominees   10810   \n",
       "19  Kamala D. Harris / Tim Walz  Democratic Party Nominees    5917   \n",
       "20  Kamala D. Harris / Tim Walz  Democratic Party Nominees   14433   \n",
       "21  Kamala D. Harris / Tim Walz  Democratic Party Nominees    1678   \n",
       "22  Kamala D. Harris / Tim Walz  Democratic Party Nominees   17215   \n",
       "23  Kamala D. Harris / Tim Walz  Democratic Party Nominees    8466   \n",
       "24  Kamala D. Harris / Tim Walz  Democratic Party Nominees    6825   \n",
       "25  Kamala D. Harris / Tim Walz  Democratic Party Nominees    2461   \n",
       "26  Kamala D. Harris / Tim Walz  Democratic Party Nominees  235169   \n",
       "27  Kamala D. Harris / Tim Walz  Democratic Party Nominees    9539   \n",
       "28  Kamala D. Harris / Tim Walz  Democratic Party Nominees   36956   \n",
       "29  Kamala D. Harris / Tim Walz  Democratic Party Nominees    3147   \n",
       "30  Kamala D. Harris / Tim Walz  Democratic Party Nominees  240099   \n",
       "31  Kamala D. Harris / Tim Walz  Democratic Party Nominees  131163   \n",
       "32  Kamala D. Harris / Tim Walz  Democratic Party Nominees    7492   \n",
       "33  Kamala D. Harris / Tim Walz  Democratic Party Nominees   95663   \n",
       "34  Kamala D. Harris / Tim Walz  Democratic Party Nominees    1204   \n",
       "35  Kamala D. Harris / Tim Walz  Democratic Party Nominees   13106   \n",
       "36  Kamala D. Harris / Tim Walz  Democratic Party Nominees   83295   \n",
       "37  Kamala D. Harris / Tim Walz  Democratic Party Nominees   10480   \n",
       "38  Kamala D. Harris / Tim Walz  Democratic Party Nominees   36706   \n",
       "\n",
       "    PercentageOfTotalVotes JurisdictionName  \n",
       "0                  27.1202          Federal  \n",
       "1                  35.5947          Federal  \n",
       "2                  37.4028          Federal  \n",
       "3                  43.6041          Federal  \n",
       "4                  52.2779          Federal  \n",
       "5                  51.7778          Federal  \n",
       "6                  26.5996          Federal  \n",
       "7                  38.4745          Federal  \n",
       "8                  34.9825          Federal  \n",
       "9                  31.9252          Federal  \n",
       "10                 37.2574          Federal  \n",
       "11                 24.4083          Federal  \n",
       "12                 29.8072          Federal  \n",
       "13                 45.4079          Federal  \n",
       "14                 56.4262          Federal  \n",
       "15                 70.6899          Federal  \n",
       "16                 73.6492          Federal  \n",
       "17                 58.4751          Federal  \n",
       "18                 40.7940          Federal  \n",
       "19                 43.4850          Federal  \n",
       "20                 31.8342          Federal  \n",
       "21                 23.4882          Federal  \n",
       "22                 46.9214          Federal  \n",
       "23                 40.8354          Federal  \n",
       "24                 47.9149          Federal  \n",
       "25                 28.8005          Federal  \n",
       "26                 53.4984          Federal  \n",
       "27                 73.3431          Federal  \n",
       "28                 52.6019          Federal  \n",
       "29                 42.7872          Federal  \n",
       "30                 57.4096          Federal  \n",
       "31                 45.6883          Federal  \n",
       "32                 26.5241          Federal  \n",
       "33                 58.1407          Federal  \n",
       "34                 39.3207          Federal  \n",
       "35                 44.3249          Federal  \n",
       "36                 60.4165          Federal  \n",
       "37                 52.3294          Federal  \n",
       "38                 41.3584          Federal  "
      ]
     },
     "execution_count": 124,
     "metadata": {},
     "output_type": "execute_result"
    }
   ],
   "source": [
    "filtered_election_data = election_data[election_data[\"Candidate\"].str.contains(\"Kamala\", case=False, na=False)].reset_index()\n",
    "filtered_election_data.head(40)"
   ]
  },
  {
   "cell_type": "markdown",
   "metadata": {},
   "source": [
    "Now we can merge this with our population and ev data:"
   ]
  },
  {
   "cell_type": "code",
   "execution_count": null,
   "metadata": {},
   "outputs": [
    {
     "data": {
      "text/html": [
       "<div>\n",
       "<style scoped>\n",
       "    .dataframe tbody tr th:only-of-type {\n",
       "        vertical-align: middle;\n",
       "    }\n",
       "\n",
       "    .dataframe tbody tr th {\n",
       "        vertical-align: top;\n",
       "    }\n",
       "\n",
       "    .dataframe thead th {\n",
       "        text-align: right;\n",
       "    }\n",
       "</style>\n",
       "<table border=\"1\" class=\"dataframe\">\n",
       "  <thead>\n",
       "    <tr style=\"text-align: right;\">\n",
       "      <th></th>\n",
       "      <th>index_x</th>\n",
       "      <th>County</th>\n",
       "      <th>Registered EVs</th>\n",
       "      <th>index_y</th>\n",
       "      <th>Line</th>\n",
       "      <th>Filter</th>\n",
       "      <th>Jurisdiction</th>\n",
       "      <th>2020 Population Census</th>\n",
       "      <th>2021 Population Estimate¹</th>\n",
       "      <th>2022 Population Estimate</th>\n",
       "      <th>2023 Population Estimate</th>\n",
       "      <th>2024 Population Estimate</th>\n",
       "      <th>Registered EVs per capita 2024</th>\n",
       "      <th>index</th>\n",
       "      <th>Race</th>\n",
       "      <th>Candidate</th>\n",
       "      <th>Party</th>\n",
       "      <th>Votes</th>\n",
       "      <th>PercentageOfTotalVotes</th>\n",
       "      <th>JurisdictionName</th>\n",
       "    </tr>\n",
       "  </thead>\n",
       "  <tbody>\n",
       "    <tr>\n",
       "      <th>0</th>\n",
       "      <td>1</td>\n",
       "      <td>Adams</td>\n",
       "      <td>72</td>\n",
       "      <td>0</td>\n",
       "      <td>1</td>\n",
       "      <td>1</td>\n",
       "      <td>Adams County</td>\n",
       "      <td>20,613</td>\n",
       "      <td>20,900</td>\n",
       "      <td>21,100</td>\n",
       "      <td>21,200</td>\n",
       "      <td>21475</td>\n",
       "      <td>0.003353</td>\n",
       "      <td>8</td>\n",
       "      <td>United States President/Vice President</td>\n",
       "      <td>Kamala D. Harris / Tim Walz</td>\n",
       "      <td>Democratic Party Nominees</td>\n",
       "      <td>1455</td>\n",
       "      <td>27.1202</td>\n",
       "      <td>Federal</td>\n",
       "    </tr>\n",
       "    <tr>\n",
       "      <th>1</th>\n",
       "      <td>11</td>\n",
       "      <td>Asotin</td>\n",
       "      <td>90</td>\n",
       "      <td>9</td>\n",
       "      <td>10</td>\n",
       "      <td>1</td>\n",
       "      <td>Asotin County</td>\n",
       "      <td>22,285</td>\n",
       "      <td>22,500</td>\n",
       "      <td>22,600</td>\n",
       "      <td>22,650</td>\n",
       "      <td>22725</td>\n",
       "      <td>0.003960</td>\n",
       "      <td>94</td>\n",
       "      <td>United States President/Vice President</td>\n",
       "      <td>Kamala D. Harris / Tim Walz</td>\n",
       "      <td>Democratic Party Nominees</td>\n",
       "      <td>4082</td>\n",
       "      <td>35.5947</td>\n",
       "      <td>Federal</td>\n",
       "    </tr>\n",
       "    <tr>\n",
       "      <th>2</th>\n",
       "      <td>16</td>\n",
       "      <td>Benton</td>\n",
       "      <td>2726</td>\n",
       "      <td>15</td>\n",
       "      <td>16</td>\n",
       "      <td>1</td>\n",
       "      <td>Benton County</td>\n",
       "      <td>206,873</td>\n",
       "      <td>209,400</td>\n",
       "      <td>212,300</td>\n",
       "      <td>215,500</td>\n",
       "      <td>217850</td>\n",
       "      <td>0.012513</td>\n",
       "      <td>175</td>\n",
       "      <td>United States President/Vice President</td>\n",
       "      <td>Kamala D. Harris / Tim Walz</td>\n",
       "      <td>Democratic Party Nominees</td>\n",
       "      <td>37662</td>\n",
       "      <td>37.4028</td>\n",
       "      <td>Federal</td>\n",
       "    </tr>\n",
       "    <tr>\n",
       "      <th>3</th>\n",
       "      <td>27</td>\n",
       "      <td>Chelan</td>\n",
       "      <td>1315</td>\n",
       "      <td>24</td>\n",
       "      <td>25</td>\n",
       "      <td>1</td>\n",
       "      <td>Chelan County</td>\n",
       "      <td>79,141</td>\n",
       "      <td>80,000</td>\n",
       "      <td>80,650</td>\n",
       "      <td>81,500</td>\n",
       "      <td>82300</td>\n",
       "      <td>0.015978</td>\n",
       "      <td>277</td>\n",
       "      <td>United States President/Vice President</td>\n",
       "      <td>Kamala D. Harris / Tim Walz</td>\n",
       "      <td>Democratic Party Nominees</td>\n",
       "      <td>18397</td>\n",
       "      <td>43.6041</td>\n",
       "      <td>Federal</td>\n",
       "    </tr>\n",
       "    <tr>\n",
       "      <th>4</th>\n",
       "      <td>33</td>\n",
       "      <td>Clallam</td>\n",
       "      <td>1297</td>\n",
       "      <td>33</td>\n",
       "      <td>34</td>\n",
       "      <td>1</td>\n",
       "      <td>Clallam County</td>\n",
       "      <td>77,155</td>\n",
       "      <td>77,750</td>\n",
       "      <td>77,625</td>\n",
       "      <td>78,075</td>\n",
       "      <td>78550</td>\n",
       "      <td>0.016512</td>\n",
       "      <td>376</td>\n",
       "      <td>United States President/Vice President</td>\n",
       "      <td>Kamala D. Harris / Tim Walz</td>\n",
       "      <td>Democratic Party Nominees</td>\n",
       "      <td>25440</td>\n",
       "      <td>52.2779</td>\n",
       "      <td>Federal</td>\n",
       "    </tr>\n",
       "  </tbody>\n",
       "</table>\n",
       "</div>"
      ],
      "text/plain": [
       "   index_x   County  Registered EVs  index_y Line Filter    Jurisdiction  \\\n",
       "0        1    Adams              72        0    1      1    Adams County   \n",
       "1       11   Asotin              90        9   10      1   Asotin County   \n",
       "2       16   Benton            2726       15   16      1   Benton County   \n",
       "3       27   Chelan            1315       24   25      1   Chelan County   \n",
       "4       33  Clallam            1297       33   34      1  Clallam County   \n",
       "\n",
       "  2020 Population Census 2021 Population Estimate¹ 2022 Population Estimate  \\\n",
       "0                 20,613                    20,900                   21,100   \n",
       "1                 22,285                    22,500                   22,600   \n",
       "2                206,873                   209,400                  212,300   \n",
       "3                 79,141                    80,000                   80,650   \n",
       "4                 77,155                    77,750                   77,625   \n",
       "\n",
       "  2023 Population Estimate  2024 Population Estimate  \\\n",
       "0                   21,200                     21475   \n",
       "1                   22,650                     22725   \n",
       "2                  215,500                    217850   \n",
       "3                   81,500                     82300   \n",
       "4                   78,075                     78550   \n",
       "\n",
       "   Registered EVs per capita 2024  index  \\\n",
       "0                        0.003353      8   \n",
       "1                        0.003960     94   \n",
       "2                        0.012513    175   \n",
       "3                        0.015978    277   \n",
       "4                        0.016512    376   \n",
       "\n",
       "                                     Race                    Candidate  \\\n",
       "0  United States President/Vice President  Kamala D. Harris / Tim Walz   \n",
       "1  United States President/Vice President  Kamala D. Harris / Tim Walz   \n",
       "2  United States President/Vice President  Kamala D. Harris / Tim Walz   \n",
       "3  United States President/Vice President  Kamala D. Harris / Tim Walz   \n",
       "4  United States President/Vice President  Kamala D. Harris / Tim Walz   \n",
       "\n",
       "                       Party  Votes  PercentageOfTotalVotes JurisdictionName  \n",
       "0  Democratic Party Nominees   1455                 27.1202          Federal  \n",
       "1  Democratic Party Nominees   4082                 35.5947          Federal  \n",
       "2  Democratic Party Nominees  37662                 37.4028          Federal  \n",
       "3  Democratic Party Nominees  18397                 43.6041          Federal  \n",
       "4  Democratic Party Nominees  25440                 52.2779          Federal  "
      ]
     },
     "execution_count": 127,
     "metadata": {},
     "output_type": "execute_result"
    }
   ],
   "source": [
    "merged_data = pd.merge(ev_and_pop_data, filtered_election_data, on=\"County\")\n",
    "merged_data.head()"
   ]
  },
  {
   "cell_type": "markdown",
   "metadata": {},
   "source": [
    "Now let's graph a scatter plot to see if our hypothesis is true, that counties with higher votes for Kamala Harris have higher EV ridership per capita"
   ]
  },
  {
   "cell_type": "code",
   "execution_count": 159,
   "metadata": {},
   "outputs": [
    {
     "data": {
      "application/vnd.plotly.v1+json": {
       "config": {
        "plotlyServerURL": "https://plot.ly"
       },
       "data": [
        {
         "customdata": [
          [
           "Adams"
          ],
          [
           "Asotin"
          ],
          [
           "Benton"
          ],
          [
           "Chelan"
          ],
          [
           "Clallam"
          ],
          [
           "Clark"
          ],
          [
           "Columbia"
          ],
          [
           "Cowlitz"
          ],
          [
           "Douglas"
          ],
          [
           "Ferry"
          ],
          [
           "Franklin"
          ],
          [
           "Garfield"
          ],
          [
           "Grant"
          ],
          [
           "Grays Harbor"
          ],
          [
           "Island"
          ],
          [
           "Jefferson"
          ],
          [
           "King"
          ],
          [
           "Kitsap"
          ],
          [
           "Kittitas"
          ],
          [
           "Klickitat"
          ],
          [
           "Lewis"
          ],
          [
           "Lincoln"
          ],
          [
           "Mason"
          ],
          [
           "Okanogan"
          ],
          [
           "Pacific"
          ],
          [
           "Pend Oreille"
          ],
          [
           "Pierce"
          ],
          [
           "San Juan"
          ],
          [
           "Skagit"
          ],
          [
           "Skamania"
          ],
          [
           "Snohomish"
          ],
          [
           "Spokane"
          ],
          [
           "Stevens"
          ],
          [
           "Thurston"
          ],
          [
           "Wahkiakum"
          ],
          [
           "Walla Walla"
          ],
          [
           "Whatcom"
          ],
          [
           "Whitman"
          ],
          [
           "Yakima"
          ]
         ],
         "hovertemplate": "Registered EVs per capita 2024=%{x}<br>PercentageOfTotalVotes=%{y}<br>County=%{customdata[0]}<extra></extra>",
         "legendgroup": "",
         "marker": {
          "color": "#636efa",
          "symbol": "circle"
         },
         "mode": "markers",
         "name": "",
         "orientation": "v",
         "showlegend": false,
         "type": "scatter",
         "x": [
          0.0033527357392316645,
          0.0039603960396039604,
          0.012513197154005049,
          0.01597812879708384,
          0.016511775938892425,
          0.024124557150848405,
          0.004528301886792453,
          0.00990342405618964,
          0.010254706533776302,
          0.004353741496598639,
          0.007556207233626588,
          0.0017204301075268817,
          0.0073884140550807215,
          0.010271317829457364,
          0.025967287084038355,
          0.03448071216617211,
          0.0463243766031706,
          0.025218455085634393,
          0.01654320987654321,
          0.015437100213219616,
          0.011571512654502649,
          0.005663716814159292,
          0.015205631715450167,
          0.007662037037037037,
          0.011022964509394571,
          0.005415162454873646,
          0.018262649590594163,
          0.05667117726657645,
          0.018357089272318078,
          0.01855072463768116,
          0.030215661400069198,
          0.010723989989274223,
          0.005519412381951731,
          0.025856677524429966,
          0.016483516483516484,
          0.008710059171597633,
          0.02203361344537815,
          0.008738461538461539,
          0.005091185410334346
         ],
         "xaxis": "x",
         "y": [
          27.1202,
          35.5947,
          37.4028,
          43.6041,
          52.2779,
          51.7778,
          26.5996,
          38.4745,
          34.9825,
          31.9252,
          37.2574,
          24.4083,
          29.8072,
          45.4079,
          56.4262,
          70.6899,
          73.6492,
          58.4751,
          40.794,
          43.485,
          31.8342,
          23.4882,
          46.9214,
          40.8354,
          47.9149,
          28.8005,
          53.4984,
          73.3431,
          52.6019,
          42.7872,
          57.4096,
          45.6883,
          26.5241,
          58.1407,
          39.3207,
          44.3249,
          60.4165,
          52.3294,
          41.3584
         ],
         "yaxis": "y"
        },
        {
         "hovertemplate": "<b>OLS trendline</b><br>PercentageOfTotalVotes = 987.221 * Registered EVs per capita 2024 + 29.1589<br>R<sup>2</sup>=0.773034<br><br>Registered EVs per capita 2024=%{x}<br>PercentageOfTotalVotes=%{y} <b>(trend)</b><extra></extra>",
         "legendgroup": "",
         "marker": {
          "color": "#636efa",
          "symbol": "circle"
         },
         "mode": "lines",
         "name": "",
         "showlegend": false,
         "type": "scatter",
         "x": [
          0.0017204301075268817,
          0.0033527357392316645,
          0.0039603960396039604,
          0.004353741496598639,
          0.004528301886792453,
          0.005091185410334346,
          0.005415162454873646,
          0.005519412381951731,
          0.005663716814159292,
          0.0073884140550807215,
          0.007556207233626588,
          0.007662037037037037,
          0.008710059171597633,
          0.008738461538461539,
          0.00990342405618964,
          0.010254706533776302,
          0.010271317829457364,
          0.010723989989274223,
          0.011022964509394571,
          0.011571512654502649,
          0.012513197154005049,
          0.015205631715450167,
          0.015437100213219616,
          0.01597812879708384,
          0.016483516483516484,
          0.016511775938892425,
          0.01654320987654321,
          0.018262649590594163,
          0.018357089272318078,
          0.01855072463768116,
          0.02203361344537815,
          0.024124557150848405,
          0.025218455085634393,
          0.025856677524429966,
          0.025967287084038355,
          0.030215661400069198,
          0.03448071216617211,
          0.0463243766031706,
          0.05667117726657645
         ],
         "xaxis": "x",
         "y": [
          30.857347945352377,
          32.46879445059901,
          33.068689499903826,
          33.4570084211384,
          33.629338115571,
          34.1850285875356,
          34.50486555070146,
          34.607783274808526,
          34.75024365015478,
          36.45290109831215,
          36.61855005884998,
          36.723027470153525,
          37.75765699869039,
          37.7856964135736,
          38.935771951802096,
          39.28256541367982,
          39.2989644347044,
          39.74585192672235,
          40.041005871086654,
          40.582544155476896,
          41.512194930609745,
          44.17022304763256,
          44.398733624671806,
          44.932848439797446,
          45.4317778101789,
          45.45967613983066,
          45.49070838525678,
          47.188175492134235,
          47.28140833536817,
          47.4725692471152,
          50.910950447493875,
          52.97517412068456,
          54.055093205608856,
          54.68515984177734,
          54.7943559290883,
          58.98844054876671,
          63.19898851125703,
          74.89130353830393,
          85.10588311560731
         ],
         "yaxis": "y"
        }
       ],
       "layout": {
        "legend": {
         "tracegroupgap": 0
        },
        "template": {
         "data": {
          "bar": [
           {
            "error_x": {
             "color": "#2a3f5f"
            },
            "error_y": {
             "color": "#2a3f5f"
            },
            "marker": {
             "line": {
              "color": "#E5ECF6",
              "width": 0.5
             },
             "pattern": {
              "fillmode": "overlay",
              "size": 10,
              "solidity": 0.2
             }
            },
            "type": "bar"
           }
          ],
          "barpolar": [
           {
            "marker": {
             "line": {
              "color": "#E5ECF6",
              "width": 0.5
             },
             "pattern": {
              "fillmode": "overlay",
              "size": 10,
              "solidity": 0.2
             }
            },
            "type": "barpolar"
           }
          ],
          "carpet": [
           {
            "aaxis": {
             "endlinecolor": "#2a3f5f",
             "gridcolor": "white",
             "linecolor": "white",
             "minorgridcolor": "white",
             "startlinecolor": "#2a3f5f"
            },
            "baxis": {
             "endlinecolor": "#2a3f5f",
             "gridcolor": "white",
             "linecolor": "white",
             "minorgridcolor": "white",
             "startlinecolor": "#2a3f5f"
            },
            "type": "carpet"
           }
          ],
          "choropleth": [
           {
            "colorbar": {
             "outlinewidth": 0,
             "ticks": ""
            },
            "type": "choropleth"
           }
          ],
          "contour": [
           {
            "colorbar": {
             "outlinewidth": 0,
             "ticks": ""
            },
            "colorscale": [
             [
              0,
              "#0d0887"
             ],
             [
              0.1111111111111111,
              "#46039f"
             ],
             [
              0.2222222222222222,
              "#7201a8"
             ],
             [
              0.3333333333333333,
              "#9c179e"
             ],
             [
              0.4444444444444444,
              "#bd3786"
             ],
             [
              0.5555555555555556,
              "#d8576b"
             ],
             [
              0.6666666666666666,
              "#ed7953"
             ],
             [
              0.7777777777777778,
              "#fb9f3a"
             ],
             [
              0.8888888888888888,
              "#fdca26"
             ],
             [
              1,
              "#f0f921"
             ]
            ],
            "type": "contour"
           }
          ],
          "contourcarpet": [
           {
            "colorbar": {
             "outlinewidth": 0,
             "ticks": ""
            },
            "type": "contourcarpet"
           }
          ],
          "heatmap": [
           {
            "colorbar": {
             "outlinewidth": 0,
             "ticks": ""
            },
            "colorscale": [
             [
              0,
              "#0d0887"
             ],
             [
              0.1111111111111111,
              "#46039f"
             ],
             [
              0.2222222222222222,
              "#7201a8"
             ],
             [
              0.3333333333333333,
              "#9c179e"
             ],
             [
              0.4444444444444444,
              "#bd3786"
             ],
             [
              0.5555555555555556,
              "#d8576b"
             ],
             [
              0.6666666666666666,
              "#ed7953"
             ],
             [
              0.7777777777777778,
              "#fb9f3a"
             ],
             [
              0.8888888888888888,
              "#fdca26"
             ],
             [
              1,
              "#f0f921"
             ]
            ],
            "type": "heatmap"
           }
          ],
          "heatmapgl": [
           {
            "colorbar": {
             "outlinewidth": 0,
             "ticks": ""
            },
            "colorscale": [
             [
              0,
              "#0d0887"
             ],
             [
              0.1111111111111111,
              "#46039f"
             ],
             [
              0.2222222222222222,
              "#7201a8"
             ],
             [
              0.3333333333333333,
              "#9c179e"
             ],
             [
              0.4444444444444444,
              "#bd3786"
             ],
             [
              0.5555555555555556,
              "#d8576b"
             ],
             [
              0.6666666666666666,
              "#ed7953"
             ],
             [
              0.7777777777777778,
              "#fb9f3a"
             ],
             [
              0.8888888888888888,
              "#fdca26"
             ],
             [
              1,
              "#f0f921"
             ]
            ],
            "type": "heatmapgl"
           }
          ],
          "histogram": [
           {
            "marker": {
             "pattern": {
              "fillmode": "overlay",
              "size": 10,
              "solidity": 0.2
             }
            },
            "type": "histogram"
           }
          ],
          "histogram2d": [
           {
            "colorbar": {
             "outlinewidth": 0,
             "ticks": ""
            },
            "colorscale": [
             [
              0,
              "#0d0887"
             ],
             [
              0.1111111111111111,
              "#46039f"
             ],
             [
              0.2222222222222222,
              "#7201a8"
             ],
             [
              0.3333333333333333,
              "#9c179e"
             ],
             [
              0.4444444444444444,
              "#bd3786"
             ],
             [
              0.5555555555555556,
              "#d8576b"
             ],
             [
              0.6666666666666666,
              "#ed7953"
             ],
             [
              0.7777777777777778,
              "#fb9f3a"
             ],
             [
              0.8888888888888888,
              "#fdca26"
             ],
             [
              1,
              "#f0f921"
             ]
            ],
            "type": "histogram2d"
           }
          ],
          "histogram2dcontour": [
           {
            "colorbar": {
             "outlinewidth": 0,
             "ticks": ""
            },
            "colorscale": [
             [
              0,
              "#0d0887"
             ],
             [
              0.1111111111111111,
              "#46039f"
             ],
             [
              0.2222222222222222,
              "#7201a8"
             ],
             [
              0.3333333333333333,
              "#9c179e"
             ],
             [
              0.4444444444444444,
              "#bd3786"
             ],
             [
              0.5555555555555556,
              "#d8576b"
             ],
             [
              0.6666666666666666,
              "#ed7953"
             ],
             [
              0.7777777777777778,
              "#fb9f3a"
             ],
             [
              0.8888888888888888,
              "#fdca26"
             ],
             [
              1,
              "#f0f921"
             ]
            ],
            "type": "histogram2dcontour"
           }
          ],
          "mesh3d": [
           {
            "colorbar": {
             "outlinewidth": 0,
             "ticks": ""
            },
            "type": "mesh3d"
           }
          ],
          "parcoords": [
           {
            "line": {
             "colorbar": {
              "outlinewidth": 0,
              "ticks": ""
             }
            },
            "type": "parcoords"
           }
          ],
          "pie": [
           {
            "automargin": true,
            "type": "pie"
           }
          ],
          "scatter": [
           {
            "fillpattern": {
             "fillmode": "overlay",
             "size": 10,
             "solidity": 0.2
            },
            "type": "scatter"
           }
          ],
          "scatter3d": [
           {
            "line": {
             "colorbar": {
              "outlinewidth": 0,
              "ticks": ""
             }
            },
            "marker": {
             "colorbar": {
              "outlinewidth": 0,
              "ticks": ""
             }
            },
            "type": "scatter3d"
           }
          ],
          "scattercarpet": [
           {
            "marker": {
             "colorbar": {
              "outlinewidth": 0,
              "ticks": ""
             }
            },
            "type": "scattercarpet"
           }
          ],
          "scattergeo": [
           {
            "marker": {
             "colorbar": {
              "outlinewidth": 0,
              "ticks": ""
             }
            },
            "type": "scattergeo"
           }
          ],
          "scattergl": [
           {
            "marker": {
             "colorbar": {
              "outlinewidth": 0,
              "ticks": ""
             }
            },
            "type": "scattergl"
           }
          ],
          "scattermapbox": [
           {
            "marker": {
             "colorbar": {
              "outlinewidth": 0,
              "ticks": ""
             }
            },
            "type": "scattermapbox"
           }
          ],
          "scatterpolar": [
           {
            "marker": {
             "colorbar": {
              "outlinewidth": 0,
              "ticks": ""
             }
            },
            "type": "scatterpolar"
           }
          ],
          "scatterpolargl": [
           {
            "marker": {
             "colorbar": {
              "outlinewidth": 0,
              "ticks": ""
             }
            },
            "type": "scatterpolargl"
           }
          ],
          "scatterternary": [
           {
            "marker": {
             "colorbar": {
              "outlinewidth": 0,
              "ticks": ""
             }
            },
            "type": "scatterternary"
           }
          ],
          "surface": [
           {
            "colorbar": {
             "outlinewidth": 0,
             "ticks": ""
            },
            "colorscale": [
             [
              0,
              "#0d0887"
             ],
             [
              0.1111111111111111,
              "#46039f"
             ],
             [
              0.2222222222222222,
              "#7201a8"
             ],
             [
              0.3333333333333333,
              "#9c179e"
             ],
             [
              0.4444444444444444,
              "#bd3786"
             ],
             [
              0.5555555555555556,
              "#d8576b"
             ],
             [
              0.6666666666666666,
              "#ed7953"
             ],
             [
              0.7777777777777778,
              "#fb9f3a"
             ],
             [
              0.8888888888888888,
              "#fdca26"
             ],
             [
              1,
              "#f0f921"
             ]
            ],
            "type": "surface"
           }
          ],
          "table": [
           {
            "cells": {
             "fill": {
              "color": "#EBF0F8"
             },
             "line": {
              "color": "white"
             }
            },
            "header": {
             "fill": {
              "color": "#C8D4E3"
             },
             "line": {
              "color": "white"
             }
            },
            "type": "table"
           }
          ]
         },
         "layout": {
          "annotationdefaults": {
           "arrowcolor": "#2a3f5f",
           "arrowhead": 0,
           "arrowwidth": 1
          },
          "autotypenumbers": "strict",
          "coloraxis": {
           "colorbar": {
            "outlinewidth": 0,
            "ticks": ""
           }
          },
          "colorscale": {
           "diverging": [
            [
             0,
             "#8e0152"
            ],
            [
             0.1,
             "#c51b7d"
            ],
            [
             0.2,
             "#de77ae"
            ],
            [
             0.3,
             "#f1b6da"
            ],
            [
             0.4,
             "#fde0ef"
            ],
            [
             0.5,
             "#f7f7f7"
            ],
            [
             0.6,
             "#e6f5d0"
            ],
            [
             0.7,
             "#b8e186"
            ],
            [
             0.8,
             "#7fbc41"
            ],
            [
             0.9,
             "#4d9221"
            ],
            [
             1,
             "#276419"
            ]
           ],
           "sequential": [
            [
             0,
             "#0d0887"
            ],
            [
             0.1111111111111111,
             "#46039f"
            ],
            [
             0.2222222222222222,
             "#7201a8"
            ],
            [
             0.3333333333333333,
             "#9c179e"
            ],
            [
             0.4444444444444444,
             "#bd3786"
            ],
            [
             0.5555555555555556,
             "#d8576b"
            ],
            [
             0.6666666666666666,
             "#ed7953"
            ],
            [
             0.7777777777777778,
             "#fb9f3a"
            ],
            [
             0.8888888888888888,
             "#fdca26"
            ],
            [
             1,
             "#f0f921"
            ]
           ],
           "sequentialminus": [
            [
             0,
             "#0d0887"
            ],
            [
             0.1111111111111111,
             "#46039f"
            ],
            [
             0.2222222222222222,
             "#7201a8"
            ],
            [
             0.3333333333333333,
             "#9c179e"
            ],
            [
             0.4444444444444444,
             "#bd3786"
            ],
            [
             0.5555555555555556,
             "#d8576b"
            ],
            [
             0.6666666666666666,
             "#ed7953"
            ],
            [
             0.7777777777777778,
             "#fb9f3a"
            ],
            [
             0.8888888888888888,
             "#fdca26"
            ],
            [
             1,
             "#f0f921"
            ]
           ]
          },
          "colorway": [
           "#636efa",
           "#EF553B",
           "#00cc96",
           "#ab63fa",
           "#FFA15A",
           "#19d3f3",
           "#FF6692",
           "#B6E880",
           "#FF97FF",
           "#FECB52"
          ],
          "font": {
           "color": "#2a3f5f"
          },
          "geo": {
           "bgcolor": "white",
           "lakecolor": "white",
           "landcolor": "#E5ECF6",
           "showlakes": true,
           "showland": true,
           "subunitcolor": "white"
          },
          "hoverlabel": {
           "align": "left"
          },
          "hovermode": "closest",
          "mapbox": {
           "style": "light"
          },
          "paper_bgcolor": "white",
          "plot_bgcolor": "#E5ECF6",
          "polar": {
           "angularaxis": {
            "gridcolor": "white",
            "linecolor": "white",
            "ticks": ""
           },
           "bgcolor": "#E5ECF6",
           "radialaxis": {
            "gridcolor": "white",
            "linecolor": "white",
            "ticks": ""
           }
          },
          "scene": {
           "xaxis": {
            "backgroundcolor": "#E5ECF6",
            "gridcolor": "white",
            "gridwidth": 2,
            "linecolor": "white",
            "showbackground": true,
            "ticks": "",
            "zerolinecolor": "white"
           },
           "yaxis": {
            "backgroundcolor": "#E5ECF6",
            "gridcolor": "white",
            "gridwidth": 2,
            "linecolor": "white",
            "showbackground": true,
            "ticks": "",
            "zerolinecolor": "white"
           },
           "zaxis": {
            "backgroundcolor": "#E5ECF6",
            "gridcolor": "white",
            "gridwidth": 2,
            "linecolor": "white",
            "showbackground": true,
            "ticks": "",
            "zerolinecolor": "white"
           }
          },
          "shapedefaults": {
           "line": {
            "color": "#2a3f5f"
           }
          },
          "ternary": {
           "aaxis": {
            "gridcolor": "white",
            "linecolor": "white",
            "ticks": ""
           },
           "baxis": {
            "gridcolor": "white",
            "linecolor": "white",
            "ticks": ""
           },
           "bgcolor": "#E5ECF6",
           "caxis": {
            "gridcolor": "white",
            "linecolor": "white",
            "ticks": ""
           }
          },
          "title": {
           "x": 0.05
          },
          "xaxis": {
           "automargin": true,
           "gridcolor": "white",
           "linecolor": "white",
           "ticks": "",
           "title": {
            "standoff": 15
           },
           "zerolinecolor": "white",
           "zerolinewidth": 2
          },
          "yaxis": {
           "automargin": true,
           "gridcolor": "white",
           "linecolor": "white",
           "ticks": "",
           "title": {
            "standoff": 15
           },
           "zerolinecolor": "white",
           "zerolinewidth": 2
          }
         }
        },
        "title": {
         "text": "Registered EVs per Capita 2024 vs Percentage of Total Votes for Kamala Harris by County"
        },
        "xaxis": {
         "anchor": "y",
         "domain": [
          0,
          1
         ],
         "title": {
          "text": "Registered EVs per capita 2024"
         }
        },
        "yaxis": {
         "anchor": "x",
         "domain": [
          0,
          1
         ],
         "title": {
          "text": "Percentage of Votes for Kamala Harris"
         }
        }
       }
      },
      "text/html": [
       "<div>                            <div id=\"8e414f22-db87-4be1-bfb9-0d6f278090b9\" class=\"plotly-graph-div\" style=\"height:525px; width:100%;\"></div>            <script type=\"text/javascript\">                require([\"plotly\"], function(Plotly) {                    window.PLOTLYENV=window.PLOTLYENV || {};                                    if (document.getElementById(\"8e414f22-db87-4be1-bfb9-0d6f278090b9\")) {                    Plotly.newPlot(                        \"8e414f22-db87-4be1-bfb9-0d6f278090b9\",                        [{\"customdata\":[[\"Adams\"],[\"Asotin\"],[\"Benton\"],[\"Chelan\"],[\"Clallam\"],[\"Clark\"],[\"Columbia\"],[\"Cowlitz\"],[\"Douglas\"],[\"Ferry\"],[\"Franklin\"],[\"Garfield\"],[\"Grant\"],[\"Grays Harbor\"],[\"Island\"],[\"Jefferson\"],[\"King\"],[\"Kitsap\"],[\"Kittitas\"],[\"Klickitat\"],[\"Lewis\"],[\"Lincoln\"],[\"Mason\"],[\"Okanogan\"],[\"Pacific\"],[\"Pend Oreille\"],[\"Pierce\"],[\"San Juan\"],[\"Skagit\"],[\"Skamania\"],[\"Snohomish\"],[\"Spokane\"],[\"Stevens\"],[\"Thurston\"],[\"Wahkiakum\"],[\"Walla Walla\"],[\"Whatcom\"],[\"Whitman\"],[\"Yakima\"]],\"hovertemplate\":\"Registered EVs per capita 2024=%{x}\\u003cbr\\u003ePercentageOfTotalVotes=%{y}\\u003cbr\\u003eCounty=%{customdata[0]}\\u003cextra\\u003e\\u003c\\u002fextra\\u003e\",\"legendgroup\":\"\",\"marker\":{\"color\":\"#636efa\",\"symbol\":\"circle\"},\"mode\":\"markers\",\"name\":\"\",\"orientation\":\"v\",\"showlegend\":false,\"x\":[0.0033527357392316645,0.0039603960396039604,0.012513197154005049,0.01597812879708384,0.016511775938892425,0.024124557150848405,0.004528301886792453,0.00990342405618964,0.010254706533776302,0.004353741496598639,0.007556207233626588,0.0017204301075268817,0.0073884140550807215,0.010271317829457364,0.025967287084038355,0.03448071216617211,0.0463243766031706,0.025218455085634393,0.01654320987654321,0.015437100213219616,0.011571512654502649,0.005663716814159292,0.015205631715450167,0.007662037037037037,0.011022964509394571,0.005415162454873646,0.018262649590594163,0.05667117726657645,0.018357089272318078,0.01855072463768116,0.030215661400069198,0.010723989989274223,0.005519412381951731,0.025856677524429966,0.016483516483516484,0.008710059171597633,0.02203361344537815,0.008738461538461539,0.005091185410334346],\"xaxis\":\"x\",\"y\":[27.1202,35.5947,37.4028,43.6041,52.2779,51.7778,26.5996,38.4745,34.9825,31.9252,37.2574,24.4083,29.8072,45.4079,56.4262,70.6899,73.6492,58.4751,40.794,43.485,31.8342,23.4882,46.9214,40.8354,47.9149,28.8005,53.4984,73.3431,52.6019,42.7872,57.4096,45.6883,26.5241,58.1407,39.3207,44.3249,60.4165,52.3294,41.3584],\"yaxis\":\"y\",\"type\":\"scatter\"},{\"hovertemplate\":\"\\u003cb\\u003eOLS trendline\\u003c\\u002fb\\u003e\\u003cbr\\u003ePercentageOfTotalVotes = 987.221 * Registered EVs per capita 2024 + 29.1589\\u003cbr\\u003eR\\u003csup\\u003e2\\u003c\\u002fsup\\u003e=0.773034\\u003cbr\\u003e\\u003cbr\\u003eRegistered EVs per capita 2024=%{x}\\u003cbr\\u003ePercentageOfTotalVotes=%{y} \\u003cb\\u003e(trend)\\u003c\\u002fb\\u003e\\u003cextra\\u003e\\u003c\\u002fextra\\u003e\",\"legendgroup\":\"\",\"marker\":{\"color\":\"#636efa\",\"symbol\":\"circle\"},\"mode\":\"lines\",\"name\":\"\",\"showlegend\":false,\"x\":[0.0017204301075268817,0.0033527357392316645,0.0039603960396039604,0.004353741496598639,0.004528301886792453,0.005091185410334346,0.005415162454873646,0.005519412381951731,0.005663716814159292,0.0073884140550807215,0.007556207233626588,0.007662037037037037,0.008710059171597633,0.008738461538461539,0.00990342405618964,0.010254706533776302,0.010271317829457364,0.010723989989274223,0.011022964509394571,0.011571512654502649,0.012513197154005049,0.015205631715450167,0.015437100213219616,0.01597812879708384,0.016483516483516484,0.016511775938892425,0.01654320987654321,0.018262649590594163,0.018357089272318078,0.01855072463768116,0.02203361344537815,0.024124557150848405,0.025218455085634393,0.025856677524429966,0.025967287084038355,0.030215661400069198,0.03448071216617211,0.0463243766031706,0.05667117726657645],\"xaxis\":\"x\",\"y\":[30.857347945352377,32.46879445059901,33.068689499903826,33.4570084211384,33.629338115571,34.1850285875356,34.50486555070146,34.607783274808526,34.75024365015478,36.45290109831215,36.61855005884998,36.723027470153525,37.75765699869039,37.7856964135736,38.935771951802096,39.28256541367982,39.2989644347044,39.74585192672235,40.041005871086654,40.582544155476896,41.512194930609745,44.17022304763256,44.398733624671806,44.932848439797446,45.4317778101789,45.45967613983066,45.49070838525678,47.188175492134235,47.28140833536817,47.4725692471152,50.910950447493875,52.97517412068456,54.055093205608856,54.68515984177734,54.7943559290883,58.98844054876671,63.19898851125703,74.89130353830393,85.10588311560731],\"yaxis\":\"y\",\"type\":\"scatter\"}],                        {\"template\":{\"data\":{\"histogram2dcontour\":[{\"type\":\"histogram2dcontour\",\"colorbar\":{\"outlinewidth\":0,\"ticks\":\"\"},\"colorscale\":[[0.0,\"#0d0887\"],[0.1111111111111111,\"#46039f\"],[0.2222222222222222,\"#7201a8\"],[0.3333333333333333,\"#9c179e\"],[0.4444444444444444,\"#bd3786\"],[0.5555555555555556,\"#d8576b\"],[0.6666666666666666,\"#ed7953\"],[0.7777777777777778,\"#fb9f3a\"],[0.8888888888888888,\"#fdca26\"],[1.0,\"#f0f921\"]]}],\"choropleth\":[{\"type\":\"choropleth\",\"colorbar\":{\"outlinewidth\":0,\"ticks\":\"\"}}],\"histogram2d\":[{\"type\":\"histogram2d\",\"colorbar\":{\"outlinewidth\":0,\"ticks\":\"\"},\"colorscale\":[[0.0,\"#0d0887\"],[0.1111111111111111,\"#46039f\"],[0.2222222222222222,\"#7201a8\"],[0.3333333333333333,\"#9c179e\"],[0.4444444444444444,\"#bd3786\"],[0.5555555555555556,\"#d8576b\"],[0.6666666666666666,\"#ed7953\"],[0.7777777777777778,\"#fb9f3a\"],[0.8888888888888888,\"#fdca26\"],[1.0,\"#f0f921\"]]}],\"heatmap\":[{\"type\":\"heatmap\",\"colorbar\":{\"outlinewidth\":0,\"ticks\":\"\"},\"colorscale\":[[0.0,\"#0d0887\"],[0.1111111111111111,\"#46039f\"],[0.2222222222222222,\"#7201a8\"],[0.3333333333333333,\"#9c179e\"],[0.4444444444444444,\"#bd3786\"],[0.5555555555555556,\"#d8576b\"],[0.6666666666666666,\"#ed7953\"],[0.7777777777777778,\"#fb9f3a\"],[0.8888888888888888,\"#fdca26\"],[1.0,\"#f0f921\"]]}],\"heatmapgl\":[{\"type\":\"heatmapgl\",\"colorbar\":{\"outlinewidth\":0,\"ticks\":\"\"},\"colorscale\":[[0.0,\"#0d0887\"],[0.1111111111111111,\"#46039f\"],[0.2222222222222222,\"#7201a8\"],[0.3333333333333333,\"#9c179e\"],[0.4444444444444444,\"#bd3786\"],[0.5555555555555556,\"#d8576b\"],[0.6666666666666666,\"#ed7953\"],[0.7777777777777778,\"#fb9f3a\"],[0.8888888888888888,\"#fdca26\"],[1.0,\"#f0f921\"]]}],\"contourcarpet\":[{\"type\":\"contourcarpet\",\"colorbar\":{\"outlinewidth\":0,\"ticks\":\"\"}}],\"contour\":[{\"type\":\"contour\",\"colorbar\":{\"outlinewidth\":0,\"ticks\":\"\"},\"colorscale\":[[0.0,\"#0d0887\"],[0.1111111111111111,\"#46039f\"],[0.2222222222222222,\"#7201a8\"],[0.3333333333333333,\"#9c179e\"],[0.4444444444444444,\"#bd3786\"],[0.5555555555555556,\"#d8576b\"],[0.6666666666666666,\"#ed7953\"],[0.7777777777777778,\"#fb9f3a\"],[0.8888888888888888,\"#fdca26\"],[1.0,\"#f0f921\"]]}],\"surface\":[{\"type\":\"surface\",\"colorbar\":{\"outlinewidth\":0,\"ticks\":\"\"},\"colorscale\":[[0.0,\"#0d0887\"],[0.1111111111111111,\"#46039f\"],[0.2222222222222222,\"#7201a8\"],[0.3333333333333333,\"#9c179e\"],[0.4444444444444444,\"#bd3786\"],[0.5555555555555556,\"#d8576b\"],[0.6666666666666666,\"#ed7953\"],[0.7777777777777778,\"#fb9f3a\"],[0.8888888888888888,\"#fdca26\"],[1.0,\"#f0f921\"]]}],\"mesh3d\":[{\"type\":\"mesh3d\",\"colorbar\":{\"outlinewidth\":0,\"ticks\":\"\"}}],\"scatter\":[{\"fillpattern\":{\"fillmode\":\"overlay\",\"size\":10,\"solidity\":0.2},\"type\":\"scatter\"}],\"parcoords\":[{\"type\":\"parcoords\",\"line\":{\"colorbar\":{\"outlinewidth\":0,\"ticks\":\"\"}}}],\"scatterpolargl\":[{\"type\":\"scatterpolargl\",\"marker\":{\"colorbar\":{\"outlinewidth\":0,\"ticks\":\"\"}}}],\"bar\":[{\"error_x\":{\"color\":\"#2a3f5f\"},\"error_y\":{\"color\":\"#2a3f5f\"},\"marker\":{\"line\":{\"color\":\"#E5ECF6\",\"width\":0.5},\"pattern\":{\"fillmode\":\"overlay\",\"size\":10,\"solidity\":0.2}},\"type\":\"bar\"}],\"scattergeo\":[{\"type\":\"scattergeo\",\"marker\":{\"colorbar\":{\"outlinewidth\":0,\"ticks\":\"\"}}}],\"scatterpolar\":[{\"type\":\"scatterpolar\",\"marker\":{\"colorbar\":{\"outlinewidth\":0,\"ticks\":\"\"}}}],\"histogram\":[{\"marker\":{\"pattern\":{\"fillmode\":\"overlay\",\"size\":10,\"solidity\":0.2}},\"type\":\"histogram\"}],\"scattergl\":[{\"type\":\"scattergl\",\"marker\":{\"colorbar\":{\"outlinewidth\":0,\"ticks\":\"\"}}}],\"scatter3d\":[{\"type\":\"scatter3d\",\"line\":{\"colorbar\":{\"outlinewidth\":0,\"ticks\":\"\"}},\"marker\":{\"colorbar\":{\"outlinewidth\":0,\"ticks\":\"\"}}}],\"scattermapbox\":[{\"type\":\"scattermapbox\",\"marker\":{\"colorbar\":{\"outlinewidth\":0,\"ticks\":\"\"}}}],\"scatterternary\":[{\"type\":\"scatterternary\",\"marker\":{\"colorbar\":{\"outlinewidth\":0,\"ticks\":\"\"}}}],\"scattercarpet\":[{\"type\":\"scattercarpet\",\"marker\":{\"colorbar\":{\"outlinewidth\":0,\"ticks\":\"\"}}}],\"carpet\":[{\"aaxis\":{\"endlinecolor\":\"#2a3f5f\",\"gridcolor\":\"white\",\"linecolor\":\"white\",\"minorgridcolor\":\"white\",\"startlinecolor\":\"#2a3f5f\"},\"baxis\":{\"endlinecolor\":\"#2a3f5f\",\"gridcolor\":\"white\",\"linecolor\":\"white\",\"minorgridcolor\":\"white\",\"startlinecolor\":\"#2a3f5f\"},\"type\":\"carpet\"}],\"table\":[{\"cells\":{\"fill\":{\"color\":\"#EBF0F8\"},\"line\":{\"color\":\"white\"}},\"header\":{\"fill\":{\"color\":\"#C8D4E3\"},\"line\":{\"color\":\"white\"}},\"type\":\"table\"}],\"barpolar\":[{\"marker\":{\"line\":{\"color\":\"#E5ECF6\",\"width\":0.5},\"pattern\":{\"fillmode\":\"overlay\",\"size\":10,\"solidity\":0.2}},\"type\":\"barpolar\"}],\"pie\":[{\"automargin\":true,\"type\":\"pie\"}]},\"layout\":{\"autotypenumbers\":\"strict\",\"colorway\":[\"#636efa\",\"#EF553B\",\"#00cc96\",\"#ab63fa\",\"#FFA15A\",\"#19d3f3\",\"#FF6692\",\"#B6E880\",\"#FF97FF\",\"#FECB52\"],\"font\":{\"color\":\"#2a3f5f\"},\"hovermode\":\"closest\",\"hoverlabel\":{\"align\":\"left\"},\"paper_bgcolor\":\"white\",\"plot_bgcolor\":\"#E5ECF6\",\"polar\":{\"bgcolor\":\"#E5ECF6\",\"angularaxis\":{\"gridcolor\":\"white\",\"linecolor\":\"white\",\"ticks\":\"\"},\"radialaxis\":{\"gridcolor\":\"white\",\"linecolor\":\"white\",\"ticks\":\"\"}},\"ternary\":{\"bgcolor\":\"#E5ECF6\",\"aaxis\":{\"gridcolor\":\"white\",\"linecolor\":\"white\",\"ticks\":\"\"},\"baxis\":{\"gridcolor\":\"white\",\"linecolor\":\"white\",\"ticks\":\"\"},\"caxis\":{\"gridcolor\":\"white\",\"linecolor\":\"white\",\"ticks\":\"\"}},\"coloraxis\":{\"colorbar\":{\"outlinewidth\":0,\"ticks\":\"\"}},\"colorscale\":{\"sequential\":[[0.0,\"#0d0887\"],[0.1111111111111111,\"#46039f\"],[0.2222222222222222,\"#7201a8\"],[0.3333333333333333,\"#9c179e\"],[0.4444444444444444,\"#bd3786\"],[0.5555555555555556,\"#d8576b\"],[0.6666666666666666,\"#ed7953\"],[0.7777777777777778,\"#fb9f3a\"],[0.8888888888888888,\"#fdca26\"],[1.0,\"#f0f921\"]],\"sequentialminus\":[[0.0,\"#0d0887\"],[0.1111111111111111,\"#46039f\"],[0.2222222222222222,\"#7201a8\"],[0.3333333333333333,\"#9c179e\"],[0.4444444444444444,\"#bd3786\"],[0.5555555555555556,\"#d8576b\"],[0.6666666666666666,\"#ed7953\"],[0.7777777777777778,\"#fb9f3a\"],[0.8888888888888888,\"#fdca26\"],[1.0,\"#f0f921\"]],\"diverging\":[[0,\"#8e0152\"],[0.1,\"#c51b7d\"],[0.2,\"#de77ae\"],[0.3,\"#f1b6da\"],[0.4,\"#fde0ef\"],[0.5,\"#f7f7f7\"],[0.6,\"#e6f5d0\"],[0.7,\"#b8e186\"],[0.8,\"#7fbc41\"],[0.9,\"#4d9221\"],[1,\"#276419\"]]},\"xaxis\":{\"gridcolor\":\"white\",\"linecolor\":\"white\",\"ticks\":\"\",\"title\":{\"standoff\":15},\"zerolinecolor\":\"white\",\"automargin\":true,\"zerolinewidth\":2},\"yaxis\":{\"gridcolor\":\"white\",\"linecolor\":\"white\",\"ticks\":\"\",\"title\":{\"standoff\":15},\"zerolinecolor\":\"white\",\"automargin\":true,\"zerolinewidth\":2},\"scene\":{\"xaxis\":{\"backgroundcolor\":\"#E5ECF6\",\"gridcolor\":\"white\",\"linecolor\":\"white\",\"showbackground\":true,\"ticks\":\"\",\"zerolinecolor\":\"white\",\"gridwidth\":2},\"yaxis\":{\"backgroundcolor\":\"#E5ECF6\",\"gridcolor\":\"white\",\"linecolor\":\"white\",\"showbackground\":true,\"ticks\":\"\",\"zerolinecolor\":\"white\",\"gridwidth\":2},\"zaxis\":{\"backgroundcolor\":\"#E5ECF6\",\"gridcolor\":\"white\",\"linecolor\":\"white\",\"showbackground\":true,\"ticks\":\"\",\"zerolinecolor\":\"white\",\"gridwidth\":2}},\"shapedefaults\":{\"line\":{\"color\":\"#2a3f5f\"}},\"annotationdefaults\":{\"arrowcolor\":\"#2a3f5f\",\"arrowhead\":0,\"arrowwidth\":1},\"geo\":{\"bgcolor\":\"white\",\"landcolor\":\"#E5ECF6\",\"subunitcolor\":\"white\",\"showland\":true,\"showlakes\":true,\"lakecolor\":\"white\"},\"title\":{\"x\":0.05},\"mapbox\":{\"style\":\"light\"}}},\"xaxis\":{\"anchor\":\"y\",\"domain\":[0.0,1.0],\"title\":{\"text\":\"Registered EVs per capita 2024\"}},\"yaxis\":{\"anchor\":\"x\",\"domain\":[0.0,1.0],\"title\":{\"text\":\"Percentage of Votes for Kamala Harris\"}},\"legend\":{\"tracegroupgap\":0},\"title\":{\"text\":\"Registered EVs per Capita 2024 vs Percentage of Total Votes for Kamala Harris by County\"}},                        {\"responsive\": true}                    ).then(function(){\n",
       "                            \n",
       "var gd = document.getElementById('8e414f22-db87-4be1-bfb9-0d6f278090b9');\n",
       "var x = new MutationObserver(function (mutations, observer) {{\n",
       "        var display = window.getComputedStyle(gd).display;\n",
       "        if (!display || display === 'none') {{\n",
       "            console.log([gd, 'removed!']);\n",
       "            Plotly.purge(gd);\n",
       "            observer.disconnect();\n",
       "        }}\n",
       "}});\n",
       "\n",
       "// Listen for the removal of the full notebook cells\n",
       "var notebookContainer = gd.closest('#notebook-container');\n",
       "if (notebookContainer) {{\n",
       "    x.observe(notebookContainer, {childList: true});\n",
       "}}\n",
       "\n",
       "// Listen for the clearing of the current output cell\n",
       "var outputEl = gd.closest('.output');\n",
       "if (outputEl) {{\n",
       "    x.observe(outputEl, {childList: true});\n",
       "}}\n",
       "\n",
       "                        })                };                });            </script>        </div>"
      ]
     },
     "metadata": {},
     "output_type": "display_data"
    }
   ],
   "source": [
    "fig = px.scatter(\n",
    "    merged_data,\n",
    "    x = \"Registered EVs per capita 2024\",\n",
    "    y = \"PercentageOfTotalVotes\",\n",
    "    title = \"Registered EVs per Capita 2024 vs Percentage of Total Votes for Kamala Harris by County\",\n",
    "    hover_data={'County': True},\n",
    "    trendline = \"ols\"\n",
    ")\n",
    "\n",
    "fig.update_layout(\n",
    "    yaxis_title=\"Percentage of Votes for Kamala Harris\"\n",
    ")\n",
    "fig.show()"
   ]
  },
  {
   "cell_type": "markdown",
   "metadata": {},
   "source": [
    "Looks like a strong positive correlation, let's see what the correlation is exactly:"
   ]
  },
  {
   "cell_type": "code",
   "execution_count": null,
   "metadata": {},
   "outputs": [
    {
     "data": {
      "text/plain": [
       "0.8792233075325347"
      ]
     },
     "execution_count": 135,
     "metadata": {},
     "output_type": "execute_result"
    }
   ],
   "source": [
    "correlation = merged_data['Registered EVs per capita 2024'].corr(merged_data['PercentageOfTotalVotes'])\n",
    "correlation"
   ]
  },
  {
   "cell_type": "markdown",
   "metadata": {},
   "source": [
    "There is a 0.88 correlation between voting for Kamala Harris and EV ridership in Washington State. 0.88 is very strong, so my hypothesis was correct!"
   ]
  }
 ],
 "metadata": {
  "kernelspec": {
   "display_name": "base",
   "language": "python",
   "name": "python3"
  },
  "language_info": {
   "codemirror_mode": {
    "name": "ipython",
    "version": 3
   },
   "file_extension": ".py",
   "mimetype": "text/x-python",
   "name": "python",
   "nbconvert_exporter": "python",
   "pygments_lexer": "ipython3",
   "version": "3.12.2"
  }
 },
 "nbformat": 4,
 "nbformat_minor": 2
}
